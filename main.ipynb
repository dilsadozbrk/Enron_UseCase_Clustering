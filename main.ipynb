{
 "cells": [
  {
   "cell_type": "code",
   "execution_count": 1,
   "metadata": {},
   "outputs": [],
   "source": [
    "import pandas as pd \n",
    "import os\n",
    "from email.parser import Parser"
   ]
  },
  {
   "cell_type": "code",
   "execution_count": 2,
   "metadata": {},
   "outputs": [],
   "source": [
    "root = '/home/dilsad/Downloads/maildir/'\n",
    "folder_name = os.listdir(root)\n",
    "to_email = []\n",
    "from_email = []\n",
    "email_body = []\n",
    "directory = []\n",
    "date = []\n",
    "subject = []\n",
    "errors = []\n",
    "\n",
    "\n",
    "def analysis(input_file, to_email, from_email, email_body):\n",
    "    \n",
    "    with open(input_file, 'r', encoding='utf-8') as f:\n",
    "        try:\n",
    "            data = f.read()\n",
    "            email = Parser().parsestr(data)\n",
    "            date.append(email['Date'])\n",
    "            subject.append(email['subject'])\n",
    "            to_email.append(email['to'])\n",
    "            from_email.append(email['from'])\n",
    "            directory.append(input_file)\n",
    "            if email.get_content_type == 'text/plain':\n",
    "                email_body.append(email.get_payload())\n",
    "            else:\n",
    "                email_body.append('')\n",
    "        except:\n",
    "            errors.append(input_file)\n",
    "\n",
    "\n",
    "for name in folder_name:\n",
    "    direct = f'{root}{name}'\n",
    "    for dir, folders, filenames in os.walk(direct):\n",
    "        for filename in filenames:\n",
    "            input_file = os.path.join(dir, filename)\n",
    "            analysis(input_file, to_email, from_email, email_body)\n",
    "\n",
    "dictionary = {'Directory' : directory, 'From' : from_email, 'To' : to_email, 'Body' : email_body, 'Date': date, 'Subject': subject}\n",
    "data_frame = pd.DataFrame(dictionary)\n",
    "data_frame.to_csv('emails.csv', index=False)\n"
   ]
  },
  {
   "cell_type": "code",
   "execution_count": 2,
   "metadata": {},
   "outputs": [],
   "source": [
    "df = pd.read_csv('/home/dilsad/Downloads/emails.csv')"
   ]
  },
  {
   "cell_type": "code",
   "execution_count": 3,
   "metadata": {},
   "outputs": [
    {
     "data": {
      "text/plain": [
       "(517311, 6)"
      ]
     },
     "execution_count": 3,
     "metadata": {},
     "output_type": "execute_result"
    }
   ],
   "source": [
    "df.shape"
   ]
  },
  {
   "cell_type": "code",
   "execution_count": 4,
   "metadata": {},
   "outputs": [
    {
     "data": {
      "text/html": [
       "<div>\n",
       "<style scoped>\n",
       "    .dataframe tbody tr th:only-of-type {\n",
       "        vertical-align: middle;\n",
       "    }\n",
       "\n",
       "    .dataframe tbody tr th {\n",
       "        vertical-align: top;\n",
       "    }\n",
       "\n",
       "    .dataframe thead th {\n",
       "        text-align: right;\n",
       "    }\n",
       "</style>\n",
       "<table border=\"1\" class=\"dataframe\">\n",
       "  <thead>\n",
       "    <tr style=\"text-align: right;\">\n",
       "      <th></th>\n",
       "      <th>Directory</th>\n",
       "      <th>From</th>\n",
       "      <th>To</th>\n",
       "      <th>Body</th>\n",
       "      <th>Date</th>\n",
       "      <th>Subject</th>\n",
       "    </tr>\n",
       "  </thead>\n",
       "  <tbody>\n",
       "    <tr>\n",
       "      <th>517306</th>\n",
       "      <td>/home/dilsad/Downloads/maildir/lenhart-m/notes...</td>\n",
       "      <td>christa.winfrey@enron.com</td>\n",
       "      <td>matthew.lenhart@enron.com</td>\n",
       "      <td>NaN</td>\n",
       "      <td>Tue, 8 May 2001 10:16:00 -0700 (PDT)</td>\n",
       "      <td>RE: Children Books</td>\n",
       "    </tr>\n",
       "    <tr>\n",
       "      <th>517307</th>\n",
       "      <td>/home/dilsad/Downloads/maildir/lenhart-m/notes...</td>\n",
       "      <td>clcs@email.msn.com</td>\n",
       "      <td>matthew.lenhart@enron.com</td>\n",
       "      <td>NaN</td>\n",
       "      <td>Wed, 2 May 2001 03:28:00 -0700 (PDT)</td>\n",
       "      <td>Re: checking email</td>\n",
       "    </tr>\n",
       "    <tr>\n",
       "      <th>517308</th>\n",
       "      <td>/home/dilsad/Downloads/maildir/lenhart-m/notes...</td>\n",
       "      <td>harris_jennifer_r@lilly.com</td>\n",
       "      <td>matthew.lenhart@enron.com</td>\n",
       "      <td>NaN</td>\n",
       "      <td>Thu, 15 Feb 2001 11:08:00 -0800 (PST)</td>\n",
       "      <td>Re: Best Man</td>\n",
       "    </tr>\n",
       "    <tr>\n",
       "      <th>517309</th>\n",
       "      <td>/home/dilsad/Downloads/maildir/lenhart-m/notes...</td>\n",
       "      <td>jarx@pge.com</td>\n",
       "      <td>matthew.lenhart@enron.com</td>\n",
       "      <td>NaN</td>\n",
       "      <td>Tue, 1 May 2001 01:57:00 -0700 (PDT)</td>\n",
       "      <td>FW:</td>\n",
       "    </tr>\n",
       "    <tr>\n",
       "      <th>517310</th>\n",
       "      <td>/home/dilsad/Downloads/maildir/lenhart-m/notes...</td>\n",
       "      <td>travel@support.expedia.com</td>\n",
       "      <td>matthew.lenhart@enron.com</td>\n",
       "      <td>NaN</td>\n",
       "      <td>Tue, 1 May 2001 06:56:00 -0700 (PDT)</td>\n",
       "      <td>EXPEDIA Ticket Confirmation</td>\n",
       "    </tr>\n",
       "  </tbody>\n",
       "</table>\n",
       "</div>"
      ],
      "text/plain": [
       "                                                Directory  \\\n",
       "517306  /home/dilsad/Downloads/maildir/lenhart-m/notes...   \n",
       "517307  /home/dilsad/Downloads/maildir/lenhart-m/notes...   \n",
       "517308  /home/dilsad/Downloads/maildir/lenhart-m/notes...   \n",
       "517309  /home/dilsad/Downloads/maildir/lenhart-m/notes...   \n",
       "517310  /home/dilsad/Downloads/maildir/lenhart-m/notes...   \n",
       "\n",
       "                               From                         To  Body  \\\n",
       "517306    christa.winfrey@enron.com  matthew.lenhart@enron.com   NaN   \n",
       "517307           clcs@email.msn.com  matthew.lenhart@enron.com   NaN   \n",
       "517308  harris_jennifer_r@lilly.com  matthew.lenhart@enron.com   NaN   \n",
       "517309                 jarx@pge.com  matthew.lenhart@enron.com   NaN   \n",
       "517310   travel@support.expedia.com  matthew.lenhart@enron.com   NaN   \n",
       "\n",
       "                                         Date                      Subject  \n",
       "517306   Tue, 8 May 2001 10:16:00 -0700 (PDT)           RE: Children Books  \n",
       "517307   Wed, 2 May 2001 03:28:00 -0700 (PDT)           Re: checking email  \n",
       "517308  Thu, 15 Feb 2001 11:08:00 -0800 (PST)                 Re: Best Man  \n",
       "517309   Tue, 1 May 2001 01:57:00 -0700 (PDT)                          FW:  \n",
       "517310   Tue, 1 May 2001 06:56:00 -0700 (PDT)  EXPEDIA Ticket Confirmation  "
      ]
     },
     "execution_count": 4,
     "metadata": {},
     "output_type": "execute_result"
    }
   ],
   "source": [
    "df.tail()"
   ]
  },
  {
   "cell_type": "code",
   "execution_count": null,
   "metadata": {},
   "outputs": [],
   "source": []
  }
 ],
 "metadata": {
  "interpreter": {
   "hash": "31f2aee4e71d21fbe5cf8b01ff0e069b9275f58929596ceb00d14d90e3e16cd6"
  },
  "kernelspec": {
   "display_name": "Python 3.8.10 64-bit",
   "language": "python",
   "name": "python3"
  },
  "language_info": {
   "codemirror_mode": {
    "name": "ipython",
    "version": 3
   },
   "file_extension": ".py",
   "mimetype": "text/x-python",
   "name": "python",
   "nbconvert_exporter": "python",
   "pygments_lexer": "ipython3",
   "version": "3.8.10"
  },
  "orig_nbformat": 4
 },
 "nbformat": 4,
 "nbformat_minor": 2
}
