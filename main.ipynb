{
 "cells": [
  {
   "cell_type": "code",
   "execution_count": 1,
   "metadata": {},
   "outputs": [],
   "source": [
    "import pandas as pd \n",
    "import os\n",
    "from email.parser import Parser"
   ]
  },
  {
   "cell_type": "code",
   "execution_count": 2,
   "metadata": {},
   "outputs": [],
   "source": [
    "root = '/home/dilsad/Downloads/maildir/'\n",
    "folder_name = os.listdir(root)\n",
    "to_email = []\n",
    "from_email = []\n",
    "email_body = []\n",
    "directory = []\n",
    "date = []\n",
    "subject = []\n",
    "errors = []\n",
    "\n",
    "\n",
    "def analysis(input_file, to_email, from_email, email_body):\n",
    "    \n",
    "    with open(input_file, 'r', encoding='utf-8') as f:\n",
    "        try:\n",
    "            data = f.read()\n",
    "            email = Parser().parsestr(data)\n",
    "            date.append(email['Date'])\n",
    "            subject.append(email['subject'])\n",
    "            to_email.append(email['to'])\n",
    "            from_email.append(email['from'])\n",
    "            directory.append(input_file)\n",
    "            if email.get_content_type == 'text/plain':\n",
    "                email_body.append(email.get_payload())\n",
    "            else:\n",
    "                email_body.append('')\n",
    "        except:\n",
    "            errors.append(input_file)\n",
    "\n",
    "\n",
    "for name in folder_name:\n",
    "    direct = f'{root}{name}'\n",
    "    for dir, folders, filenames in os.walk(direct):\n",
    "        for filename in filenames:\n",
    "            input_file = os.path.join(dir, filename)\n",
    "            analysis(input_file, to_email, from_email, email_body)\n",
    "\n",
    "dictionary = {'Directory' : directory, 'From' : from_email, 'To' : to_email, 'Body' : email_body, 'Date': date, 'Subject': subject}\n",
    "data_frame = pd.DataFrame(dictionary)\n",
    "data_frame.to_csv('emails.csv', index=False)\n"
   ]
  },
  {
   "cell_type": "code",
   "execution_count": 2,
   "metadata": {},
   "outputs": [],
   "source": [
    "df = pd.read_csv('/home/dilsad/Downloads/emails.csv')"
   ]
  },
  {
   "cell_type": "code",
   "execution_count": 3,
   "metadata": {},
   "outputs": [
    {
     "data": {
      "text/plain": [
       "(517311, 6)"
      ]
     },
     "execution_count": 3,
     "metadata": {},
     "output_type": "execute_result"
    }
   ],
   "source": [
    "df.shape"
   ]
  },
  {
   "cell_type": "code",
   "execution_count": 9,
   "metadata": {},
   "outputs": [
    {
     "data": {
      "text/html": [
       "<div>\n",
       "<style scoped>\n",
       "    .dataframe tbody tr th:only-of-type {\n",
       "        vertical-align: middle;\n",
       "    }\n",
       "\n",
       "    .dataframe tbody tr th {\n",
       "        vertical-align: top;\n",
       "    }\n",
       "\n",
       "    .dataframe thead th {\n",
       "        text-align: right;\n",
       "    }\n",
       "</style>\n",
       "<table border=\"1\" class=\"dataframe\">\n",
       "  <thead>\n",
       "    <tr style=\"text-align: right;\">\n",
       "      <th></th>\n",
       "      <th>Directory</th>\n",
       "      <th>From</th>\n",
       "      <th>To</th>\n",
       "      <th>Body</th>\n",
       "      <th>Date</th>\n",
       "      <th>Subject</th>\n",
       "    </tr>\n",
       "  </thead>\n",
       "  <tbody>\n",
       "    <tr>\n",
       "      <th>87682</th>\n",
       "      <td>/home/dilsad/Downloads/maildir/dasovich-j/all_...</td>\n",
       "      <td>steven@iepa.com</td>\n",
       "      <td>wfhall2@duke-energy.com, wscobee@caithnessener...</td>\n",
       "      <td>To:??? ??? IEP  Membership\\nFrom:??? Jan  Smut...</td>\n",
       "      <td>Thu, 28 Dec 2000 04:19:00 -0800 (PST)</td>\n",
       "      <td>IEP Year 2001 Membership Dues</td>\n",
       "    </tr>\n",
       "    <tr>\n",
       "      <th>87683</th>\n",
       "      <td>/home/dilsad/Downloads/maildir/dasovich-j/all_...</td>\n",
       "      <td>jeff.dasovich@enron.com</td>\n",
       "      <td>lysa.akin@enron.com</td>\n",
       "      <td>yes.  do we have a call-in number yet?</td>\n",
       "      <td>Tue, 12 Dec 2000 03:40:00 -0800 (PST)</td>\n",
       "      <td>Re: Conference Call re: Gas Curtailment and Di...</td>\n",
       "    </tr>\n",
       "    <tr>\n",
       "      <th>87684</th>\n",
       "      <td>/home/dilsad/Downloads/maildir/dasovich-j/all_...</td>\n",
       "      <td>jeff.dasovich@enron.com</td>\n",
       "      <td>7409949@skytel.com</td>\n",
       "      <td>are u serious?  jeff\\n\\n\\n\\n\\t7409949@skytel.c...</td>\n",
       "      <td>Fri, 27 Apr 2001 07:19:00 -0700 (PDT)</td>\n",
       "      <td>Re:</td>\n",
       "    </tr>\n",
       "    <tr>\n",
       "      <th>87685</th>\n",
       "      <td>/home/dilsad/Downloads/maildir/dasovich-j/all_...</td>\n",
       "      <td>athomas@newenergy.com</td>\n",
       "      <td>mday@gmssr.com</td>\n",
       "      <td>I will be working on edits from the car over t...</td>\n",
       "      <td>Mon, 26 Mar 2001 05:40:00 -0800 (PST)</td>\n",
       "      <td>Re: Proposed Amendments for AB 21X</td>\n",
       "    </tr>\n",
       "    <tr>\n",
       "      <th>87686</th>\n",
       "      <td>/home/dilsad/Downloads/maildir/dasovich-j/all_...</td>\n",
       "      <td>jeff.dasovich@enron.com</td>\n",
       "      <td>karen.denne@enron.com, mpalmer@enron.com</td>\n",
       "      <td>----- Forwarded by Jeff Dasovich/NA/Enron on 0...</td>\n",
       "      <td>Thu, 26 Jul 2001 11:11:00 -0700 (PDT)</td>\n",
       "      <td>Power-Market Bear Mauls Plans For New Generato...</td>\n",
       "    </tr>\n",
       "  </tbody>\n",
       "</table>\n",
       "</div>"
      ],
      "text/plain": [
       "                                               Directory  \\\n",
       "87682  /home/dilsad/Downloads/maildir/dasovich-j/all_...   \n",
       "87683  /home/dilsad/Downloads/maildir/dasovich-j/all_...   \n",
       "87684  /home/dilsad/Downloads/maildir/dasovich-j/all_...   \n",
       "87685  /home/dilsad/Downloads/maildir/dasovich-j/all_...   \n",
       "87686  /home/dilsad/Downloads/maildir/dasovich-j/all_...   \n",
       "\n",
       "                          From  \\\n",
       "87682          steven@iepa.com   \n",
       "87683  jeff.dasovich@enron.com   \n",
       "87684  jeff.dasovich@enron.com   \n",
       "87685    athomas@newenergy.com   \n",
       "87686  jeff.dasovich@enron.com   \n",
       "\n",
       "                                                      To  \\\n",
       "87682  wfhall2@duke-energy.com, wscobee@caithnessener...   \n",
       "87683                                lysa.akin@enron.com   \n",
       "87684                                 7409949@skytel.com   \n",
       "87685                                     mday@gmssr.com   \n",
       "87686           karen.denne@enron.com, mpalmer@enron.com   \n",
       "\n",
       "                                                    Body  \\\n",
       "87682  To:??? ??? IEP  Membership\\nFrom:??? Jan  Smut...   \n",
       "87683             yes.  do we have a call-in number yet?   \n",
       "87684  are u serious?  jeff\\n\\n\\n\\n\\t7409949@skytel.c...   \n",
       "87685  I will be working on edits from the car over t...   \n",
       "87686  ----- Forwarded by Jeff Dasovich/NA/Enron on 0...   \n",
       "\n",
       "                                        Date  \\\n",
       "87682  Thu, 28 Dec 2000 04:19:00 -0800 (PST)   \n",
       "87683  Tue, 12 Dec 2000 03:40:00 -0800 (PST)   \n",
       "87684  Fri, 27 Apr 2001 07:19:00 -0700 (PDT)   \n",
       "87685  Mon, 26 Mar 2001 05:40:00 -0800 (PST)   \n",
       "87686  Thu, 26 Jul 2001 11:11:00 -0700 (PDT)   \n",
       "\n",
       "                                                 Subject  \n",
       "87682                      IEP Year 2001 Membership Dues  \n",
       "87683  Re: Conference Call re: Gas Curtailment and Di...  \n",
       "87684                                                Re:  \n",
       "87685                 Re: Proposed Amendments for AB 21X  \n",
       "87686  Power-Market Bear Mauls Plans For New Generato...  "
      ]
     },
     "execution_count": 9,
     "metadata": {},
     "output_type": "execute_result"
    }
   ],
   "source": [
    "df.tail()"
   ]
  }
 ],
 "metadata": {
  "interpreter": {
   "hash": "31f2aee4e71d21fbe5cf8b01ff0e069b9275f58929596ceb00d14d90e3e16cd6"
  },
  "kernelspec": {
   "display_name": "Python 3.8.10 64-bit",
   "language": "python",
   "name": "python3"
  },
  "language_info": {
   "codemirror_mode": {
    "name": "ipython",
    "version": 3
   },
   "file_extension": ".py",
   "mimetype": "text/x-python",
   "name": "python",
   "nbconvert_exporter": "python",
   "pygments_lexer": "ipython3",
   "version": "3.8.10"
  },
  "orig_nbformat": 4
 },
 "nbformat": 4,
 "nbformat_minor": 2
}
