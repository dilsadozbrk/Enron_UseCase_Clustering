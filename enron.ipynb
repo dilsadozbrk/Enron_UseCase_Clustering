{
 "cells": [
  {
   "cell_type": "code",
   "execution_count": 1,
   "metadata": {},
   "outputs": [],
   "source": [
    "import pandas as pd\n",
    "import numpy as np\n"
   ]
  },
  {
   "cell_type": "code",
   "execution_count": 2,
   "metadata": {},
   "outputs": [],
   "source": [
    "emails = pd.read_csv(\"emails-small.csv\")"
   ]
  },
  {
   "cell_type": "code",
   "execution_count": 3,
   "metadata": {},
   "outputs": [],
   "source": [
    "#emails = pd.read_csv(\"emails.csv\")\n",
    "#df = emails.iloc[0:1000,:]\n",
    "#df.to_csv(\"emails-small.csv\")"
   ]
  },
  {
   "cell_type": "code",
   "execution_count": 4,
   "metadata": {},
   "outputs": [
    {
     "data": {
      "text/plain": [
       "(1000, 3)"
      ]
     },
     "execution_count": 4,
     "metadata": {},
     "output_type": "execute_result"
    }
   ],
   "source": [
    "emails.shape"
   ]
  },
  {
   "cell_type": "code",
   "execution_count": 29,
   "metadata": {},
   "outputs": [],
   "source": [
    "email = emails[\"message\"][600].split(\"\\n\")"
   ]
  },
  {
   "cell_type": "code",
   "execution_count": 30,
   "metadata": {},
   "outputs": [
    {
     "data": {
      "text/plain": [
       "['Message-ID: <23615201.1075855687408.JavaMail.evans@thyme>',\n",
       " 'Date: Fri, 20 Oct 2000 03:06:00 -0700 (PDT)',\n",
       " 'From: phillip.allen@enron.com',\n",
       " 'To: stagecoachmama@hotmail.com',\n",
       " 'Subject: ',\n",
       " 'Mime-Version: 1.0',\n",
       " 'Content-Type: text/plain; charset=us-ascii',\n",
       " 'Content-Transfer-Encoding: 7bit',\n",
       " 'X-From: Phillip K Allen',\n",
       " 'X-To: stagecoachmama@hotmail.com',\n",
       " 'X-cc: ',\n",
       " 'X-bcc: ',\n",
       " \"X-Folder: \\\\Phillip_Allen_Dec2000\\\\Notes Folders\\\\'sent mail\",\n",
       " 'X-Origin: Allen-P',\n",
       " 'X-FileName: pallen.nsf',\n",
       " '',\n",
       " 'Lucy,',\n",
       " '',\n",
       " '       Here are the actual utility bills versus the cap.  Did we collect ',\n",
       " \"these overages?  Let's discuss further?  Remember these bills were paid in \",\n",
       " 'July and August.  The usage dates are much earlier.  I have the bills but I ',\n",
       " 'can get them to you if need be.',\n",
       " '',\n",
       " 'Philip']"
      ]
     },
     "execution_count": 30,
     "metadata": {},
     "output_type": "execute_result"
    }
   ],
   "source": [
    "email"
   ]
  },
  {
   "cell_type": "code",
   "execution_count": 37,
   "metadata": {},
   "outputs": [],
   "source": [
    "end = False\n",
    "message = []\n",
    "\n",
    "for iteration,part in enumerate(email):\n",
    "    if end == False:\n",
    "        if part.find(\":\"):\n",
    "            if part.startswith(\"Date:\"):\n",
    "                Date = part.split(\": \")[1]\n",
    "            if part.startswith(\"From:\"):\n",
    "                From = part.split(\": \")[1]\n",
    "            if part.startswith(\"To:\"):\n",
    "                To = part.split(\": \")[1]\n",
    "            if part.startswith(\"Subject:\"):\n",
    "                Subject = part.split(\": \")[1]\n",
    "            if part.startswith(\"X-FileName:\"):\n",
    "                end = True\n",
    "    else:\n",
    "        message.append(part)\n",
    "\n",
    "Message = \"\\n\".join(message)\n",
    "                \n"
   ]
  },
  {
   "cell_type": "code",
   "execution_count": 38,
   "metadata": {},
   "outputs": [
    {
     "name": "stdout",
     "output_type": "stream",
     "text": [
      "Fri, 20 Oct 2000 03:06:00 -0700 (PDT)\n",
      "phillip.allen@enron.com\n",
      "stagecoachmama@hotmail.com\n",
      "\n",
      "\n",
      "Lucy,\n",
      "\n",
      "       Here are the actual utility bills versus the cap.  Did we collect \n",
      "these overages?  Let's discuss further?  Remember these bills were paid in \n",
      "July and August.  The usage dates are much earlier.  I have the bills but I \n",
      "can get them to you if need be.\n",
      "\n",
      "Philip\n"
     ]
    }
   ],
   "source": [
    "print(Date)\n",
    "print(From)\n",
    "print(To)\n",
    "print(Subject)\n",
    "print(Message)"
   ]
  },
  {
   "cell_type": "code",
   "execution_count": 31,
   "metadata": {},
   "outputs": [],
   "source": []
  },
  {
   "cell_type": "code",
   "execution_count": 35,
   "metadata": {},
   "outputs": [],
   "source": [
    "message = \"\\n\".join(message)"
   ]
  },
  {
   "cell_type": "code",
   "execution_count": 36,
   "metadata": {},
   "outputs": [
    {
     "data": {
      "text/plain": [
       "\"\\nLucy,\\n\\n       Here are the actual utility bills versus the cap.  Did we collect \\nthese overages?  Let's discuss further?  Remember these bills were paid in \\nJuly and August.  The usage dates are much earlier.  I have the bills but I \\ncan get them to you if need be.\\n\\nPhilip\""
      ]
     },
     "execution_count": 36,
     "metadata": {},
     "output_type": "execute_result"
    }
   ],
   "source": [
    "message"
   ]
  },
  {
   "cell_type": "code",
   "execution_count": null,
   "metadata": {},
   "outputs": [],
   "source": []
  }
 ],
 "metadata": {
  "interpreter": {
   "hash": "e9df97daa290dfd3cd02d5f2ff8fe0247f3f522b78648144b1dd8fb7dd96829b"
  },
  "kernelspec": {
   "display_name": "Python 3.8.10 ('env-clustering': venv)",
   "language": "python",
   "name": "python3"
  },
  "language_info": {
   "codemirror_mode": {
    "name": "ipython",
    "version": 3
   },
   "file_extension": ".py",
   "mimetype": "text/x-python",
   "name": "python",
   "nbconvert_exporter": "python",
   "pygments_lexer": "ipython3",
   "version": "3.8.10"
  },
  "orig_nbformat": 4
 },
 "nbformat": 4,
 "nbformat_minor": 2
}
