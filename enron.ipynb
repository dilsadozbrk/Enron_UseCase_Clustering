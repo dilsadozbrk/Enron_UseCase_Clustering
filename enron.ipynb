{
 "cells": [
  {
   "cell_type": "code",
   "execution_count": 1,
   "metadata": {},
   "outputs": [],
   "source": [
    "import pandas as pd\n",
    "import numpy as np\n"
   ]
  },
  {
   "cell_type": "code",
   "execution_count": 55,
   "metadata": {},
   "outputs": [
    {
     "ename": "TypeError",
     "evalue": "read_csv() got an unexpected keyword argument 'index'",
     "output_type": "error",
     "traceback": [
      "\u001b[0;31m---------------------------------------------------------------------------\u001b[0m",
      "\u001b[0;31mTypeError\u001b[0m                                 Traceback (most recent call last)",
      "\u001b[1;32m/home/becode/Fortune/Projects/Enron_UseCase_Clustering/enron.ipynb Cell 2'\u001b[0m in \u001b[0;36m<cell line: 1>\u001b[0;34m()\u001b[0m\n\u001b[0;32m----> <a href='vscode-notebook-cell:/home/becode/Fortune/Projects/Enron_UseCase_Clustering/enron.ipynb#ch0000008?line=0'>1</a>\u001b[0m emails \u001b[39m=\u001b[39m pd\u001b[39m.\u001b[39;49mread_csv(\u001b[39m\"\u001b[39;49m\u001b[39memails-small.csv\u001b[39;49m\u001b[39m\"\u001b[39;49m,index\u001b[39m=\u001b[39;49m\u001b[39mFalse\u001b[39;49;00m  )\n",
      "File \u001b[0;32m~/Fortune/Projects/Enron_UseCase_Clustering/env-clustering/lib/python3.8/site-packages/pandas/util/_decorators.py:311\u001b[0m, in \u001b[0;36mdeprecate_nonkeyword_arguments.<locals>.decorate.<locals>.wrapper\u001b[0;34m(*args, **kwargs)\u001b[0m\n\u001b[1;32m    <a href='file:///home/becode/Fortune/Projects/Enron_UseCase_Clustering/env-clustering/lib/python3.8/site-packages/pandas/util/_decorators.py?line=304'>305</a>\u001b[0m \u001b[39mif\u001b[39;00m \u001b[39mlen\u001b[39m(args) \u001b[39m>\u001b[39m num_allow_args:\n\u001b[1;32m    <a href='file:///home/becode/Fortune/Projects/Enron_UseCase_Clustering/env-clustering/lib/python3.8/site-packages/pandas/util/_decorators.py?line=305'>306</a>\u001b[0m     warnings\u001b[39m.\u001b[39mwarn(\n\u001b[1;32m    <a href='file:///home/becode/Fortune/Projects/Enron_UseCase_Clustering/env-clustering/lib/python3.8/site-packages/pandas/util/_decorators.py?line=306'>307</a>\u001b[0m         msg\u001b[39m.\u001b[39mformat(arguments\u001b[39m=\u001b[39marguments),\n\u001b[1;32m    <a href='file:///home/becode/Fortune/Projects/Enron_UseCase_Clustering/env-clustering/lib/python3.8/site-packages/pandas/util/_decorators.py?line=307'>308</a>\u001b[0m         \u001b[39mFutureWarning\u001b[39;00m,\n\u001b[1;32m    <a href='file:///home/becode/Fortune/Projects/Enron_UseCase_Clustering/env-clustering/lib/python3.8/site-packages/pandas/util/_decorators.py?line=308'>309</a>\u001b[0m         stacklevel\u001b[39m=\u001b[39mstacklevel,\n\u001b[1;32m    <a href='file:///home/becode/Fortune/Projects/Enron_UseCase_Clustering/env-clustering/lib/python3.8/site-packages/pandas/util/_decorators.py?line=309'>310</a>\u001b[0m     )\n\u001b[0;32m--> <a href='file:///home/becode/Fortune/Projects/Enron_UseCase_Clustering/env-clustering/lib/python3.8/site-packages/pandas/util/_decorators.py?line=310'>311</a>\u001b[0m \u001b[39mreturn\u001b[39;00m func(\u001b[39m*\u001b[39;49margs, \u001b[39m*\u001b[39;49m\u001b[39m*\u001b[39;49mkwargs)\n",
      "\u001b[0;31mTypeError\u001b[0m: read_csv() got an unexpected keyword argument 'index'"
     ]
    }
   ],
   "source": [
    "emails = pd.read_csv(\"emails-small.csv\")"
   ]
  },
  {
   "cell_type": "code",
   "execution_count": 3,
   "metadata": {},
   "outputs": [],
   "source": [
    "#emails = pd.read_csv(\"emails.csv\")\n",
    "#df = emails.iloc[0:1000,:]\n",
    "#df.to_csv(\"emails-small.csv\")"
   ]
  },
  {
   "cell_type": "code",
   "execution_count": 54,
   "metadata": {},
   "outputs": [
    {
     "data": {
      "text/html": [
       "<div>\n",
       "<style scoped>\n",
       "    .dataframe tbody tr th:only-of-type {\n",
       "        vertical-align: middle;\n",
       "    }\n",
       "\n",
       "    .dataframe tbody tr th {\n",
       "        vertical-align: top;\n",
       "    }\n",
       "\n",
       "    .dataframe thead th {\n",
       "        text-align: right;\n",
       "    }\n",
       "</style>\n",
       "<table border=\"1\" class=\"dataframe\">\n",
       "  <thead>\n",
       "    <tr style=\"text-align: right;\">\n",
       "      <th></th>\n",
       "      <th>Unnamed: 0</th>\n",
       "      <th>file</th>\n",
       "      <th>message</th>\n",
       "    </tr>\n",
       "  </thead>\n",
       "  <tbody>\n",
       "    <tr>\n",
       "      <th>0</th>\n",
       "      <td>0</td>\n",
       "      <td>allen-p/_sent_mail/1.</td>\n",
       "      <td>Message-ID: &lt;18782981.1075855378110.JavaMail.e...</td>\n",
       "    </tr>\n",
       "    <tr>\n",
       "      <th>1</th>\n",
       "      <td>1</td>\n",
       "      <td>allen-p/_sent_mail/10.</td>\n",
       "      <td>Message-ID: &lt;15464986.1075855378456.JavaMail.e...</td>\n",
       "    </tr>\n",
       "    <tr>\n",
       "      <th>2</th>\n",
       "      <td>2</td>\n",
       "      <td>allen-p/_sent_mail/100.</td>\n",
       "      <td>Message-ID: &lt;24216240.1075855687451.JavaMail.e...</td>\n",
       "    </tr>\n",
       "    <tr>\n",
       "      <th>3</th>\n",
       "      <td>3</td>\n",
       "      <td>allen-p/_sent_mail/1000.</td>\n",
       "      <td>Message-ID: &lt;13505866.1075863688222.JavaMail.e...</td>\n",
       "    </tr>\n",
       "    <tr>\n",
       "      <th>4</th>\n",
       "      <td>4</td>\n",
       "      <td>allen-p/_sent_mail/1001.</td>\n",
       "      <td>Message-ID: &lt;30922949.1075863688243.JavaMail.e...</td>\n",
       "    </tr>\n",
       "    <tr>\n",
       "      <th>...</th>\n",
       "      <td>...</td>\n",
       "      <td>...</td>\n",
       "      <td>...</td>\n",
       "    </tr>\n",
       "    <tr>\n",
       "      <th>995</th>\n",
       "      <td>995</td>\n",
       "      <td>allen-p/all_documents/458.</td>\n",
       "      <td>Message-ID: &lt;20430828.1075855696096.JavaMail.e...</td>\n",
       "    </tr>\n",
       "    <tr>\n",
       "      <th>996</th>\n",
       "      <td>996</td>\n",
       "      <td>allen-p/all_documents/459.</td>\n",
       "      <td>Message-ID: &lt;18425275.1075855696118.JavaMail.e...</td>\n",
       "    </tr>\n",
       "    <tr>\n",
       "      <th>997</th>\n",
       "      <td>997</td>\n",
       "      <td>allen-p/all_documents/46.</td>\n",
       "      <td>Message-ID: &lt;24036204.1075855666506.JavaMail.e...</td>\n",
       "    </tr>\n",
       "    <tr>\n",
       "      <th>998</th>\n",
       "      <td>998</td>\n",
       "      <td>allen-p/all_documents/460.</td>\n",
       "      <td>Message-ID: &lt;33307764.1075855696139.JavaMail.e...</td>\n",
       "    </tr>\n",
       "    <tr>\n",
       "      <th>999</th>\n",
       "      <td>999</td>\n",
       "      <td>allen-p/all_documents/461.</td>\n",
       "      <td>Message-ID: &lt;15009418.1075855696162.JavaMail.e...</td>\n",
       "    </tr>\n",
       "  </tbody>\n",
       "</table>\n",
       "<p>1000 rows × 3 columns</p>\n",
       "</div>"
      ],
      "text/plain": [
       "     Unnamed: 0                        file  \\\n",
       "0             0       allen-p/_sent_mail/1.   \n",
       "1             1      allen-p/_sent_mail/10.   \n",
       "2             2     allen-p/_sent_mail/100.   \n",
       "3             3    allen-p/_sent_mail/1000.   \n",
       "4             4    allen-p/_sent_mail/1001.   \n",
       "..          ...                         ...   \n",
       "995         995  allen-p/all_documents/458.   \n",
       "996         996  allen-p/all_documents/459.   \n",
       "997         997   allen-p/all_documents/46.   \n",
       "998         998  allen-p/all_documents/460.   \n",
       "999         999  allen-p/all_documents/461.   \n",
       "\n",
       "                                               message  \n",
       "0    Message-ID: <18782981.1075855378110.JavaMail.e...  \n",
       "1    Message-ID: <15464986.1075855378456.JavaMail.e...  \n",
       "2    Message-ID: <24216240.1075855687451.JavaMail.e...  \n",
       "3    Message-ID: <13505866.1075863688222.JavaMail.e...  \n",
       "4    Message-ID: <30922949.1075863688243.JavaMail.e...  \n",
       "..                                                 ...  \n",
       "995  Message-ID: <20430828.1075855696096.JavaMail.e...  \n",
       "996  Message-ID: <18425275.1075855696118.JavaMail.e...  \n",
       "997  Message-ID: <24036204.1075855666506.JavaMail.e...  \n",
       "998  Message-ID: <33307764.1075855696139.JavaMail.e...  \n",
       "999  Message-ID: <15009418.1075855696162.JavaMail.e...  \n",
       "\n",
       "[1000 rows x 3 columns]"
      ]
     },
     "execution_count": 54,
     "metadata": {},
     "output_type": "execute_result"
    }
   ],
   "source": [
    "emails"
   ]
  },
  {
   "cell_type": "code",
   "execution_count": 4,
   "metadata": {},
   "outputs": [
    {
     "data": {
      "text/plain": [
       "(1000, 3)"
      ]
     },
     "execution_count": 4,
     "metadata": {},
     "output_type": "execute_result"
    }
   ],
   "source": [
    "emails.shape"
   ]
  },
  {
   "cell_type": "code",
   "execution_count": 29,
   "metadata": {},
   "outputs": [],
   "source": [
    "email = emails[\"message\"][600].split(\"\\n\")"
   ]
  },
  {
   "cell_type": "code",
   "execution_count": 43,
   "metadata": {},
   "outputs": [
    {
     "data": {
      "text/plain": [
       "0      Message-ID: <18782981.1075855378110.JavaMail.e...\n",
       "1      Message-ID: <15464986.1075855378456.JavaMail.e...\n",
       "2      Message-ID: <24216240.1075855687451.JavaMail.e...\n",
       "3      Message-ID: <13505866.1075863688222.JavaMail.e...\n",
       "4      Message-ID: <30922949.1075863688243.JavaMail.e...\n",
       "                             ...                        \n",
       "995    Message-ID: <20430828.1075855696096.JavaMail.e...\n",
       "996    Message-ID: <18425275.1075855696118.JavaMail.e...\n",
       "997    Message-ID: <24036204.1075855666506.JavaMail.e...\n",
       "998    Message-ID: <33307764.1075855696139.JavaMail.e...\n",
       "999    Message-ID: <15009418.1075855696162.JavaMail.e...\n",
       "Name: message, Length: 1000, dtype: object"
      ]
     },
     "execution_count": 43,
     "metadata": {},
     "output_type": "execute_result"
    }
   ],
   "source": [
    "emails[\"message\"]"
   ]
  },
  {
   "cell_type": "code",
   "execution_count": 30,
   "metadata": {},
   "outputs": [
    {
     "data": {
      "text/plain": [
       "['Message-ID: <23615201.1075855687408.JavaMail.evans@thyme>',\n",
       " 'Date: Fri, 20 Oct 2000 03:06:00 -0700 (PDT)',\n",
       " 'From: phillip.allen@enron.com',\n",
       " 'To: stagecoachmama@hotmail.com',\n",
       " 'Subject: ',\n",
       " 'Mime-Version: 1.0',\n",
       " 'Content-Type: text/plain; charset=us-ascii',\n",
       " 'Content-Transfer-Encoding: 7bit',\n",
       " 'X-From: Phillip K Allen',\n",
       " 'X-To: stagecoachmama@hotmail.com',\n",
       " 'X-cc: ',\n",
       " 'X-bcc: ',\n",
       " \"X-Folder: \\\\Phillip_Allen_Dec2000\\\\Notes Folders\\\\'sent mail\",\n",
       " 'X-Origin: Allen-P',\n",
       " 'X-FileName: pallen.nsf',\n",
       " '',\n",
       " 'Lucy,',\n",
       " '',\n",
       " '       Here are the actual utility bills versus the cap.  Did we collect ',\n",
       " \"these overages?  Let's discuss further?  Remember these bills were paid in \",\n",
       " 'July and August.  The usage dates are much earlier.  I have the bills but I ',\n",
       " 'can get them to you if need be.',\n",
       " '',\n",
       " 'Philip']"
      ]
     },
     "execution_count": 30,
     "metadata": {},
     "output_type": "execute_result"
    }
   ],
   "source": [
    "email"
   ]
  },
  {
   "cell_type": "code",
   "execution_count": 45,
   "metadata": {},
   "outputs": [],
   "source": [
    "def create_variables(data_message):\n",
    "    email = data_message.split(\"\\n\")\n",
    "    end = False\n",
    "    message = []\n",
    "\n",
    "    for iteration,part in enumerate(email):\n",
    "        if end == False:\n",
    "            if part.find(\":\"):\n",
    "                if part.startswith(\"Date:\"):\n",
    "                    Date = part.split(\": \")[1]\n",
    "                if part.startswith(\"From:\"):\n",
    "                    From = part.split(\": \")[1]\n",
    "                if part.startswith(\"To:\"):\n",
    "                    To = part.split(\": \")[1]\n",
    "                if part.startswith(\"Subject:\"):\n",
    "                    Subject = part.split(\": \")[1]\n",
    "                if part.startswith(\"X-FileName:\"):\n",
    "                    end = True\n",
    "        else:\n",
    "            message.append(part)\n",
    "\n",
    "    Message = \"\\n\".join(message)\n",
    "\n",
    "    return From,To,Date, Subject, Message\n",
    "                \n"
   ]
  },
  {
   "cell_type": "code",
   "execution_count": 48,
   "metadata": {},
   "outputs": [],
   "source": [
    "From,To,Date, Subject, Message = create_variables(emails[\"message\"][500])"
   ]
  },
  {
   "cell_type": "code",
   "execution_count": 49,
   "metadata": {},
   "outputs": [
    {
     "name": "stdout",
     "output_type": "stream",
     "text": [
      "Thu, 25 Jan 2001 00:17:00 -0800 (PST)\n",
      "phillip.allen@enron.com\n",
      "mike.grigsby@enron.com\n",
      "Re\n",
      "\n",
      "---------------------- Forwarded by Phillip K Allen/HOU/ECT on 01/25/2001 \n",
      "08:17 AM ---------------------------\n",
      "From: Leslie Lawner@ENRON on 01/24/2001 08:17 PM CST\n",
      "To: MBD <MDay@GMSSR.com>\n",
      "cc: Harry Kingerski/NA/Enron@Enron, Jeff Dasovich/NA/Enron@Enron, James D \n",
      "Steffes/NA/Enron@Enron, Phillip K Allen/HOU/ECT@ECT, Don Black/HOU/EES@EES, \n",
      "James Shirley/HOU/EES@EES, Frank Ermis/HOU/ECT@ECT, Paul Kaufman/PDX/ECT@ECT \n",
      "Subject: Re: Draft of Opposition to ORA/TURN petition  \n",
      "\n",
      "Everything is short and sweet except the caption!  One comment.  The very \n",
      "last sentence reads :  PG&E can continue to physically divert gas if \n",
      "necessary . . . \"  SInce they haven't actually begun to divert yet, let's \n",
      "change that sentence to read \"PG&E has the continuing right to physically \n",
      "divert gas if necessary...\"  \n",
      "\n",
      "I will send this around for comment.  Thanks for your promptness.\n",
      "\n",
      "Any comments, anyone?\n",
      "\n",
      "\n",
      "\n",
      "\tMBD <MDay@GMSSR.com>\n",
      "\t01/24/2001 03:47 PM\n",
      "\t\t \n",
      "\t\t To: \"'llawner@enron.com'\" <llawner@enron.com>\n",
      "\t\t cc: \n",
      "\t\t Subject: Draft of Opposition to ORA/TURN petition\n",
      "\n",
      "\n",
      "Leslie:\n",
      "\n",
      "Here is the draft.  Short and sweet.  Let me know what you think.  We will\n",
      "be ready to file on Friday.  Mike Day\n",
      "\n",
      " <<X20292.DOC>>\n",
      "\n",
      " - X20292.DOC\n",
      "\n",
      "\n",
      "\n"
     ]
    }
   ],
   "source": [
    "print(Date)\n",
    "print(From)\n",
    "print(To)\n",
    "print(Subject)\n",
    "print(Message)"
   ]
  },
  {
   "cell_type": "code",
   "execution_count": 51,
   "metadata": {},
   "outputs": [
    {
     "data": {
      "text/html": [
       "<div>\n",
       "<style scoped>\n",
       "    .dataframe tbody tr th:only-of-type {\n",
       "        vertical-align: middle;\n",
       "    }\n",
       "\n",
       "    .dataframe tbody tr th {\n",
       "        vertical-align: top;\n",
       "    }\n",
       "\n",
       "    .dataframe thead th {\n",
       "        text-align: right;\n",
       "    }\n",
       "</style>\n",
       "<table border=\"1\" class=\"dataframe\">\n",
       "  <thead>\n",
       "    <tr style=\"text-align: right;\">\n",
       "      <th></th>\n",
       "      <th>Unnamed: 0</th>\n",
       "      <th>file</th>\n",
       "      <th>message</th>\n",
       "    </tr>\n",
       "  </thead>\n",
       "  <tbody>\n",
       "    <tr>\n",
       "      <th>0</th>\n",
       "      <td>0</td>\n",
       "      <td>allen-p/_sent_mail/1.</td>\n",
       "      <td>Message-ID: &lt;18782981.1075855378110.JavaMail.e...</td>\n",
       "    </tr>\n",
       "    <tr>\n",
       "      <th>1</th>\n",
       "      <td>1</td>\n",
       "      <td>allen-p/_sent_mail/10.</td>\n",
       "      <td>Message-ID: &lt;15464986.1075855378456.JavaMail.e...</td>\n",
       "    </tr>\n",
       "    <tr>\n",
       "      <th>2</th>\n",
       "      <td>2</td>\n",
       "      <td>allen-p/_sent_mail/100.</td>\n",
       "      <td>Message-ID: &lt;24216240.1075855687451.JavaMail.e...</td>\n",
       "    </tr>\n",
       "    <tr>\n",
       "      <th>3</th>\n",
       "      <td>3</td>\n",
       "      <td>allen-p/_sent_mail/1000.</td>\n",
       "      <td>Message-ID: &lt;13505866.1075863688222.JavaMail.e...</td>\n",
       "    </tr>\n",
       "    <tr>\n",
       "      <th>4</th>\n",
       "      <td>4</td>\n",
       "      <td>allen-p/_sent_mail/1001.</td>\n",
       "      <td>Message-ID: &lt;30922949.1075863688243.JavaMail.e...</td>\n",
       "    </tr>\n",
       "    <tr>\n",
       "      <th>...</th>\n",
       "      <td>...</td>\n",
       "      <td>...</td>\n",
       "      <td>...</td>\n",
       "    </tr>\n",
       "    <tr>\n",
       "      <th>995</th>\n",
       "      <td>995</td>\n",
       "      <td>allen-p/all_documents/458.</td>\n",
       "      <td>Message-ID: &lt;20430828.1075855696096.JavaMail.e...</td>\n",
       "    </tr>\n",
       "    <tr>\n",
       "      <th>996</th>\n",
       "      <td>996</td>\n",
       "      <td>allen-p/all_documents/459.</td>\n",
       "      <td>Message-ID: &lt;18425275.1075855696118.JavaMail.e...</td>\n",
       "    </tr>\n",
       "    <tr>\n",
       "      <th>997</th>\n",
       "      <td>997</td>\n",
       "      <td>allen-p/all_documents/46.</td>\n",
       "      <td>Message-ID: &lt;24036204.1075855666506.JavaMail.e...</td>\n",
       "    </tr>\n",
       "    <tr>\n",
       "      <th>998</th>\n",
       "      <td>998</td>\n",
       "      <td>allen-p/all_documents/460.</td>\n",
       "      <td>Message-ID: &lt;33307764.1075855696139.JavaMail.e...</td>\n",
       "    </tr>\n",
       "    <tr>\n",
       "      <th>999</th>\n",
       "      <td>999</td>\n",
       "      <td>allen-p/all_documents/461.</td>\n",
       "      <td>Message-ID: &lt;15009418.1075855696162.JavaMail.e...</td>\n",
       "    </tr>\n",
       "  </tbody>\n",
       "</table>\n",
       "<p>1000 rows × 3 columns</p>\n",
       "</div>"
      ],
      "text/plain": [
       "     Unnamed: 0                        file  \\\n",
       "0             0       allen-p/_sent_mail/1.   \n",
       "1             1      allen-p/_sent_mail/10.   \n",
       "2             2     allen-p/_sent_mail/100.   \n",
       "3             3    allen-p/_sent_mail/1000.   \n",
       "4             4    allen-p/_sent_mail/1001.   \n",
       "..          ...                         ...   \n",
       "995         995  allen-p/all_documents/458.   \n",
       "996         996  allen-p/all_documents/459.   \n",
       "997         997   allen-p/all_documents/46.   \n",
       "998         998  allen-p/all_documents/460.   \n",
       "999         999  allen-p/all_documents/461.   \n",
       "\n",
       "                                               message  \n",
       "0    Message-ID: <18782981.1075855378110.JavaMail.e...  \n",
       "1    Message-ID: <15464986.1075855378456.JavaMail.e...  \n",
       "2    Message-ID: <24216240.1075855687451.JavaMail.e...  \n",
       "3    Message-ID: <13505866.1075863688222.JavaMail.e...  \n",
       "4    Message-ID: <30922949.1075863688243.JavaMail.e...  \n",
       "..                                                 ...  \n",
       "995  Message-ID: <20430828.1075855696096.JavaMail.e...  \n",
       "996  Message-ID: <18425275.1075855696118.JavaMail.e...  \n",
       "997  Message-ID: <24036204.1075855666506.JavaMail.e...  \n",
       "998  Message-ID: <33307764.1075855696139.JavaMail.e...  \n",
       "999  Message-ID: <15009418.1075855696162.JavaMail.e...  \n",
       "\n",
       "[1000 rows x 3 columns]"
      ]
     },
     "execution_count": 51,
     "metadata": {},
     "output_type": "execute_result"
    }
   ],
   "source": [
    "emails"
   ]
  },
  {
   "cell_type": "code",
   "execution_count": null,
   "metadata": {},
   "outputs": [],
   "source": []
  }
 ],
 "metadata": {
  "interpreter": {
   "hash": "e9df97daa290dfd3cd02d5f2ff8fe0247f3f522b78648144b1dd8fb7dd96829b"
  },
  "kernelspec": {
   "display_name": "Python 3.8.10 ('env-clustering': venv)",
   "language": "python",
   "name": "python3"
  },
  "language_info": {
   "codemirror_mode": {
    "name": "ipython",
    "version": 3
   },
   "file_extension": ".py",
   "mimetype": "text/x-python",
   "name": "python",
   "nbconvert_exporter": "python",
   "pygments_lexer": "ipython3",
   "version": "3.8.10"
  },
  "orig_nbformat": 4
 },
 "nbformat": 4,
 "nbformat_minor": 2
}
