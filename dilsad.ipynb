{
 "cells": [
  {
   "cell_type": "code",
   "execution_count": 1,
   "metadata": {},
   "outputs": [
    {
     "name": "stderr",
     "output_type": "stream",
     "text": [
      "/home/dilsad/Desktop/BeCode/Enron_UseCase_Clustering/env/lib/python3.8/site-packages/past/builtins/misc.py:45: DeprecationWarning: the imp module is deprecated in favour of importlib; see the module's documentation for alternative uses\n",
      "  from imp import reload\n",
      "[nltk_data] Downloading package stopwords to /home/dilsad/nltk_data...\n",
      "[nltk_data]   Package stopwords is already up-to-date!\n"
     ]
    },
    {
     "data": {
      "text/plain": [
       "True"
      ]
     },
     "execution_count": 1,
     "metadata": {},
     "output_type": "execute_result"
    }
   ],
   "source": [
    "import pandas as pd \n",
    "import os\n",
    "from email.parser import Parser\n",
    "import nltk\n",
    "import numpy as np\n",
    "import json\n",
    "import glob\n",
    "import matplotlib.pyplot as plt\n",
    "\n",
    "import gensim\n",
    "import gensim.corpora as corpora\n",
    "from gensim.utils import simple_preprocess\n",
    "from gensim.models import CoherenceModel\n",
    "import spacy\n",
    "import pyLDAvis\n",
    "import pyLDAvis.gensim_models\n",
    "nltk.download('stopwords')"
   ]
  },
  {
   "cell_type": "code",
   "execution_count": null,
   "metadata": {},
   "outputs": [],
   "source": [
    "root = '/home/dilsad/Downloads/maildir/'\n",
    "folder_name = os.listdir(root)\n",
    "to_email = []\n",
    "from_email = []\n",
    "email_body = []\n",
    "directory = []\n",
    "date = []\n",
    "subject = []\n",
    "errors = []\n",
    "\n",
    "\n",
    "def analysis(input_file, to_email, from_email, email_body):\n",
    "    \n",
    "    with open(input_file, 'r', encoding='utf-8') as f:\n",
    "        try:\n",
    "            data = f.read()\n",
    "            email = Parser().parsestr(data)\n",
    "            date.append(email['Date'])\n",
    "            subject.append(email['subject'])\n",
    "            to_email.append(email['to'])\n",
    "            from_email.append(email['from'])\n",
    "            directory.append(input_file)\n",
    "            email_body.append(email.get_payload())\n",
    "        except:\n",
    "            errors.append(input_file)\n",
    "\n",
    "\n",
    "for name in folder_name:\n",
    "    direct = f'{root}{name}'\n",
    "    for dir, folders, filenames in os.walk(direct):\n",
    "        for filename in filenames:\n",
    "            input_file = os.path.join(dir, filename)\n",
    "            analysis(input_file, to_email, from_email, email_body)\n",
    "\n",
    "dictionary = {'Directory' : directory, 'From' : from_email, 'To' : to_email, 'Body' : email_body, 'Date': date, 'Subject': subject}\n",
    "#data_frame = pd.DataFrame(dictionary)\n",
    "#data_frame.to_csv('/home/dilsad/Downloads/emails.csv', index=False)\n",
    "with open(\"/home/dilsad/Downloads/emailJson.json\", \"w\") as outfile:\n",
    "    json.dump(dictionary, outfile)"
   ]
  },
  {
   "cell_type": "code",
   "execution_count": 2,
   "metadata": {},
   "outputs": [],
   "source": [
    "#df = pd.read_csv('/home/dilsad/Downloads/emails.csv')"
   ]
  },
  {
   "cell_type": "code",
   "execution_count": 3,
   "metadata": {},
   "outputs": [],
   "source": [
    "df = pd.read_csv('/home/dilsad/Downloads/lay_k_emails.csv')"
   ]
  },
  {
   "cell_type": "code",
   "execution_count": 4,
   "metadata": {},
   "outputs": [
    {
     "data": {
      "text/plain": [
       "(3402, 5)"
      ]
     },
     "execution_count": 4,
     "metadata": {},
     "output_type": "execute_result"
    }
   ],
   "source": [
    "df.shape"
   ]
  },
  {
   "cell_type": "code",
   "execution_count": 5,
   "metadata": {},
   "outputs": [
    {
     "data": {
      "text/html": [
       "<div>\n",
       "<style scoped>\n",
       "    .dataframe tbody tr th:only-of-type {\n",
       "        vertical-align: middle;\n",
       "    }\n",
       "\n",
       "    .dataframe tbody tr th {\n",
       "        vertical-align: top;\n",
       "    }\n",
       "\n",
       "    .dataframe thead th {\n",
       "        text-align: right;\n",
       "    }\n",
       "</style>\n",
       "<table border=\"1\" class=\"dataframe\">\n",
       "  <thead>\n",
       "    <tr style=\"text-align: right;\">\n",
       "      <th></th>\n",
       "      <th>From</th>\n",
       "      <th>To</th>\n",
       "      <th>Date</th>\n",
       "      <th>Subject</th>\n",
       "      <th>Body</th>\n",
       "    </tr>\n",
       "  </thead>\n",
       "  <tbody>\n",
       "    <tr>\n",
       "      <th>0</th>\n",
       "      <td>rosalee.fleming@enron.com</td>\n",
       "      <td>mmilken@knowledgeu.com</td>\n",
       "      <td>Fri, 2 Jul 1999 03:34:00 -0700 (PDT)</td>\n",
       "      <td>Re: testing</td>\n",
       "      <td>Hi -\\n\\nWe did receive the e-mail.\\n\\nRosalee ...</td>\n",
       "    </tr>\n",
       "    <tr>\n",
       "      <th>1</th>\n",
       "      <td>no.address@enron.com</td>\n",
       "      <td>kenneth.lay@enron.com, jlaywp@aol.com, mrslind...</td>\n",
       "      <td>Tue, 17 Aug 1999 15:14:00 -0700 (PDT)</td>\n",
       "      <td>Tentative Schedule</td>\n",
       "      <td>Jose Luis is planning on flying into Miami on ...</td>\n",
       "    </tr>\n",
       "    <tr>\n",
       "      <th>2</th>\n",
       "      <td>jeffrey.garten@yale.edu</td>\n",
       "      <td>kenneth.lay@enron.com</td>\n",
       "      <td>Wed, 17 May 2000 01:32:00 -0700 (PDT)</td>\n",
       "      <td>Panel on Valuation in the New Economy - May 23</td>\n",
       "      <td>Dear Ken,\\n\\nAttached are the agenda and the d...</td>\n",
       "    </tr>\n",
       "    <tr>\n",
       "      <th>3</th>\n",
       "      <td>ralph.blakemore@enron.com</td>\n",
       "      <td>kenneth.lay@enron.com, jeff.skilling@enron.com</td>\n",
       "      <td>Fri, 8 Dec 2000 07:49:00 -0800 (PST)</td>\n",
       "      <td>2000 Chairman's Award</td>\n",
       "      <td>Gentlemen,\\n\\nThank you for the letter memoria...</td>\n",
       "    </tr>\n",
       "    <tr>\n",
       "      <th>4</th>\n",
       "      <td>barbara.paige@enron.com</td>\n",
       "      <td>samantha.bryce@enron.com, adriana.cortes@enron...</td>\n",
       "      <td>Mon, 11 Dec 2000 01:52:00 -0800 (PST)</td>\n",
       "      <td>Field Study Program</td>\n",
       "      <td>A description of the proposed Field Study Prog...</td>\n",
       "    </tr>\n",
       "    <tr>\n",
       "      <th>5</th>\n",
       "      <td>william.ramsay@iea.org</td>\n",
       "      <td>kenneth.lay@enron.com</td>\n",
       "      <td>Mon, 11 Dec 2000 09:02:00 -0800 (PST)</td>\n",
       "      <td>RE: IEA Ministerial/OECD Ministerial</td>\n",
       "      <td>Rosalee:  Thank you for this good news.  I wil...</td>\n",
       "    </tr>\n",
       "    <tr>\n",
       "      <th>6</th>\n",
       "      <td>rosalee.fleming@enron.com</td>\n",
       "      <td>shea_dugger@i2.com</td>\n",
       "      <td>Mon, 11 Dec 2000 02:49:00 -0800 (PST)</td>\n",
       "      <td>Re: Final Eagle BOD Presentation</td>\n",
       "      <td>Here it is!!  Have a great day!!  Stay warm.\\n...</td>\n",
       "    </tr>\n",
       "    <tr>\n",
       "      <th>7</th>\n",
       "      <td>nancy@newcapitolsolutions.com</td>\n",
       "      <td>kenneth.lay@enron.com</td>\n",
       "      <td>Mon, 11 Dec 2000 04:01:00 -0800 (PST)</td>\n",
       "      <td>Richard's Resume</td>\n",
       "      <td>Dear Ken,\\n\\nMy son, Richard, recently sold hi...</td>\n",
       "    </tr>\n",
       "    <tr>\n",
       "      <th>8</th>\n",
       "      <td>rosalee.fleming@enron.com</td>\n",
       "      <td>kevin.hannon@enron.com</td>\n",
       "      <td>Mon, 11 Dec 2000 06:39:00 -0800 (PST)</td>\n",
       "      <td>Re: Cornell</td>\n",
       "      <td>Ken wanted me to let you know that he has some...</td>\n",
       "    </tr>\n",
       "    <tr>\n",
       "      <th>9</th>\n",
       "      <td>rosalee.fleming@enron.com</td>\n",
       "      <td>kelly.merritt@enron.com</td>\n",
       "      <td>Mon, 11 Dec 2000 09:04:00 -0800 (PST)</td>\n",
       "      <td>Re: Advertising Campaign - NASCAR</td>\n",
       "      <td>Dear Kelly:\\n\\nI appreciate your comments rega...</td>\n",
       "    </tr>\n",
       "  </tbody>\n",
       "</table>\n",
       "</div>"
      ],
      "text/plain": [
       "                            From  \\\n",
       "0      rosalee.fleming@enron.com   \n",
       "1           no.address@enron.com   \n",
       "2        jeffrey.garten@yale.edu   \n",
       "3      ralph.blakemore@enron.com   \n",
       "4        barbara.paige@enron.com   \n",
       "5         william.ramsay@iea.org   \n",
       "6      rosalee.fleming@enron.com   \n",
       "7  nancy@newcapitolsolutions.com   \n",
       "8      rosalee.fleming@enron.com   \n",
       "9      rosalee.fleming@enron.com   \n",
       "\n",
       "                                                  To  \\\n",
       "0                             mmilken@knowledgeu.com   \n",
       "1  kenneth.lay@enron.com, jlaywp@aol.com, mrslind...   \n",
       "2                              kenneth.lay@enron.com   \n",
       "3     kenneth.lay@enron.com, jeff.skilling@enron.com   \n",
       "4  samantha.bryce@enron.com, adriana.cortes@enron...   \n",
       "5                              kenneth.lay@enron.com   \n",
       "6                                 shea_dugger@i2.com   \n",
       "7                              kenneth.lay@enron.com   \n",
       "8                             kevin.hannon@enron.com   \n",
       "9                            kelly.merritt@enron.com   \n",
       "\n",
       "                                    Date  \\\n",
       "0   Fri, 2 Jul 1999 03:34:00 -0700 (PDT)   \n",
       "1  Tue, 17 Aug 1999 15:14:00 -0700 (PDT)   \n",
       "2  Wed, 17 May 2000 01:32:00 -0700 (PDT)   \n",
       "3   Fri, 8 Dec 2000 07:49:00 -0800 (PST)   \n",
       "4  Mon, 11 Dec 2000 01:52:00 -0800 (PST)   \n",
       "5  Mon, 11 Dec 2000 09:02:00 -0800 (PST)   \n",
       "6  Mon, 11 Dec 2000 02:49:00 -0800 (PST)   \n",
       "7  Mon, 11 Dec 2000 04:01:00 -0800 (PST)   \n",
       "8  Mon, 11 Dec 2000 06:39:00 -0800 (PST)   \n",
       "9  Mon, 11 Dec 2000 09:04:00 -0800 (PST)   \n",
       "\n",
       "                                          Subject  \\\n",
       "0                                     Re: testing   \n",
       "1                              Tentative Schedule   \n",
       "2  Panel on Valuation in the New Economy - May 23   \n",
       "3                           2000 Chairman's Award   \n",
       "4                             Field Study Program   \n",
       "5            RE: IEA Ministerial/OECD Ministerial   \n",
       "6                Re: Final Eagle BOD Presentation   \n",
       "7                                Richard's Resume   \n",
       "8                                     Re: Cornell   \n",
       "9               Re: Advertising Campaign - NASCAR   \n",
       "\n",
       "                                                Body  \n",
       "0  Hi -\\n\\nWe did receive the e-mail.\\n\\nRosalee ...  \n",
       "1  Jose Luis is planning on flying into Miami on ...  \n",
       "2  Dear Ken,\\n\\nAttached are the agenda and the d...  \n",
       "3  Gentlemen,\\n\\nThank you for the letter memoria...  \n",
       "4  A description of the proposed Field Study Prog...  \n",
       "5  Rosalee:  Thank you for this good news.  I wil...  \n",
       "6  Here it is!!  Have a great day!!  Stay warm.\\n...  \n",
       "7  Dear Ken,\\n\\nMy son, Richard, recently sold hi...  \n",
       "8  Ken wanted me to let you know that he has some...  \n",
       "9  Dear Kelly:\\n\\nI appreciate your comments rega...  "
      ]
     },
     "execution_count": 5,
     "metadata": {},
     "output_type": "execute_result"
    }
   ],
   "source": [
    "df.head(10)"
   ]
  },
  {
   "cell_type": "code",
   "execution_count": 6,
   "metadata": {},
   "outputs": [
    {
     "data": {
      "text/html": [
       "<div>\n",
       "<style scoped>\n",
       "    .dataframe tbody tr th:only-of-type {\n",
       "        vertical-align: middle;\n",
       "    }\n",
       "\n",
       "    .dataframe tbody tr th {\n",
       "        vertical-align: top;\n",
       "    }\n",
       "\n",
       "    .dataframe thead th {\n",
       "        text-align: right;\n",
       "    }\n",
       "</style>\n",
       "<table border=\"1\" class=\"dataframe\">\n",
       "  <thead>\n",
       "    <tr style=\"text-align: right;\">\n",
       "      <th></th>\n",
       "      <th>From</th>\n",
       "      <th>To</th>\n",
       "      <th>Date</th>\n",
       "      <th>Subject</th>\n",
       "      <th>Body</th>\n",
       "    </tr>\n",
       "  </thead>\n",
       "  <tbody>\n",
       "    <tr>\n",
       "      <th>3392</th>\n",
       "      <td>barblpl@yahoo.com</td>\n",
       "      <td>mary.bourne@showtime.net, herrold@swbell.net, ...</td>\n",
       "      <td>Tue, 5 Jun 2001 17:05:02 -0700 (PDT)</td>\n",
       "      <td>Family dinner</td>\n",
       "      <td>Hello Everyone,\\nJust a friendly reminder that...</td>\n",
       "    </tr>\n",
       "    <tr>\n",
       "      <th>3393</th>\n",
       "      <td>annatjain@hotmail.com</td>\n",
       "      <td>kenneth.lay@enron.com</td>\n",
       "      <td>Sat, 13 Oct 2001 05:57:00 -0700 (PDT)</td>\n",
       "      <td>Conflict of Interest</td>\n",
       "      <td>\\nDear Mr. Lay,\\n\\nThank you for your email me...</td>\n",
       "    </tr>\n",
       "    <tr>\n",
       "      <th>3394</th>\n",
       "      <td>gargravi@hotmail.com</td>\n",
       "      <td>kenneth.lay@enron.com</td>\n",
       "      <td>Sat, 13 Oct 2001 09:37:18 -0700 (PDT)</td>\n",
       "      <td>Dabhol India - Illegal Action and Criminal Con...</td>\n",
       "      <td>Sir\\n\\nI am an Enron employee.\\n\\nI tried to s...</td>\n",
       "    </tr>\n",
       "    <tr>\n",
       "      <th>3395</th>\n",
       "      <td>mlpdgrace@yahoo.com</td>\n",
       "      <td>klay@enron.com, bruce.connery@elpaso.com, brid...</td>\n",
       "      <td>Tue, 5 Jun 2001 22:05:43 -0700 (PDT)</td>\n",
       "      <td>A PRAYER FOR THE FALL AND DESTRUCTION OF CEOS ...</td>\n",
       "      <td>ALMIGHTY AND EVER LIVING GOD MAY THE HEDIOUS...</td>\n",
       "    </tr>\n",
       "    <tr>\n",
       "      <th>3396</th>\n",
       "      <td>mingchenglian@aol.com</td>\n",
       "      <td>kenneth.lay@enron.com</td>\n",
       "      <td>Thu, 18 Oct 2001 08:27:37 -0700 (PDT)</td>\n",
       "      <td>my unfair treatment at Enron--Please HELP</td>\n",
       "      <td>...</td>\n",
       "    </tr>\n",
       "    <tr>\n",
       "      <th>3397</th>\n",
       "      <td>james.derrick@enron.com</td>\n",
       "      <td>sharon.butcher@enron.com, michelle.cash@enron.com</td>\n",
       "      <td>Thu, 18 Oct 2001 08:44:59 -0700 (PDT)</td>\n",
       "      <td>FW: my unfair treatment at Enron--please HELP</td>\n",
       "      <td>I would appreciate your looking into this issu...</td>\n",
       "    </tr>\n",
       "    <tr>\n",
       "      <th>3398</th>\n",
       "      <td>linda.auwers@compaq.com</td>\n",
       "      <td>NaN</td>\n",
       "      <td>Fri, 19 Oct 2001 08:15:52 -0700 (PDT)</td>\n",
       "      <td>Moritz Craven</td>\n",
       "      <td>\\nJudy called to  let us know that Moritz Crav...</td>\n",
       "    </tr>\n",
       "    <tr>\n",
       "      <th>3399</th>\n",
       "      <td>ryan.seleznov@enron.com</td>\n",
       "      <td>kenneth.lay@enron.com, mark.frevert@enron.com,...</td>\n",
       "      <td>Fri, 19 Oct 2001 12:55:36 -0700 (PDT)</td>\n",
       "      <td>Employee Concern</td>\n",
       "      <td>I wanted to assure all of you that the issues ...</td>\n",
       "    </tr>\n",
       "    <tr>\n",
       "      <th>3400</th>\n",
       "      <td>david.oxley@enron.com</td>\n",
       "      <td>kenneth.lay@enron.com</td>\n",
       "      <td>Fri, 19 Oct 2001 13:17:00 -0700 (PDT)</td>\n",
       "      <td>RE: Enron Metals Ltd (Enron Europe Office)</td>\n",
       "      <td>Ken,\\n\\nThis gentleman joined Enron Europe fol...</td>\n",
       "    </tr>\n",
       "    <tr>\n",
       "      <th>3401</th>\n",
       "      <td>elizabeth.davis@compaq.com</td>\n",
       "      <td>houirtreas@compaq.com</td>\n",
       "      <td>Wed, 6 Jun 2001 07:22:10 -0700 (PDT)</td>\n",
       "      <td>Financial Analysts' Reports for 6.06.01</td>\n",
       "      <td>\\nPlease open the attached file to read the co...</td>\n",
       "    </tr>\n",
       "  </tbody>\n",
       "</table>\n",
       "</div>"
      ],
      "text/plain": [
       "                            From  \\\n",
       "3392           barblpl@yahoo.com   \n",
       "3393       annatjain@hotmail.com   \n",
       "3394        gargravi@hotmail.com   \n",
       "3395         mlpdgrace@yahoo.com   \n",
       "3396       mingchenglian@aol.com   \n",
       "3397     james.derrick@enron.com   \n",
       "3398     linda.auwers@compaq.com   \n",
       "3399     ryan.seleznov@enron.com   \n",
       "3400       david.oxley@enron.com   \n",
       "3401  elizabeth.davis@compaq.com   \n",
       "\n",
       "                                                     To  \\\n",
       "3392  mary.bourne@showtime.net, herrold@swbell.net, ...   \n",
       "3393                              kenneth.lay@enron.com   \n",
       "3394                              kenneth.lay@enron.com   \n",
       "3395  klay@enron.com, bruce.connery@elpaso.com, brid...   \n",
       "3396                              kenneth.lay@enron.com   \n",
       "3397  sharon.butcher@enron.com, michelle.cash@enron.com   \n",
       "3398                                                NaN   \n",
       "3399  kenneth.lay@enron.com, mark.frevert@enron.com,...   \n",
       "3400                              kenneth.lay@enron.com   \n",
       "3401                              houirtreas@compaq.com   \n",
       "\n",
       "                                       Date  \\\n",
       "3392   Tue, 5 Jun 2001 17:05:02 -0700 (PDT)   \n",
       "3393  Sat, 13 Oct 2001 05:57:00 -0700 (PDT)   \n",
       "3394  Sat, 13 Oct 2001 09:37:18 -0700 (PDT)   \n",
       "3395   Tue, 5 Jun 2001 22:05:43 -0700 (PDT)   \n",
       "3396  Thu, 18 Oct 2001 08:27:37 -0700 (PDT)   \n",
       "3397  Thu, 18 Oct 2001 08:44:59 -0700 (PDT)   \n",
       "3398  Fri, 19 Oct 2001 08:15:52 -0700 (PDT)   \n",
       "3399  Fri, 19 Oct 2001 12:55:36 -0700 (PDT)   \n",
       "3400  Fri, 19 Oct 2001 13:17:00 -0700 (PDT)   \n",
       "3401   Wed, 6 Jun 2001 07:22:10 -0700 (PDT)   \n",
       "\n",
       "                                                Subject  \\\n",
       "3392                                      Family dinner   \n",
       "3393                               Conflict of Interest   \n",
       "3394  Dabhol India - Illegal Action and Criminal Con...   \n",
       "3395  A PRAYER FOR THE FALL AND DESTRUCTION OF CEOS ...   \n",
       "3396          my unfair treatment at Enron--Please HELP   \n",
       "3397      FW: my unfair treatment at Enron--please HELP   \n",
       "3398                                      Moritz Craven   \n",
       "3399                                   Employee Concern   \n",
       "3400         RE: Enron Metals Ltd (Enron Europe Office)   \n",
       "3401            Financial Analysts' Reports for 6.06.01   \n",
       "\n",
       "                                                   Body  \n",
       "3392  Hello Everyone,\\nJust a friendly reminder that...  \n",
       "3393  \\nDear Mr. Lay,\\n\\nThank you for your email me...  \n",
       "3394  Sir\\n\\nI am an Enron employee.\\n\\nI tried to s...  \n",
       "3395    ALMIGHTY AND EVER LIVING GOD MAY THE HEDIOUS...  \n",
       "3396                                                ...  \n",
       "3397  I would appreciate your looking into this issu...  \n",
       "3398  \\nJudy called to  let us know that Moritz Crav...  \n",
       "3399  I wanted to assure all of you that the issues ...  \n",
       "3400  Ken,\\n\\nThis gentleman joined Enron Europe fol...  \n",
       "3401  \\nPlease open the attached file to read the co...  "
      ]
     },
     "execution_count": 6,
     "metadata": {},
     "output_type": "execute_result"
    }
   ],
   "source": [
    "df.tail(10)"
   ]
  },
  {
   "cell_type": "code",
   "execution_count": 7,
   "metadata": {},
   "outputs": [
    {
     "name": "stdout",
     "output_type": "stream",
     "text": [
      "<class 'pandas.core.frame.DataFrame'>\n",
      "RangeIndex: 3402 entries, 0 to 3401\n",
      "Data columns (total 5 columns):\n",
      " #   Column   Non-Null Count  Dtype \n",
      "---  ------   --------------  ----- \n",
      " 0   From     3402 non-null   object\n",
      " 1   To       3246 non-null   object\n",
      " 2   Date     3402 non-null   object\n",
      " 3   Subject  3349 non-null   object\n",
      " 4   Body     3402 non-null   object\n",
      "dtypes: object(5)\n",
      "memory usage: 133.0+ KB\n"
     ]
    }
   ],
   "source": [
    "df.info()"
   ]
  },
  {
   "cell_type": "code",
   "execution_count": null,
   "metadata": {},
   "outputs": [],
   "source": [
    "body = \" \".join(df['Body'])\n",
    "fig, ax = plt.subplots(figsize=(16, 12))\n",
    "wc = wordcloud.WordCloud(width = 800,\n",
    "                        height=600,\n",
    "                        max_words = 200, \n",
    "                        stopwords = stopwords.words('english'))\n",
    "ax.imshow(wc)\n",
    "ax.axis('off')"
   ]
  },
  {
   "cell_type": "code",
   "execution_count": 9,
   "metadata": {},
   "outputs": [],
   "source": [
    "data = df.Body.values.tolist()"
   ]
  },
  {
   "cell_type": "code",
   "execution_count": 10,
   "metadata": {},
   "outputs": [
    {
     "name": "stdout",
     "output_type": "stream",
     "text": [
      "['i', 'me', 'my', 'myself', 'we', 'our', 'ours', 'ourselves', 'you', \"you're\", \"you've\", \"you'll\", \"you'd\", 'your', 'yours', 'yourself', 'yourselves', 'he', 'him', 'his', 'himself', 'she', \"she's\", 'her', 'hers', 'herself', 'it', \"it's\", 'its', 'itself', 'they', 'them', 'their', 'theirs', 'themselves', 'what', 'which', 'who', 'whom', 'this', 'that', \"that'll\", 'these', 'those', 'am', 'is', 'are', 'was', 'were', 'be', 'been', 'being', 'have', 'has', 'had', 'having', 'do', 'does', 'did', 'doing', 'a', 'an', 'the', 'and', 'but', 'if', 'or', 'because', 'as', 'until', 'while', 'of', 'at', 'by', 'for', 'with', 'about', 'against', 'between', 'into', 'through', 'during', 'before', 'after', 'above', 'below', 'to', 'from', 'up', 'down', 'in', 'out', 'on', 'off', 'over', 'under', 'again', 'further', 'then', 'once', 'here', 'there', 'when', 'where', 'why', 'how', 'all', 'any', 'both', 'each', 'few', 'more', 'most', 'other', 'some', 'such', 'no', 'nor', 'not', 'only', 'own', 'same', 'so', 'than', 'too', 'very', 's', 't', 'can', 'will', 'just', 'don', \"don't\", 'should', \"should've\", 'now', 'd', 'll', 'm', 'o', 're', 've', 'y', 'ain', 'aren', \"aren't\", 'couldn', \"couldn't\", 'didn', \"didn't\", 'doesn', \"doesn't\", 'hadn', \"hadn't\", 'hasn', \"hasn't\", 'haven', \"haven't\", 'isn', \"isn't\", 'ma', 'mightn', \"mightn't\", 'mustn', \"mustn't\", 'needn', \"needn't\", 'shan', \"shan't\", 'shouldn', \"shouldn't\", 'wasn', \"wasn't\", 'weren', \"weren't\", 'won', \"won't\", 'wouldn', \"wouldn't\"]\n"
     ]
    }
   ],
   "source": [
    "# prep NLTK Stop words\n",
    "from nltk.corpus import stopwords\n",
    "stop_words = stopwords.words('english')\n",
    "print(stop_words)"
   ]
  },
  {
   "cell_type": "code",
   "execution_count": 11,
   "metadata": {},
   "outputs": [
    {
     "name": "stdout",
     "output_type": "stream",
     "text": [
      "['gentlemen', 'thank', 'you', 'for', 'the', 'letter', 'memorializing', 'my', 'nomination', 'for', 'the', 'chairman', 'award', 'it', 'is', 'privilege', 'to', 'be', 'part', 'of', 'the', 'enron', 'organization', 'have', 'received', 'many', 'promotions', 'cash', 'bonuses', 'and', 'commendations', 'during', 'my', 'career', 'but', 'consider', 'the', 'recognition', 'as', 'nominee', 'for', 'the', 'chairman', 'award', 'to', 'be', 'the', 'most', 'significant', 'acknowledgment', 'of', 'my', 'performance', 'ever', 'received', 'my', 'compliments', 'to', 'you', 'for', 'making', 'enron', 'one', 'of', 'the', 'most', 'successful', 'and', 'excellent', 'companies', 'on', 'the', 'globe', 'only', 'wish', 'that', 'could', 'contribute', 'more', 'to', 'enron', 'growth', 'and', 'continued', 'success', 'sincerely', 'rw', 'blakemore', 'enron', 'wind', 'energy', 'systems', 'corp', 'center', 'for', 'advanced', 'technology']\n"
     ]
    }
   ],
   "source": [
    "def sent_to_words(sentences):\n",
    "    for sentence in sentences:\n",
    "        yield(gensim.utils.simple_preprocess(str(sentence), deacc=True))  # deacc=True removes punctuations\n",
    "        \n",
    "data_words = list(sent_to_words(data))\n",
    "print(data_words[3])"
   ]
  },
  {
   "cell_type": "code",
   "execution_count": 15,
   "metadata": {},
   "outputs": [
    {
     "name": "stdout",
     "output_type": "stream",
     "text": [
      "FrozenPhrases<2158 phrases, min_count=5, threshold=100>\n"
     ]
    }
   ],
   "source": [
    "from gensim.models.phrases import Phrases, Phraser# Build the bigram and trigram models\n",
    "bigram = Phrases(data_words, min_count=5, threshold=100) # higher threshold fewer phrases.\n",
    "trigram = Phrases(bigram[data_words], threshold=100)# Faster way to get a sentence clubbed as a trigram/bigram\n",
    "bigram_mod = Phraser(bigram)\n",
    "print(bigram_mod)"
   ]
  },
  {
   "cell_type": "code",
   "execution_count": 16,
   "metadata": {},
   "outputs": [],
   "source": [
    "# remove stop_words, make bigrams and lemmatize\n",
    "def remove_stopwords(texts):\n",
    "    return [[word for word in simple_preprocess(str(doc)) if word not in stop_words] for doc in texts]\n",
    "\n",
    "def make_bigrams(texts):\n",
    "    return [bigram_mod[doc] for doc in texts]\n",
    "\n",
    "def lemmatization(texts, allowed_postags=['NOUN', 'ADJ', 'VERB', 'ADV']):\n",
    "    \"\"\"https://spacy.io/api/annotation\"\"\"\n",
    "    texts_out = []\n",
    "    for sent in texts:\n",
    "        doc = nlp(\" \".join(sent))\n",
    "        texts_out.append([token.lemma_ for token in doc if token.pos_ in allowed_postags])\n",
    "    return texts_out"
   ]
  },
  {
   "cell_type": "code",
   "execution_count": 17,
   "metadata": {},
   "outputs": [],
   "source": [
    "data_words_nostops = remove_stopwords(data_words)"
   ]
  },
  {
   "cell_type": "code",
   "execution_count": 18,
   "metadata": {},
   "outputs": [],
   "source": [
    "data_words_bigrams = make_bigrams(data_words_nostops)"
   ]
  },
  {
   "cell_type": "code",
   "execution_count": null,
   "metadata": {},
   "outputs": [],
   "source": [
    "data_words_bigrams"
   ]
  },
  {
   "cell_type": "code",
   "execution_count": 21,
   "metadata": {},
   "outputs": [],
   "source": [
    "nlp = spacy.load(\"en_core_web_sm\", disable=['parser', 'ner'])"
   ]
  },
  {
   "cell_type": "code",
   "execution_count": 22,
   "metadata": {},
   "outputs": [],
   "source": [
    "\n",
    "data_lemmatized = lemmatization(data_words_bigrams, allowed_postags=['NOUN', 'ADJ', 'VERB', 'ADV'])"
   ]
  },
  {
   "cell_type": "code",
   "execution_count": 83,
   "metadata": {},
   "outputs": [
    {
     "data": {
      "text/plain": [
       "['receive', 'mail', 'mmilken', 'knowledgeu', 'testing']"
      ]
     },
     "execution_count": 83,
     "metadata": {},
     "output_type": "execute_result"
    }
   ],
   "source": [
    "data_lemmatized[0][0:90]"
   ]
  },
  {
   "cell_type": "code",
   "execution_count": 23,
   "metadata": {},
   "outputs": [],
   "source": [
    "# create dictionary and corpus both are needed for (LDA) topic modeling\n",
    "\n",
    "# Create Dictionary\n",
    "id2word = corpora.Dictionary(data_lemmatized)\n",
    "\n",
    "# Create Corpus\n",
    "texts = data_lemmatized\n",
    "\n",
    "# Term Document Frequency\n",
    "corpus = [id2word.doc2bow(text) for text in texts]"
   ]
  },
  {
   "cell_type": "code",
   "execution_count": 73,
   "metadata": {},
   "outputs": [
    {
     "data": {
      "text/plain": [
       "'knowledgeu'"
      ]
     },
     "execution_count": 73,
     "metadata": {},
     "output_type": "execute_result"
    }
   ],
   "source": [
    "id2word[0]"
   ]
  },
  {
   "cell_type": "code",
   "execution_count": null,
   "metadata": {},
   "outputs": [],
   "source": [
    "texts"
   ]
  },
  {
   "cell_type": "code",
   "execution_count": 32,
   "metadata": {},
   "outputs": [],
   "source": [
    "import warnings\n",
    "warnings.filterwarnings(\"ignore\",category=DeprecationWarning)"
   ]
  },
  {
   "cell_type": "code",
   "execution_count": 74,
   "metadata": {},
   "outputs": [],
   "source": [
    "lda_model = gensim.models.ldamodel.LdaModel(corpus=corpus,\n",
    "                                           id2word=id2word,\n",
    "                                           num_topics=14,\n",
    "                                           random_state=100,\n",
    "                                           update_every=1,\n",
    "                                           chunksize=100,\n",
    "                                           passes=10,\n",
    "                                           alpha='auto',\n",
    "                                           per_word_topics=True)"
   ]
  },
  {
   "cell_type": "code",
   "execution_count": 75,
   "metadata": {},
   "outputs": [
    {
     "name": "stdout",
     "output_type": "stream",
     "text": [
      "[(0, '0.017*\"response\" + 0.016*\"know\" + 0.015*\"lie\" + 0.013*\"family\" + 0.012*\"work\" + 0.012*\"year\" + 0.012*\"send\" + 0.011*\"letter\" + 0.010*\"ask\" + 0.010*\"circumstance\"'), (1, '0.122*\"ect\" + 0.038*\"hou\" + 0.026*\"ee\" + 0.026*\"attend\" + 0.022*\"meeting\" + 0.022*\"conference\" + 0.017*\"th_floor\" + 0.017*\"number\" + 0.016*\"call\" + 0.016*\"executive\"'), (2, '0.063*\"compaq\" + 0.057*\"report\" + 0.026*\"result\" + 0.025*\"prepare\" + 0.024*\"analyst_report\" + 0.024*\"endorse\" + 0.023*\"reports_provide\" + 0.023*\"compaq_investor\" + 0.021*\"tech\" + 0.021*\"conigliaro\"'), (3, '0.013*\"information\" + 0.009*\"issue\" + 0.009*\"business\" + 0.009*\"new\" + 0.008*\"event\" + 0.008*\"independent\" + 0.008*\"www\" + 0.007*\"year\" + 0.007*\"see\" + 0.007*\"mail\"'), (4, '0.590*\"com\" + 0.092*\"aol\" + 0.028*\"net\" + 0.020*\"mail\" + 0.019*\"subject\" + 0.013*\"send\" + 0.009*\"hotmail\" + 0.008*\"email\" + 0.006*\"houston_rr\" + 0.005*\"original_message\"'), (5, '0.246*\"energy\" + 0.111*\"saving\" + 0.042*\"efficiency\" + 0.024*\"save\" + 0.022*\"workshop\" + 0.020*\"co\" + 0.016*\"reservation\" + 0.011*\"outlook\" + 0.010*\"teacher\" + 0.010*\"tip\"'), (6, '0.015*\"market\" + 0.013*\"service\" + 0.010*\"company\" + 0.010*\"management\" + 0.010*\"content\" + 0.010*\"business\" + 0.009*\"system\" + 0.009*\"year\" + 0.009*\"customer\" + 0.009*\"power\"'), (7, '0.066*\"lly_lilly\" + 0.050*\"press_release\" + 0.041*\"azurix\" + 0.026*\"est\" + 0.024*\"opic\" + 0.019*\"tonight\" + 0.014*\"karen\" + 0.011*\"river\" + 0.010*\"pende\" + 0.010*\"approve\"'), (8, '0.071*\"employee\" + 0.058*\"company\" + 0.040*\"fund\" + 0.038*\"make\" + 0.038*\"consumer\" + 0.037*\"pay\" + 0.034*\"energy\" + 0.031*\"stock\" + 0.026*\"sell\" + 0.025*\"donate\"'), (9, '0.082*\"employment\" + 0.062*\"transaction\" + 0.028*\"today\" + 0.028*\"total\" + 0.028*\"daily\" + 0.024*\"day_traile\" + 0.021*\"find\" + 0.021*\"candidate\" + 0.021*\"number\" + 0.020*\"enrononline\"'), (10, '0.043*\"doc\" + 0.033*\"attach\" + 0.033*\"unable\" + 0.028*\"meeting\" + 0.022*\"lie\" + 0.022*\"call\" + 0.021*\"expansion\" + 0.019*\"thank\" + 0.017*\"see\" + 0.017*\"board\"'), (11, '0.059*\"trigger\" + 0.058*\"voluntary\" + 0.044*\"employee\" + 0.031*\"feedback\" + 0.029*\"complete\" + 0.028*\"thought\" + 0.026*\"request\" + 0.024*\"review\" + 0.021*\"survey\" + 0.020*\"due\"'), (12, '0.049*\"htm\" + 0.040*\"noon\" + 0.039*\"ave\" + 0.022*\"transcript\" + 0.021*\"brooking\" + 0.018*\"policy\" + 0.017*\"brookings_edu\" + 0.013*\"social_security\" + 0.012*\"measurement\" + 0.012*\"currently_subscribe\"'), (13, '0.062*\"conference\" + 0.033*\"gas\" + 0.033*\"leadership\" + 0.027*\"arena\" + 0.019*\"natural_gas\" + 0.017*\"trip\" + 0.017*\"market\" + 0.015*\"leader\" + 0.015*\"cera\" + 0.015*\"governor\"')]\n"
     ]
    }
   ],
   "source": [
    "print(lda_model.print_topics())"
   ]
  },
  {
   "cell_type": "code",
   "execution_count": 76,
   "metadata": {},
   "outputs": [],
   "source": [
    "doc_lda = lda_model[corpus]"
   ]
  },
  {
   "cell_type": "code",
   "execution_count": 77,
   "metadata": {},
   "outputs": [
    {
     "name": "stdout",
     "output_type": "stream",
     "text": [
      "<gensim.interfaces.TransformedCorpus object at 0x7efc2cb22040>\n"
     ]
    }
   ],
   "source": [
    "print(doc_lda)"
   ]
  },
  {
   "cell_type": "code",
   "execution_count": 78,
   "metadata": {},
   "outputs": [
    {
     "name": "stdout",
     "output_type": "stream",
     "text": [
      "\n",
      "Perplexity:  -8.938937285608967\n"
     ]
    }
   ],
   "source": [
    "print('\\nPerplexity: ', lda_model.log_perplexity(corpus))"
   ]
  },
  {
   "cell_type": "code",
   "execution_count": 82,
   "metadata": {},
   "outputs": [
    {
     "name": "stdout",
     "output_type": "stream",
     "text": [
      "\n",
      "Coherence Score:  0.49415364178129606\n"
     ]
    }
   ],
   "source": [
    "coherence_model_lda = CoherenceModel(model=lda_model, texts=data_lemmatized, dictionary=id2word, coherence='c_v')\n",
    "coherence_lda = coherence_model_lda.get_coherence()\n",
    "print('\\nCoherence Score: ', coherence_lda)"
   ]
  },
  {
   "cell_type": "code",
   "execution_count": 81,
   "metadata": {},
   "outputs": [
    {
     "name": "stderr",
     "output_type": "stream",
     "text": [
      "/home/dilsad/Desktop/BeCode/Enron_UseCase_Clustering/env/lib/python3.8/site-packages/pyLDAvis/_prepare.py:246: FutureWarning: In a future version of pandas all arguments of DataFrame.drop except for the argument 'labels' will be keyword-only.\n",
      "  default_term_info = default_term_info.sort_values(\n",
      "/home/dilsad/Desktop/BeCode/Enron_UseCase_Clustering/env/lib/python3.8/site-packages/joblib/backports.py:36: DeprecationWarning: distutils Version classes are deprecated. Use packaging.version instead.\n",
      "  if LooseVersion(np.__version__) < '1.13':\n",
      "/home/dilsad/Desktop/BeCode/Enron_UseCase_Clustering/env/lib/python3.8/site-packages/setuptools/_distutils/version.py:351: DeprecationWarning: distutils Version classes are deprecated. Use packaging.version instead.\n",
      "  other = LooseVersion(other)\n",
      "/home/dilsad/Desktop/BeCode/Enron_UseCase_Clustering/env/lib/python3.8/site-packages/joblib/backports.py:36: DeprecationWarning: distutils Version classes are deprecated. Use packaging.version instead.\n",
      "  if LooseVersion(np.__version__) < '1.13':\n",
      "/home/dilsad/Desktop/BeCode/Enron_UseCase_Clustering/env/lib/python3.8/site-packages/setuptools/_distutils/version.py:351: DeprecationWarning: distutils Version classes are deprecated. Use packaging.version instead.\n",
      "  other = LooseVersion(other)\n",
      "/home/dilsad/Desktop/BeCode/Enron_UseCase_Clustering/env/lib/python3.8/site-packages/joblib/backports.py:36: DeprecationWarning: distutils Version classes are deprecated. Use packaging.version instead.\n",
      "  if LooseVersion(np.__version__) < '1.13':\n",
      "/home/dilsad/Desktop/BeCode/Enron_UseCase_Clustering/env/lib/python3.8/site-packages/setuptools/_distutils/version.py:351: DeprecationWarning: distutils Version classes are deprecated. Use packaging.version instead.\n",
      "  other = LooseVersion(other)\n",
      "/home/dilsad/Desktop/BeCode/Enron_UseCase_Clustering/env/lib/python3.8/site-packages/joblib/backports.py:36: DeprecationWarning: distutils Version classes are deprecated. Use packaging.version instead.\n",
      "  if LooseVersion(np.__version__) < '1.13':\n",
      "/home/dilsad/Desktop/BeCode/Enron_UseCase_Clustering/env/lib/python3.8/site-packages/setuptools/_distutils/version.py:351: DeprecationWarning: distutils Version classes are deprecated. Use packaging.version instead.\n",
      "  other = LooseVersion(other)\n",
      "/home/dilsad/Desktop/BeCode/Enron_UseCase_Clustering/env/lib/python3.8/site-packages/joblib/backports.py:36: DeprecationWarning: distutils Version classes are deprecated. Use packaging.version instead.\n",
      "  if LooseVersion(np.__version__) < '1.13':\n",
      "/home/dilsad/Desktop/BeCode/Enron_UseCase_Clustering/env/lib/python3.8/site-packages/setuptools/_distutils/version.py:351: DeprecationWarning: distutils Version classes are deprecated. Use packaging.version instead.\n",
      "  other = LooseVersion(other)\n",
      "/home/dilsad/Desktop/BeCode/Enron_UseCase_Clustering/env/lib/python3.8/site-packages/joblib/backports.py:36: DeprecationWarning: distutils Version classes are deprecated. Use packaging.version instead.\n",
      "  if LooseVersion(np.__version__) < '1.13':\n",
      "/home/dilsad/Desktop/BeCode/Enron_UseCase_Clustering/env/lib/python3.8/site-packages/setuptools/_distutils/version.py:351: DeprecationWarning: distutils Version classes are deprecated. Use packaging.version instead.\n",
      "  other = LooseVersion(other)\n",
      "/home/dilsad/Desktop/BeCode/Enron_UseCase_Clustering/env/lib/python3.8/site-packages/joblib/backports.py:36: DeprecationWarning: distutils Version classes are deprecated. Use packaging.version instead.\n",
      "  if LooseVersion(np.__version__) < '1.13':\n",
      "/home/dilsad/Desktop/BeCode/Enron_UseCase_Clustering/env/lib/python3.8/site-packages/setuptools/_distutils/version.py:351: DeprecationWarning: distutils Version classes are deprecated. Use packaging.version instead.\n",
      "  other = LooseVersion(other)\n",
      "/home/dilsad/Desktop/BeCode/Enron_UseCase_Clustering/env/lib/python3.8/site-packages/joblib/backports.py:36: DeprecationWarning: distutils Version classes are deprecated. Use packaging.version instead.\n",
      "  if LooseVersion(np.__version__) < '1.13':\n",
      "/home/dilsad/Desktop/BeCode/Enron_UseCase_Clustering/env/lib/python3.8/site-packages/setuptools/_distutils/version.py:351: DeprecationWarning: distutils Version classes are deprecated. Use packaging.version instead.\n",
      "  other = LooseVersion(other)\n",
      "/home/dilsad/Desktop/BeCode/Enron_UseCase_Clustering/env/lib/python3.8/site-packages/joblib/backports.py:36: DeprecationWarning: distutils Version classes are deprecated. Use packaging.version instead.\n",
      "  if LooseVersion(np.__version__) < '1.13':\n",
      "/home/dilsad/Desktop/BeCode/Enron_UseCase_Clustering/env/lib/python3.8/site-packages/setuptools/_distutils/version.py:351: DeprecationWarning: distutils Version classes are deprecated. Use packaging.version instead.\n",
      "  other = LooseVersion(other)\n",
      "/home/dilsad/Desktop/BeCode/Enron_UseCase_Clustering/env/lib/python3.8/site-packages/joblib/backports.py:36: DeprecationWarning: distutils Version classes are deprecated. Use packaging.version instead.\n",
      "  if LooseVersion(np.__version__) < '1.13':\n",
      "/home/dilsad/Desktop/BeCode/Enron_UseCase_Clustering/env/lib/python3.8/site-packages/setuptools/_distutils/version.py:351: DeprecationWarning: distutils Version classes are deprecated. Use packaging.version instead.\n",
      "  other = LooseVersion(other)\n",
      "/home/dilsad/Desktop/BeCode/Enron_UseCase_Clustering/env/lib/python3.8/site-packages/joblib/backports.py:36: DeprecationWarning: distutils Version classes are deprecated. Use packaging.version instead.\n",
      "  if LooseVersion(np.__version__) < '1.13':\n",
      "/home/dilsad/Desktop/BeCode/Enron_UseCase_Clustering/env/lib/python3.8/site-packages/setuptools/_distutils/version.py:351: DeprecationWarning: distutils Version classes are deprecated. Use packaging.version instead.\n",
      "  other = LooseVersion(other)\n",
      "/home/dilsad/Desktop/BeCode/Enron_UseCase_Clustering/env/lib/python3.8/site-packages/joblib/backports.py:36: DeprecationWarning: distutils Version classes are deprecated. Use packaging.version instead.\n",
      "  if LooseVersion(np.__version__) < '1.13':\n",
      "/home/dilsad/Desktop/BeCode/Enron_UseCase_Clustering/env/lib/python3.8/site-packages/setuptools/_distutils/version.py:351: DeprecationWarning: distutils Version classes are deprecated. Use packaging.version instead.\n",
      "  other = LooseVersion(other)\n",
      "/home/dilsad/Desktop/BeCode/Enron_UseCase_Clustering/env/lib/python3.8/site-packages/joblib/backports.py:36: DeprecationWarning: distutils Version classes are deprecated. Use packaging.version instead.\n",
      "  if LooseVersion(np.__version__) < '1.13':\n",
      "/home/dilsad/Desktop/BeCode/Enron_UseCase_Clustering/env/lib/python3.8/site-packages/setuptools/_distutils/version.py:351: DeprecationWarning: distutils Version classes are deprecated. Use packaging.version instead.\n",
      "  other = LooseVersion(other)\n",
      "/home/dilsad/Desktop/BeCode/Enron_UseCase_Clustering/env/lib/python3.8/site-packages/joblib/backports.py:36: DeprecationWarning: distutils Version classes are deprecated. Use packaging.version instead.\n",
      "  if LooseVersion(np.__version__) < '1.13':\n",
      "/home/dilsad/Desktop/BeCode/Enron_UseCase_Clustering/env/lib/python3.8/site-packages/setuptools/_distutils/version.py:351: DeprecationWarning: distutils Version classes are deprecated. Use packaging.version instead.\n",
      "  other = LooseVersion(other)\n",
      "/home/dilsad/Desktop/BeCode/Enron_UseCase_Clustering/env/lib/python3.8/site-packages/joblib/backports.py:36: DeprecationWarning: distutils Version classes are deprecated. Use packaging.version instead.\n",
      "  if LooseVersion(np.__version__) < '1.13':\n",
      "/home/dilsad/Desktop/BeCode/Enron_UseCase_Clustering/env/lib/python3.8/site-packages/setuptools/_distutils/version.py:351: DeprecationWarning: distutils Version classes are deprecated. Use packaging.version instead.\n",
      "  other = LooseVersion(other)\n",
      "/home/dilsad/Desktop/BeCode/Enron_UseCase_Clustering/env/lib/python3.8/site-packages/joblib/backports.py:36: DeprecationWarning: distutils Version classes are deprecated. Use packaging.version instead.\n",
      "  if LooseVersion(np.__version__) < '1.13':\n",
      "/home/dilsad/Desktop/BeCode/Enron_UseCase_Clustering/env/lib/python3.8/site-packages/setuptools/_distutils/version.py:351: DeprecationWarning: distutils Version classes are deprecated. Use packaging.version instead.\n",
      "  other = LooseVersion(other)\n",
      "/home/dilsad/Desktop/BeCode/Enron_UseCase_Clustering/env/lib/python3.8/site-packages/joblib/backports.py:36: DeprecationWarning: distutils Version classes are deprecated. Use packaging.version instead.\n",
      "  if LooseVersion(np.__version__) < '1.13':\n",
      "/home/dilsad/Desktop/BeCode/Enron_UseCase_Clustering/env/lib/python3.8/site-packages/setuptools/_distutils/version.py:351: DeprecationWarning: distutils Version classes are deprecated. Use packaging.version instead.\n",
      "  other = LooseVersion(other)\n",
      "/home/dilsad/Desktop/BeCode/Enron_UseCase_Clustering/env/lib/python3.8/site-packages/joblib/backports.py:36: DeprecationWarning: distutils Version classes are deprecated. Use packaging.version instead.\n",
      "  if LooseVersion(np.__version__) < '1.13':\n",
      "/home/dilsad/Desktop/BeCode/Enron_UseCase_Clustering/env/lib/python3.8/site-packages/setuptools/_distutils/version.py:351: DeprecationWarning: distutils Version classes are deprecated. Use packaging.version instead.\n",
      "  other = LooseVersion(other)\n",
      "/home/dilsad/Desktop/BeCode/Enron_UseCase_Clustering/env/lib/python3.8/site-packages/joblib/backports.py:36: DeprecationWarning: distutils Version classes are deprecated. Use packaging.version instead.\n",
      "  if LooseVersion(np.__version__) < '1.13':\n",
      "/home/dilsad/Desktop/BeCode/Enron_UseCase_Clustering/env/lib/python3.8/site-packages/setuptools/_distutils/version.py:351: DeprecationWarning: distutils Version classes are deprecated. Use packaging.version instead.\n",
      "  other = LooseVersion(other)\n",
      "/home/dilsad/Desktop/BeCode/Enron_UseCase_Clustering/env/lib/python3.8/site-packages/joblib/backports.py:36: DeprecationWarning: distutils Version classes are deprecated. Use packaging.version instead.\n",
      "  if LooseVersion(np.__version__) < '1.13':\n",
      "/home/dilsad/Desktop/BeCode/Enron_UseCase_Clustering/env/lib/python3.8/site-packages/setuptools/_distutils/version.py:351: DeprecationWarning: distutils Version classes are deprecated. Use packaging.version instead.\n",
      "  other = LooseVersion(other)\n",
      "/home/dilsad/Desktop/BeCode/Enron_UseCase_Clustering/env/lib/python3.8/site-packages/joblib/backports.py:36: DeprecationWarning: distutils Version classes are deprecated. Use packaging.version instead.\n",
      "  if LooseVersion(np.__version__) < '1.13':\n",
      "/home/dilsad/Desktop/BeCode/Enron_UseCase_Clustering/env/lib/python3.8/site-packages/setuptools/_distutils/version.py:351: DeprecationWarning: distutils Version classes are deprecated. Use packaging.version instead.\n",
      "  other = LooseVersion(other)\n",
      "/home/dilsad/Desktop/BeCode/Enron_UseCase_Clustering/env/lib/python3.8/site-packages/joblib/backports.py:36: DeprecationWarning: distutils Version classes are deprecated. Use packaging.version instead.\n",
      "  if LooseVersion(np.__version__) < '1.13':\n",
      "/home/dilsad/Desktop/BeCode/Enron_UseCase_Clustering/env/lib/python3.8/site-packages/setuptools/_distutils/version.py:351: DeprecationWarning: distutils Version classes are deprecated. Use packaging.version instead.\n",
      "  other = LooseVersion(other)\n",
      "/home/dilsad/Desktop/BeCode/Enron_UseCase_Clustering/env/lib/python3.8/site-packages/joblib/backports.py:36: DeprecationWarning: distutils Version classes are deprecated. Use packaging.version instead.\n",
      "  if LooseVersion(np.__version__) < '1.13':\n",
      "/home/dilsad/Desktop/BeCode/Enron_UseCase_Clustering/env/lib/python3.8/site-packages/setuptools/_distutils/version.py:351: DeprecationWarning: distutils Version classes are deprecated. Use packaging.version instead.\n",
      "  other = LooseVersion(other)\n",
      "/home/dilsad/Desktop/BeCode/Enron_UseCase_Clustering/env/lib/python3.8/site-packages/joblib/backports.py:36: DeprecationWarning: distutils Version classes are deprecated. Use packaging.version instead.\n",
      "  if LooseVersion(np.__version__) < '1.13':\n",
      "/home/dilsad/Desktop/BeCode/Enron_UseCase_Clustering/env/lib/python3.8/site-packages/setuptools/_distutils/version.py:351: DeprecationWarning: distutils Version classes are deprecated. Use packaging.version instead.\n",
      "  other = LooseVersion(other)\n",
      "/home/dilsad/Desktop/BeCode/Enron_UseCase_Clustering/env/lib/python3.8/site-packages/joblib/backports.py:36: DeprecationWarning: distutils Version classes are deprecated. Use packaging.version instead.\n",
      "  if LooseVersion(np.__version__) < '1.13':\n",
      "/home/dilsad/Desktop/BeCode/Enron_UseCase_Clustering/env/lib/python3.8/site-packages/setuptools/_distutils/version.py:351: DeprecationWarning: distutils Version classes are deprecated. Use packaging.version instead.\n",
      "  other = LooseVersion(other)\n",
      "/home/dilsad/Desktop/BeCode/Enron_UseCase_Clustering/env/lib/python3.8/site-packages/joblib/backports.py:36: DeprecationWarning: distutils Version classes are deprecated. Use packaging.version instead.\n",
      "  if LooseVersion(np.__version__) < '1.13':\n",
      "/home/dilsad/Desktop/BeCode/Enron_UseCase_Clustering/env/lib/python3.8/site-packages/setuptools/_distutils/version.py:351: DeprecationWarning: distutils Version classes are deprecated. Use packaging.version instead.\n",
      "  other = LooseVersion(other)\n",
      "/home/dilsad/Desktop/BeCode/Enron_UseCase_Clustering/env/lib/python3.8/site-packages/joblib/backports.py:36: DeprecationWarning: distutils Version classes are deprecated. Use packaging.version instead.\n",
      "  if LooseVersion(np.__version__) < '1.13':\n",
      "/home/dilsad/Desktop/BeCode/Enron_UseCase_Clustering/env/lib/python3.8/site-packages/setuptools/_distutils/version.py:351: DeprecationWarning: distutils Version classes are deprecated. Use packaging.version instead.\n",
      "  other = LooseVersion(other)\n",
      "/home/dilsad/Desktop/BeCode/Enron_UseCase_Clustering/env/lib/python3.8/site-packages/joblib/backports.py:36: DeprecationWarning: distutils Version classes are deprecated. Use packaging.version instead.\n",
      "  if LooseVersion(np.__version__) < '1.13':\n",
      "/home/dilsad/Desktop/BeCode/Enron_UseCase_Clustering/env/lib/python3.8/site-packages/setuptools/_distutils/version.py:351: DeprecationWarning: distutils Version classes are deprecated. Use packaging.version instead.\n",
      "  other = LooseVersion(other)\n",
      "/home/dilsad/Desktop/BeCode/Enron_UseCase_Clustering/env/lib/python3.8/site-packages/joblib/backports.py:36: DeprecationWarning: distutils Version classes are deprecated. Use packaging.version instead.\n",
      "  if LooseVersion(np.__version__) < '1.13':\n",
      "/home/dilsad/Desktop/BeCode/Enron_UseCase_Clustering/env/lib/python3.8/site-packages/setuptools/_distutils/version.py:351: DeprecationWarning: distutils Version classes are deprecated. Use packaging.version instead.\n",
      "  other = LooseVersion(other)\n",
      "/home/dilsad/Desktop/BeCode/Enron_UseCase_Clustering/env/lib/python3.8/site-packages/joblib/backports.py:36: DeprecationWarning: distutils Version classes are deprecated. Use packaging.version instead.\n",
      "  if LooseVersion(np.__version__) < '1.13':\n",
      "/home/dilsad/Desktop/BeCode/Enron_UseCase_Clustering/env/lib/python3.8/site-packages/setuptools/_distutils/version.py:351: DeprecationWarning: distutils Version classes are deprecated. Use packaging.version instead.\n",
      "  other = LooseVersion(other)\n",
      "/home/dilsad/Desktop/BeCode/Enron_UseCase_Clustering/env/lib/python3.8/site-packages/joblib/backports.py:36: DeprecationWarning: distutils Version classes are deprecated. Use packaging.version instead.\n",
      "  if LooseVersion(np.__version__) < '1.13':\n",
      "/home/dilsad/Desktop/BeCode/Enron_UseCase_Clustering/env/lib/python3.8/site-packages/setuptools/_distutils/version.py:351: DeprecationWarning: distutils Version classes are deprecated. Use packaging.version instead.\n",
      "  other = LooseVersion(other)\n",
      "/home/dilsad/Desktop/BeCode/Enron_UseCase_Clustering/env/lib/python3.8/site-packages/joblib/backports.py:36: DeprecationWarning: distutils Version classes are deprecated. Use packaging.version instead.\n",
      "  if LooseVersion(np.__version__) < '1.13':\n",
      "/home/dilsad/Desktop/BeCode/Enron_UseCase_Clustering/env/lib/python3.8/site-packages/setuptools/_distutils/version.py:351: DeprecationWarning: distutils Version classes are deprecated. Use packaging.version instead.\n",
      "  other = LooseVersion(other)\n",
      "/home/dilsad/Desktop/BeCode/Enron_UseCase_Clustering/env/lib/python3.8/site-packages/joblib/backports.py:36: DeprecationWarning: distutils Version classes are deprecated. Use packaging.version instead.\n",
      "  if LooseVersion(np.__version__) < '1.13':\n",
      "/home/dilsad/Desktop/BeCode/Enron_UseCase_Clustering/env/lib/python3.8/site-packages/setuptools/_distutils/version.py:351: DeprecationWarning: distutils Version classes are deprecated. Use packaging.version instead.\n",
      "  other = LooseVersion(other)\n",
      "/home/dilsad/Desktop/BeCode/Enron_UseCase_Clustering/env/lib/python3.8/site-packages/joblib/backports.py:36: DeprecationWarning: distutils Version classes are deprecated. Use packaging.version instead.\n",
      "  if LooseVersion(np.__version__) < '1.13':\n",
      "/home/dilsad/Desktop/BeCode/Enron_UseCase_Clustering/env/lib/python3.8/site-packages/setuptools/_distutils/version.py:351: DeprecationWarning: distutils Version classes are deprecated. Use packaging.version instead.\n",
      "  other = LooseVersion(other)\n"
     ]
    },
    {
     "data": {
      "text/html": [
       "\n",
       "<link rel=\"stylesheet\" type=\"text/css\" href=\"https://cdn.jsdelivr.net/gh/bmabey/pyLDAvis@3.3.1/pyLDAvis/js/ldavis.v1.0.0.css\">\n",
       "\n",
       "\n",
       "<div id=\"ldavis_el27721396215515509762266661755\"></div>\n",
       "<script type=\"text/javascript\">\n",
       "\n",
       "var ldavis_el27721396215515509762266661755_data = {\"mdsDat\": {\"x\": [0.023299390207217212, 0.3013440235787423, -0.27086383325662794, -0.05456633557412403, -0.35410354585037246, 0.3279925131082915, 0.4587841371816192, 0.2603603205908633, -0.008253621646744367, -0.045287569381917275, -0.21887789894084056, -0.35596062257172856, 0.012452571541145674, -0.07631952898552379], \"y\": [-0.29546531024602096, -0.36562261869388923, -0.3391373342381768, -0.4239635713040033, -0.11995653985603687, -0.08139421595382297, 0.07962593719510125, 0.2964106195826811, 0.41382932696427427, 0.025158131856801824, 0.24255021853803538, 0.124551015287201, 0.20906842965396935, 0.23434591121388615], \"topics\": [1, 2, 3, 4, 5, 6, 7, 8, 9, 10, 11, 12, 13, 14], \"cluster\": [1, 1, 1, 1, 1, 1, 1, 1, 1, 1, 1, 1, 1, 1], \"Freq\": [25.33886189204626, 24.90630598783629, 17.26079495654243, 16.56878478897604, 4.59966972521018, 2.493025468069543, 2.3371800978699238, 1.6988358050597385, 1.2718482598337346, 1.0941477990938429, 0.9908736784433665, 0.945530304546765, 0.277904540848291, 0.21623669562359304]}, \"tinfo\": {\"Term\": [\"com\", \"energy\", \"employee\", \"fund\", \"report\", \"company\", \"consumer\", \"stock\", \"pay\", \"aol\", \"result\", \"make\", \"donate\", \"million\", \"retirement\", \"bankruptcy\", \"declare\", \"sell\", \"lie\", \"market\", \"independent\", \"www\", \"stress\", \"goldman_sachs\", \"health\", \"economic\", \"public\", \"situation\", \"government\", \"therefore\", \"accept\", \"international\", \"colleague\", \"affect\", \"multiple\", \"prevent\", \"pressure\", \"free\", \"investment\", \"click\", \"visit\", \"target\", \"policy\", \"information\", \"event\", \"issue\", \"review\", \"recent\", \"period\", \"business\", \"mail\", \"see\", \"new\", \"address\", \"include\", \"year\", \"today\", \"contact\", \"company\", \"stock\", \"donate\", \"million\", \"retirement\", \"bankruptcy\", \"declare\", \"basic\", \"thousand\", \"indeed\", \"worth\", \"urge\", \"york_time\", \"low_income\", \"employee_transition\", \"aggressively_urge\", \"help_repair\", \"keep_buye\", \"financially_devastate\", \"wipe\", \"bankrupt\", \"fund\", \"consumer\", \"employee\", \"sell\", \"dollar\", \"pay\", \"company\", \"make\", \"lose\", \"energy\", \"money\", \"write\", \"sincerely\", \"benefit\", \"year\", \"family\", \"know\", \"feel\", \"want\", \"pass\", \"totally\", \"matter\", \"seem\", \"conduct\", \"notice\", \"half\", \"bit\", \"grateful\", \"ago\", \"prudent\", \"try\", \"suggest\", \"love\", \"course\", \"appreciate\", \"ken\", \"think\", \"circumstance\", \"like\", \"tell\", \"response\", \"give\", \"leave\", \"believe\", \"ask\", \"letter\", \"work\", \"good\", \"get\", \"due\", \"send\", \"lie\", \"time\", \"year\", \"find\", \"take\", \"content\", \"customer\", \"metal\", \"acquisition\", \"ignore\", \"design\", \"sun\", \"compelling\", \"solution\", \"sale\", \"extended\", \"contract\", \"contractual\", \"org_tii\", \"risk\", \"lighthouse_lhlink\", \"network\", \"electricity\", \"manage\", \"plant\", \"system\", \"service\", \"market\", \"application\", \"power\", \"management\", \"product\", \"technology\", \"industry\", \"cost\", \"price\", \"business\", \"base\", \"development\", \"month\", \"year\", \"company\", \"offer\", \"new\", \"unable\", \"expansion\", \"swbell_net\", \"room\", \"earning\", \"shea_dugg\", \"unfortunately\", \"fellow\", \"dell\", \"memo\", \"jeff\", \"rosalee_fleme\", \"season\", \"delete\", \"attachment\", \"fly\", \"iso\", \"addressee\", \"attached\", \"housing\", \"doc\", \"attach\", \"board\", \"draft\", \"meeting\", \"release\", \"file\", \"stay\", \"forward\", \"call\", \"thank\", \"confirm\", \"message\", \"paper\", \"question\", \"see\", \"lie\", \"send\", \"receive\", \"conference\", \"mail\", \"houston_rr\", \"original_message\", \"paste\", \"browser\", \"content_type\", \"i\", \"bracepatt\", \"depowell_cisco\", \"lliming_real\", \"jstiglitz_brooking\", \"len_shv\", \"pfizer\", \"robg_real\", \"hhk_sprintmail\", \"carlsonl_blackstone\", \"com_jeanne_gile\", \"jbneff_wellmanage\", \"excite\", \"congressman\", \"wise\", \"aol\", \"com\", \"net\", \"subject\", \"hotmail\", \"mail\", \"send\", \"email\", \"org\", \"chart\", \"thank\", \"receive\", \"lie\", \"pm\", \"analyst_report\", \"endorse\", \"compaq_investor\", \"reports_provide\", \"conigliaro\", \"analyst\", \"solely\", \"spread\", \"verify\", \"relations_department\", \"elizabeth_davi\", \"elizabeth_davis\", \"following_item\", \"independent_analyst\", \"research_analyst\", \"sunw\", \"aside\", \"weakness\", \"ramp\", \"author\", \"compaq\", \"tech\", \"prepare\", \"report\", \"track\", \"buy\", \"result\", \"distribute\", \"performance\", \"herein\", \"monitor\", \"read\", \"individual\", \"interested\", \"open\", \"employment\", \"daily\", \"day_traile\", \"enrononline\", \"log\", \"external_user\", \"today_average\", \"print\", \"woman\", \"un_wire\", \"enrononline_executive\", \"counterpartie\", \"executive_summary\", \"percentage\", \"physical_flow\", \"transact\", \"avg\", \"avg_notional\", \"avg_total\", \"daily_external\", \"transaction\", \"total\", \"candidate\", \"today\", \"life\", \"date\", \"number\", \"find\", \"follow\", \"first\", \"new\", \"saving\", \"workshop\", \"reservation\", \"outlook\", \"teacher\", \"tip\", \"car\", \"parent\", \"abstract\", \"embrace\", \"anticipate\", \"peace\", \"aircraft\", \"length\", \"barrier\", \"writer\", \"king\", \"expensive\", \"lift\", \"sustainable\", \"efficiency\", \"co\", \"save\", \"energy\", \"org\", \"arena\", \"natural_gas\", \"trip\", \"cera\", \"perspective\", \"solve\", \"bulletin\", \"safe\", \"attract\", \"timely\", \"producer\", \"shoot\", \"explore\", \"society\", \"tight\", \"around\", \"jet\", \"eventually\", \"walk\", \"trader\", \"gas\", \"leadership\", \"conference\", \"governor\", \"leader\", \"market\", \"issue\", \"possibility\", \"stay\", \"ect\", \"hou\", \"ee\", \"th_floor\", \"passcode\", \"rebecca\", \"coordinator\", \"boardroom_video\", \"cdt_location\", \"conf_call\", \"remote_location\", \"sherri_sera\", \"upon_requ\", \"weekly_dial\", \"katherine\", \"enronxgate\", \"rick_buy\", \"ees_ee\", \"mark_frevert\", \"lon_ect\", \"attend\", \"connection\", \"reserve\", \"conference\", \"meeting\", \"executive\", \"number\", \"committee\", \"call\", \"communication\", \"video\", \"contact\", \"time\", \"thank\", \"trigger\", \"voluntary\", \"thought\", \"survey\", \"hotel\", \"amendment\", \"locker\", \"input\", \"emission\", \"desk\", \"holiday\", \"pep\", \"draw\", \"lobby\", \"reflect\", \"template\", \"combination\", \"rely\", \"plane\", \"rob_wall\", \"feedback\", \"responsibility\", \"request\", \"complete\", \"option\", \"review\", \"process\", \"employee\", \"due\", \"select\", \"management\", \"participation\", \"noon\", \"ave\", \"transcript\", \"brooking\", \"brookings_edu\", \"social_security\", \"measurement\", \"currently_subscribe\", \"blank\", \"brookings_alert\", \"hess\", \"chat\", \"comm\", \"stephen_hess\", \"usa\", \"victor\", \"press_book\", \"connecticut\", \"lindsay\", \"placement\", \"htm\", \"policy\", \"reform\", \"lly_lilly\", \"press_release\", \"azurix\", \"est\", \"opic\", \"tonight\", \"karen\", \"river\", \"pende\", \"substance\", \"ribozyme\", \"concurrently\", \"nonlilly\", \"ema\", \"colleen_parker\", \"intention\", \"approve\", \"lly\", \"trial\", \"gregory\", \"approval\"], \"Freq\": [6431.0, 3966.0, 6402.0, 3432.0, 1877.0, 6237.0, 3328.0, 2583.0, 3579.0, 879.0, 1385.0, 3940.0, 2079.0, 2063.0, 2042.0, 2029.0, 1978.0, 2270.0, 2412.0, 958.0, 703.9594790037546, 675.5431820628534, 519.3556304460557, 517.043252517622, 485.53029446295045, 411.83916188733036, 380.955218761951, 376.81640321042585, 337.0346383917196, 333.2340958542352, 329.7544985378151, 311.4714708630713, 311.3533450521565, 305.312864387431, 302.68317125011896, 295.8853818000024, 294.33703118780124, 293.73681569220577, 288.8185703418025, 284.92043863693067, 347.5285022385643, 336.9325167229288, 412.2631312664031, 1085.9327858243266, 728.4438109217851, 801.3153629560056, 488.20699726083706, 397.99975045584057, 497.76030690050317, 778.7892320868239, 572.5014154870964, 581.6011942119873, 741.4030747577222, 387.45037349446073, 434.94721780396605, 621.9583861557812, 445.89882418193446, 449.514115766037, 570.6494273914914, 2583.1459949797745, 2078.4541412667536, 2062.486490288848, 2041.650370324573, 2029.1533032922164, 1977.5589813207635, 1121.7227895146546, 1120.1062483807495, 1117.1172124916252, 1064.4491653057737, 1051.0074534861294, 992.6058540116269, 989.8423343238081, 989.1157936668743, 987.2938435454163, 986.8626029492831, 986.8626029492831, 986.6058614277966, 984.832247471164, 981.2772132278534, 3361.9879592910042, 3237.1907629684415, 6025.455413104922, 2170.29884717307, 1183.647567097738, 3168.3329392315804, 4946.624385745879, 3255.95528795345, 1181.0643026673265, 2901.7576497390473, 1167.4330310756757, 1348.8600265079367, 1205.2755958765981, 1142.9185526237395, 1303.0196005943437, 784.5647554138261, 952.3761194419899, 552.0136127015397, 499.41663760067684, 488.8436124020365, 381.4434421267522, 311.24892126881076, 264.99748265519986, 262.4523170121015, 240.3283656124967, 225.9121402927778, 222.54526730703077, 205.6410913399907, 203.11044803225795, 198.989274291533, 166.36201310003358, 158.06667207306796, 143.30130959191575, 139.84943381158283, 122.5190689695986, 549.8640884810078, 512.5517142434616, 568.4471037952483, 452.04281236025764, 353.6841415227232, 986.0125258324091, 540.8806237381151, 478.0942972546117, 376.17611048590175, 590.8978418947077, 632.2007298396423, 703.4027974832977, 496.2267513079322, 464.84845194282946, 510.4491861035107, 680.8301974539594, 883.1581060979368, 562.0540520846645, 694.7838255979351, 536.2277385275598, 533.9867358897108, 547.4542683312353, 482.4963795564282, 367.1033157217255, 312.17333908972853, 298.49907080767423, 297.4712529578857, 291.08350717651655, 280.1913079661326, 272.6042927354019, 272.39494186072056, 268.15510143279073, 267.5304322042408, 266.56925937732444, 229.96490676773328, 224.15239067610491, 206.94282817899065, 195.2595045501088, 192.94658653968403, 179.77536884349644, 166.6012005117035, 503.17821069207287, 735.026619635137, 853.3174699129826, 246.90588274114745, 479.4632310656493, 558.978795308807, 380.74726458369315, 449.9157497090974, 345.1186412700047, 335.3694527234409, 332.8336633702944, 539.2924168288446, 300.6133258012769, 317.5434172077915, 309.5657115950446, 495.04809491485923, 576.2443411988062, 345.0621726614869, 363.12213456792585, 509.9259768396554, 326.40705194831867, 155.05172807681373, 152.7919260776571, 72.01146777057534, 66.3704671376714, 64.0779218770856, 62.30331283142165, 61.29226178877209, 60.70734277787118, 58.0445591138136, 55.89474593101217, 53.1101452477549, 51.783580807838085, 51.776401609312586, 50.56903662077606, 49.27082127767368, 42.30461413641987, 39.31519514228804, 38.33808510767764, 666.080097790257, 516.3602279416863, 259.7973995453707, 112.88957661620515, 430.64179165325345, 128.4319880576987, 202.78607345017818, 95.03187365023769, 254.48755946757507, 336.2560094646388, 289.6448955717356, 107.36249661223628, 190.1928855003215, 122.67936763433238, 177.18893963401695, 262.138196883673, 344.0657542298029, 245.71213240825267, 188.352214722181, 157.63268635240317, 149.64220926898352, 50.84607279503102, 41.016479919026125, 37.212404515962135, 33.25543049118277, 24.97417688934405, 24.557831621940526, 20.58256414369839, 17.657207901148062, 15.48924719926328, 15.369127225905537, 15.118218235626985, 14.865422874783187, 13.264348098810736, 13.24535514914987, 13.226317802692225, 13.200464068036206, 13.200464068036206, 13.199612636133587, 12.996736046989486, 12.596885669481553, 782.9209442372818, 5000.515736884894, 235.7039911041596, 157.53655183590965, 75.57285889359216, 168.15310851923303, 111.84511289463912, 67.63894215143897, 39.89713603955825, 18.66847813811681, 39.4684326771232, 33.438503149178224, 36.50793193024481, 26.16100389991178, 192.21930834536977, 189.33934147998085, 185.72106576497933, 185.72106576497933, 165.31609748017257, 110.1066669545012, 96.72116746760753, 95.54867855508088, 95.30740739192876, 93.11081647477414, 92.87034444326923, 92.87034444326923, 92.87034444326923, 92.87034444326923, 92.87034444326923, 86.61363940324664, 85.72145331534439, 84.77489667796375, 83.79074385632896, 42.17459074550819, 504.3963274476842, 170.14297101916708, 195.61912514600004, 450.79537134302683, 108.88133176211952, 112.55716715382114, 204.7108606949905, 97.44384885389698, 112.75683167574883, 97.25758458579418, 98.32222032341652, 104.9456823933038, 98.62147292719364, 98.49833265985296, 98.61215712401001, 471.2939912185399, 161.03675277331467, 138.9190796511675, 115.25233876903046, 99.8629150913084, 92.63012788360233, 92.63012788360233, 74.54865467793749, 62.03430777620154, 61.664402339485996, 56.139781599509135, 55.45541136295232, 51.51920144260202, 47.51759545087472, 47.11650062211089, 47.11650062211089, 46.341170737628445, 46.341170737628445, 46.341170737628445, 46.341170737628445, 357.01651053992526, 161.2740481651358, 122.11527432410799, 163.91663246826943, 113.747040499037, 109.14359595224643, 118.75115498030414, 122.69936950887168, 76.7216232254759, 67.45182826374563, 65.24136682916313, 480.55315071533545, 94.77902468336013, 67.21034614809068, 45.54256664452661, 42.63878533734346, 42.394250366463254, 40.637701674023454, 38.45018274499087, 36.85580104443695, 33.70100396552341, 33.501472207257116, 31.925554447242813, 30.44759965950819, 28.829082562684615, 28.423514085746007, 26.21934318286072, 24.794364261162407, 23.428660809681908, 23.41531064179201, 22.699364351163496, 180.72064490946613, 85.67200763627893, 105.24815748788176, 1064.3669488990138, 33.158831320058596, 98.97828904502566, 71.21354867950797, 65.0308626901959, 55.408233662675165, 46.13170713181582, 39.11341331117241, 38.38409844288982, 37.36199902766873, 36.83333312766501, 35.90367065945244, 35.03848716188317, 33.92791708424508, 33.54654409875323, 32.59599368635998, 31.6422321422494, 31.594799535339614, 31.091923145190812, 30.370935742548415, 28.77555232367199, 27.77615945473686, 123.44651692237532, 121.77313972121033, 229.95596636575823, 54.546105416642774, 56.941602749761444, 65.0184684838479, 49.70741487919088, 36.659644502596464, 37.51655942259371, 409.9330713670551, 126.7549329133596, 88.91116455278178, 57.49321159930219, 49.88340969918349, 40.5913456970946, 30.563575731860706, 22.27036553837463, 22.27036553837463, 22.27036553837463, 22.27036553837463, 22.27036553837463, 22.216367590448147, 22.216367590448147, 20.550333419961355, 20.358669408780013, 18.54728812144527, 17.935380916099415, 16.79637179938729, 12.491509863191032, 87.23779597212523, 25.943755306596177, 39.552685930132455, 74.148364632476, 74.57197858101495, 53.14663559739598, 57.290062868004725, 33.0167226146165, 53.733432329600745, 36.9031349618726, 31.001855363694613, 34.683155189761784, 35.37252386778379, 31.28424584045324, 189.04191463277354, 187.15776397476498, 89.45578622017807, 66.28888380192024, 55.84047129667945, 45.141147432331785, 43.569400410106915, 39.2751129225932, 33.45066697287171, 32.24572129121931, 28.66832682228556, 27.10241111906402, 27.002883555294638, 24.34394877079778, 21.3701886169065, 19.050503088738452, 18.96987043541518, 18.306053495679453, 16.792246973952004, 15.60114768144227, 98.3429977693381, 39.37901397561508, 84.70303372720431, 92.51439685515223, 41.72158473672998, 78.6004745724913, 57.03538279902017, 140.6706325677408, 65.80400423851081, 40.823513714373014, 52.8182794640639, 36.55583536167481, 38.230414635981624, 36.9616385556675, 20.535340299414212, 19.385582142954377, 15.801308544397383, 12.266178647917696, 11.516341268402638, 11.174520847916916, 7.296295659419178, 6.840870460077561, 6.765327063201474, 6.394796078296772, 6.274017617564491, 5.950074872787018, 5.3804276948794065, 4.776292118630912, 4.505215190504615, 4.467118615383815, 4.419542767737577, 4.405382807460576, 46.41039862786858, 17.112634891824495, 5.032111060481344, 48.478574208150995, 36.9010535484858, 30.410585095667173, 19.438873548757662, 17.785119824258928, 13.91301706737641, 10.367743301920633, 8.391791165978299, 7.534971620804252, 6.267568050661598, 5.542378423621505, 2.1558572538140215, 2.0313814927570633, 1.5317972618359132, 1.226734272598176, 4.364625250640588, 7.2123761460267914, 0.03774602036806119, 0.036416852997318845, 0.0361047165044938, 1.408704290953917], \"Total\": [6431.0, 3966.0, 6402.0, 3432.0, 1877.0, 6237.0, 3328.0, 2583.0, 3579.0, 879.0, 1385.0, 3940.0, 2079.0, 2063.0, 2042.0, 2029.0, 1978.0, 2270.0, 2412.0, 958.0, 704.8540688355545, 676.4377711471677, 520.250300271511, 517.9381632923286, 486.5038166334045, 412.73375021807976, 381.8498068756202, 377.7109980009869, 337.9292262034311, 334.12871754394513, 330.64909915466217, 312.3660588665896, 312.247945677582, 306.20746651207344, 303.5778132271386, 296.77998587735647, 295.2316383584954, 294.63140518336115, 289.713158875936, 285.81502765808574, 352.2429867403395, 341.5667045656988, 430.2291873895855, 1424.390505646194, 914.0532357905504, 1088.3275197114804, 567.7602192216668, 440.11662716988394, 609.7473507649776, 1414.703960599092, 1048.2393355773743, 1283.9131586233682, 2366.9144102284645, 488.7273996540543, 712.4870857315436, 3115.393331134251, 812.0221161688734, 885.5460918549015, 6237.9811984118105, 2583.92550709152, 2079.2336465124667, 2063.265995192933, 2042.4298751952076, 2029.9328084105737, 1978.338485660543, 1122.5022969305442, 1120.8857551132521, 1117.8968463998783, 1065.2286733865817, 1051.7869618057725, 993.3853584911391, 990.6218392075468, 989.8952979313282, 988.0733478098701, 987.642107213737, 987.642107213737, 987.3853656922505, 985.6117517356179, 982.0567174923073, 3432.866706224326, 3328.2542640906463, 6402.747248570676, 2270.411886234764, 1203.1952144127783, 3579.68425801424, 6237.9811984118105, 3940.3664907759244, 1214.2870754990745, 3966.8233723592616, 1243.7364480192841, 1785.8220460967211, 1472.9069550017737, 1264.6854358146093, 3115.393331134251, 785.4772529283764, 953.4937935849265, 552.9261128453331, 500.3291341426534, 489.7561418131571, 382.3559599642497, 312.1614216642808, 265.90997960786336, 263.36481589933277, 241.24086606999938, 226.82471578321608, 223.4578479926101, 206.55359310276407, 204.02294827950226, 199.90177943422478, 167.2745098470943, 158.979171594448, 144.2138060040513, 140.8161691558239, 123.43156499033184, 556.2315259122071, 534.2199332117572, 599.5959378884669, 478.0970565186134, 377.6604661502277, 1157.835728672994, 601.0628863587987, 532.8341687619136, 412.7832829256836, 703.9562218398154, 778.6270056937138, 887.5887361039611, 630.9464423369806, 609.2002878644347, 719.3273786944955, 1242.3085589277273, 2412.1478851296197, 1137.5133843257572, 3115.393331134251, 1025.332511124278, 1009.156463055307, 548.344712543326, 483.3868188346114, 367.9937795369675, 313.06383370118084, 299.38958800366703, 298.36169499821375, 291.9742542341837, 281.08221552206214, 273.4947325823296, 273.28538159417235, 269.04590400309735, 268.42087150235443, 267.4601120421996, 230.85534859789152, 225.04283155456932, 207.83327038488028, 196.14994485606402, 193.83702851997717, 180.665808931009, 167.4916412697797, 516.0283130489843, 806.6460033600727, 958.9204135161334, 254.9405314530324, 542.262467002922, 650.6433705862954, 432.9334164959741, 542.3128644634619, 392.26632083422885, 396.85253823733495, 408.5527071524684, 1414.703960599092, 345.59408044554465, 412.4582478591938, 386.4681393941858, 3115.393331134251, 6237.9811984118105, 878.6475107210165, 2366.9144102284645, 510.8053411086956, 327.2865474277897, 155.93115043610945, 153.6712758161792, 72.89082139182028, 67.24981363256244, 64.95728773668785, 63.18267915682032, 62.171623370389234, 61.58669340614002, 58.92391954884879, 56.77409382125588, 53.989499372364676, 52.66293543359563, 52.6557485065992, 51.44840557150636, 50.15017540048518, 43.18396093712078, 40.19454461480389, 39.217454508255365, 754.8580533830007, 923.5856781678569, 408.62242797463034, 145.25667236643895, 889.2282053932707, 205.22070532804378, 413.6937688765143, 133.3632743674908, 631.775080954319, 1045.3716772302685, 868.025104948388, 165.33112185997663, 525.2693935515397, 242.1238832772364, 545.2181999614805, 1283.9131586233682, 2412.1478851296197, 1242.3085589277273, 1015.0339543680458, 603.415546170272, 1048.2393355773743, 51.74385902052326, 41.91426762575312, 38.11019551794128, 34.15323642745026, 25.871964131022164, 25.455623911611276, 21.480354149112173, 18.554994596943445, 16.387033924511098, 16.266914224189875, 16.016005196962595, 15.763209537172937, 14.162135033040439, 14.143142142085834, 14.124104859750009, 14.098251239139248, 14.098251239139248, 14.097408525533268, 13.89454504684399, 13.494673642742564, 879.7353722560747, 6431.00936343567, 372.84150550059155, 506.11203468651183, 228.58804447388977, 1048.2393355773743, 1242.3085589277273, 671.050482693773, 333.0884864893194, 33.146571438261795, 868.025104948388, 1015.0339543680458, 2412.1478851296197, 345.9302222870475, 193.160936596733, 190.280971387531, 186.6626940485878, 186.6626940485878, 166.2577297468943, 111.04829969415444, 97.66279759855777, 96.49031487628233, 96.24903649993342, 94.05244535090888, 93.81197272687771, 93.81197272687771, 93.81197272687771, 93.81197272687771, 93.81197272687771, 87.55526794871125, 86.66308449203451, 85.71652673984067, 84.73237514633027, 43.11623534138509, 665.5029140955569, 242.9724202299072, 303.60114981137815, 1877.4384114800887, 141.6262571317765, 169.22293133653517, 1385.1504845815068, 115.58327598187206, 222.37306575334506, 120.0332261288155, 129.4009622730681, 374.35568927679253, 174.75308444592068, 245.22179675781743, 358.2666016187033, 472.2054357299127, 161.94817374638782, 139.83049527358992, 116.16375710203525, 100.77433382884662, 93.54154350602481, 93.54154350602481, 75.46008509846214, 62.94573600251039, 62.575818561399, 57.051197351393824, 56.36683220808513, 52.430618731514095, 48.42901173032353, 48.02791624453335, 48.02791624453335, 47.252586360050906, 47.252586360050906, 47.252586360050906, 47.252586360050906, 387.4784924103424, 224.53271592142656, 186.6257576301406, 812.0221161688734, 391.1796670526765, 397.62376246909383, 624.3591351166673, 1025.332511124278, 840.0786463179727, 683.890574253484, 2366.9144102284645, 481.4369537532124, 95.66282901778362, 68.0941565615079, 46.42641566796745, 43.522608958181024, 43.278056351723954, 41.5215050856254, 39.333990233596055, 37.739613216241615, 34.5848268222472, 34.385291672770784, 32.809371088831405, 31.331402636110987, 29.71290714737685, 29.30733703028812, 27.103159068480736, 25.678167093627568, 24.312473773332446, 24.299121743870558, 23.58318150259098, 228.61263795331627, 119.55974987974582, 163.33930766557225, 3966.8233723592616, 333.0884864893194, 99.87831198624046, 72.11357333815046, 65.93088897841037, 56.30825522564968, 47.03173222169758, 40.013456831463905, 39.28412523303748, 38.26203195299743, 37.7333587111935, 36.80369773176881, 35.938514232407385, 34.827940417668245, 34.44657377472546, 33.4960200245403, 32.542263088568255, 32.4948270095239, 31.99195621085506, 31.27096094621965, 29.67558011530571, 28.676184139713108, 146.20310838945832, 205.01962557070192, 603.415546170272, 74.03504069552478, 261.2190531549953, 958.9204135161334, 1088.3275197114804, 86.24045557973248, 133.3632743674908, 410.8120008017984, 127.63386211417736, 89.79009853620701, 58.37214274720288, 50.762339018221056, 41.47028493062745, 31.4425339258555, 23.14929454306252, 23.14929454306252, 23.14929454306252, 23.14929454306252, 23.14929454306252, 23.095296595136038, 23.095296595136038, 21.429262616508005, 21.2376014409712, 19.42621735543091, 18.814310290555394, 17.67530187252372, 13.370439540016722, 263.18562320266585, 43.48854137112287, 111.45689729991932, 603.415546170272, 889.2282053932707, 360.67610760853995, 624.3591351166673, 124.9881996308772, 1045.3716772302685, 315.8612555018391, 157.85865212159658, 885.5460918549015, 1137.5133843257572, 868.025104948388, 189.95745110180638, 188.07329067602373, 90.37129467400099, 67.20438478874841, 56.755978204353944, 46.056654799883, 44.48490680040622, 40.190618895004405, 34.3661765666822, 33.16122982003617, 29.58383182449388, 28.01791112132723, 27.918395827355518, 25.259458580190273, 22.285700988638, 19.96600427223116, 19.885380603804656, 19.221577203943113, 17.707752091932004, 16.516660873015486, 141.43712600226593, 55.50717269641793, 335.8182873436632, 471.0575621290314, 111.66703222764322, 567.7602192216668, 325.7101293695501, 6402.747248570676, 719.3273786944955, 141.00967684973196, 650.6433705862954, 115.32108646958656, 39.15378557919905, 37.885009840514755, 21.458714656227606, 20.30894934654375, 16.724675492399044, 13.189547729309929, 12.439712935814063, 12.097903219207858, 8.219663886578516, 7.764237390422149, 7.688699711118506, 7.318165792010769, 7.197386397473667, 6.873441858376359, 6.303798577855272, 5.6996633784986255, 5.428596039120315, 5.390489422556287, 5.342911077215774, 5.3287823640801815, 83.00262116300058, 430.2291873895855, 127.67139940319417, 49.40869733935607, 37.83118049230177, 31.34070998309066, 20.3690098424023, 18.715244532191928, 14.843168475211492, 11.297878459422993, 9.321922364940107, 8.465107947626903, 7.197700196655073, 6.472503079575878, 3.0859982868691525, 2.9615046904260014, 2.461920482535009, 2.156857911787317, 14.5418694367121, 69.16927605801031, 0.970796235589693, 0.9758977532887734, 0.9691634378405523, 51.12772392534496], \"Category\": [\"Default\", \"Default\", \"Default\", \"Default\", \"Default\", \"Default\", \"Default\", \"Default\", \"Default\", \"Default\", \"Default\", \"Default\", \"Default\", \"Default\", \"Default\", \"Default\", \"Default\", \"Default\", \"Default\", \"Default\", \"Topic1\", \"Topic1\", \"Topic1\", \"Topic1\", \"Topic1\", \"Topic1\", \"Topic1\", \"Topic1\", \"Topic1\", \"Topic1\", \"Topic1\", \"Topic1\", \"Topic1\", \"Topic1\", \"Topic1\", \"Topic1\", \"Topic1\", \"Topic1\", \"Topic1\", \"Topic1\", \"Topic1\", \"Topic1\", \"Topic1\", \"Topic1\", \"Topic1\", \"Topic1\", \"Topic1\", \"Topic1\", \"Topic1\", \"Topic1\", \"Topic1\", \"Topic1\", \"Topic1\", \"Topic1\", \"Topic1\", \"Topic1\", \"Topic1\", \"Topic1\", \"Topic1\", \"Topic2\", \"Topic2\", \"Topic2\", \"Topic2\", \"Topic2\", \"Topic2\", \"Topic2\", \"Topic2\", \"Topic2\", \"Topic2\", \"Topic2\", \"Topic2\", \"Topic2\", \"Topic2\", \"Topic2\", \"Topic2\", \"Topic2\", \"Topic2\", \"Topic2\", \"Topic2\", \"Topic2\", \"Topic2\", \"Topic2\", \"Topic2\", \"Topic2\", \"Topic2\", \"Topic2\", \"Topic2\", \"Topic2\", \"Topic2\", \"Topic2\", \"Topic2\", \"Topic2\", \"Topic2\", \"Topic2\", \"Topic3\", \"Topic3\", \"Topic3\", \"Topic3\", \"Topic3\", \"Topic3\", \"Topic3\", \"Topic3\", \"Topic3\", \"Topic3\", \"Topic3\", \"Topic3\", \"Topic3\", \"Topic3\", \"Topic3\", \"Topic3\", \"Topic3\", \"Topic3\", \"Topic3\", \"Topic3\", \"Topic3\", \"Topic3\", \"Topic3\", \"Topic3\", \"Topic3\", \"Topic3\", \"Topic3\", \"Topic3\", \"Topic3\", \"Topic3\", \"Topic3\", \"Topic3\", \"Topic3\", \"Topic3\", \"Topic3\", \"Topic3\", \"Topic3\", \"Topic3\", \"Topic3\", \"Topic3\", \"Topic3\", \"Topic4\", \"Topic4\", \"Topic4\", \"Topic4\", \"Topic4\", \"Topic4\", \"Topic4\", \"Topic4\", \"Topic4\", \"Topic4\", \"Topic4\", \"Topic4\", \"Topic4\", \"Topic4\", \"Topic4\", \"Topic4\", \"Topic4\", \"Topic4\", \"Topic4\", \"Topic4\", \"Topic4\", \"Topic4\", \"Topic4\", \"Topic4\", \"Topic4\", \"Topic4\", \"Topic4\", \"Topic4\", \"Topic4\", \"Topic4\", \"Topic4\", \"Topic4\", \"Topic4\", \"Topic4\", \"Topic4\", \"Topic4\", \"Topic4\", \"Topic4\", \"Topic4\", \"Topic5\", \"Topic5\", \"Topic5\", \"Topic5\", \"Topic5\", \"Topic5\", \"Topic5\", \"Topic5\", \"Topic5\", \"Topic5\", \"Topic5\", \"Topic5\", \"Topic5\", \"Topic5\", \"Topic5\", \"Topic5\", \"Topic5\", \"Topic5\", \"Topic5\", \"Topic5\", \"Topic5\", \"Topic5\", \"Topic5\", \"Topic5\", \"Topic5\", \"Topic5\", \"Topic5\", \"Topic5\", \"Topic5\", \"Topic5\", \"Topic5\", \"Topic5\", \"Topic5\", \"Topic5\", \"Topic5\", \"Topic5\", \"Topic5\", \"Topic5\", \"Topic5\", \"Topic5\", \"Topic5\", \"Topic6\", \"Topic6\", \"Topic6\", \"Topic6\", \"Topic6\", \"Topic6\", \"Topic6\", \"Topic6\", \"Topic6\", \"Topic6\", \"Topic6\", \"Topic6\", \"Topic6\", \"Topic6\", \"Topic6\", \"Topic6\", \"Topic6\", \"Topic6\", \"Topic6\", \"Topic6\", \"Topic6\", \"Topic6\", \"Topic6\", \"Topic6\", \"Topic6\", \"Topic6\", \"Topic6\", \"Topic6\", \"Topic6\", \"Topic6\", \"Topic6\", \"Topic6\", \"Topic6\", \"Topic6\", \"Topic7\", \"Topic7\", \"Topic7\", \"Topic7\", \"Topic7\", \"Topic7\", \"Topic7\", \"Topic7\", \"Topic7\", \"Topic7\", \"Topic7\", \"Topic7\", \"Topic7\", \"Topic7\", \"Topic7\", \"Topic7\", \"Topic7\", \"Topic7\", \"Topic7\", \"Topic7\", \"Topic7\", \"Topic7\", \"Topic7\", \"Topic7\", \"Topic7\", \"Topic7\", \"Topic7\", \"Topic7\", \"Topic7\", \"Topic7\", \"Topic7\", \"Topic7\", \"Topic7\", \"Topic7\", \"Topic7\", \"Topic8\", \"Topic8\", \"Topic8\", \"Topic8\", \"Topic8\", \"Topic8\", \"Topic8\", \"Topic8\", \"Topic8\", \"Topic8\", \"Topic8\", \"Topic8\", \"Topic8\", \"Topic8\", \"Topic8\", \"Topic8\", \"Topic8\", \"Topic8\", \"Topic8\", \"Topic8\", \"Topic8\", \"Topic8\", \"Topic8\", \"Topic8\", \"Topic8\", \"Topic8\", \"Topic8\", \"Topic8\", \"Topic8\", \"Topic8\", \"Topic8\", \"Topic9\", \"Topic9\", \"Topic9\", \"Topic9\", \"Topic9\", \"Topic9\", \"Topic9\", \"Topic9\", \"Topic9\", \"Topic9\", \"Topic9\", \"Topic9\", \"Topic9\", \"Topic9\", \"Topic9\", \"Topic9\", \"Topic9\", \"Topic9\", \"Topic9\", \"Topic9\", \"Topic9\", \"Topic9\", \"Topic9\", \"Topic9\", \"Topic9\", \"Topic10\", \"Topic10\", \"Topic10\", \"Topic10\", \"Topic10\", \"Topic10\", \"Topic10\", \"Topic10\", \"Topic10\", \"Topic10\", \"Topic10\", \"Topic10\", \"Topic10\", \"Topic10\", \"Topic10\", \"Topic10\", \"Topic10\", \"Topic10\", \"Topic10\", \"Topic10\", \"Topic10\", \"Topic10\", \"Topic10\", \"Topic10\", \"Topic10\", \"Topic10\", \"Topic10\", \"Topic10\", \"Topic10\", \"Topic11\", \"Topic11\", \"Topic11\", \"Topic11\", \"Topic11\", \"Topic11\", \"Topic11\", \"Topic11\", \"Topic11\", \"Topic11\", \"Topic11\", \"Topic11\", \"Topic11\", \"Topic11\", \"Topic11\", \"Topic11\", \"Topic11\", \"Topic11\", \"Topic11\", \"Topic11\", \"Topic11\", \"Topic11\", \"Topic11\", \"Topic11\", \"Topic11\", \"Topic11\", \"Topic11\", \"Topic11\", \"Topic11\", \"Topic11\", \"Topic11\", \"Topic11\", \"Topic11\", \"Topic11\", \"Topic12\", \"Topic12\", \"Topic12\", \"Topic12\", \"Topic12\", \"Topic12\", \"Topic12\", \"Topic12\", \"Topic12\", \"Topic12\", \"Topic12\", \"Topic12\", \"Topic12\", \"Topic12\", \"Topic12\", \"Topic12\", \"Topic12\", \"Topic12\", \"Topic12\", \"Topic12\", \"Topic12\", \"Topic12\", \"Topic12\", \"Topic12\", \"Topic12\", \"Topic12\", \"Topic12\", \"Topic12\", \"Topic12\", \"Topic12\", \"Topic12\", \"Topic12\", \"Topic13\", \"Topic13\", \"Topic13\", \"Topic13\", \"Topic13\", \"Topic13\", \"Topic13\", \"Topic13\", \"Topic13\", \"Topic13\", \"Topic13\", \"Topic13\", \"Topic13\", \"Topic13\", \"Topic13\", \"Topic13\", \"Topic13\", \"Topic13\", \"Topic13\", \"Topic13\", \"Topic13\", \"Topic13\", \"Topic13\", \"Topic14\", \"Topic14\", \"Topic14\", \"Topic14\", \"Topic14\", \"Topic14\", \"Topic14\", \"Topic14\", \"Topic14\", \"Topic14\", \"Topic14\", \"Topic14\", \"Topic14\", \"Topic14\", \"Topic14\", \"Topic14\", \"Topic14\", \"Topic14\", \"Topic14\", \"Topic14\", \"Topic14\"], \"logprob\": [20.0, 19.0, 18.0, 17.0, 16.0, 15.0, 14.0, 13.0, 12.0, 11.0, 10.0, 9.0, 8.0, 7.0, 6.0, 5.0, 4.0, 3.0, 2.0, 1.0, -4.807, -4.8482, -5.1111, -5.1156, -5.1785, -5.3431, -5.421, -5.4319, -5.5435, -5.5548, -5.5653, -5.6224, -5.6228, -5.6424, -5.651, -5.6737, -5.679, -5.681, -5.6979, -5.7115, -5.5128, -5.5438, -5.342, -4.3735, -4.7728, -4.6774, -5.173, -5.3772, -5.1536, -4.706, -5.0137, -4.9979, -4.7551, -5.4041, -5.2885, -4.9308, -5.2636, -5.2555, -5.0169, -3.4897, -3.7071, -3.7148, -3.725, -3.7311, -3.7569, -4.3239, -4.3253, -4.328, -4.3763, -4.389, -4.4461, -4.4489, -4.4497, -4.4515, -4.4519, -4.4519, -4.4522, -4.454, -4.4576, -3.2262, -3.264, -2.6427, -3.6639, -4.2701, -3.2855, -2.84, -3.2582, -4.2723, -3.3734, -4.2839, -4.1395, -4.252, -4.3051, -4.174, -4.3147, -4.1208, -4.6662, -4.7664, -4.7877, -5.0358, -5.2392, -5.4001, -5.4097, -5.4978, -5.5596, -5.5747, -5.6537, -5.666, -5.6865, -5.8656, -5.9168, -6.0148, -6.0392, -6.1715, -4.6701, -4.7404, -4.6369, -4.866, -5.1114, -4.0861, -4.6866, -4.81, -5.0497, -4.5981, -4.5306, -4.4239, -4.7728, -4.8381, -4.7445, -4.4565, -4.1963, -4.6482, -4.4362, -4.6952, -4.6994, -4.6336, -4.7599, -5.0332, -5.1953, -5.2401, -5.2436, -5.2653, -5.3034, -5.3309, -5.3316, -5.3473, -5.3496, -5.3532, -5.5009, -5.5265, -5.6064, -5.6645, -5.6765, -5.7472, -5.8233, -4.7179, -4.339, -4.1897, -5.4299, -4.7662, -4.6128, -4.9967, -4.8298, -5.095, -5.1236, -5.1312, -4.6486, -5.233, -5.1783, -5.2037, -4.7342, -4.5823, -5.0952, -5.0441, -3.4231, -3.8692, -4.6136, -4.6283, -5.3805, -5.4621, -5.4972, -5.5253, -5.5417, -5.5513, -5.5961, -5.6339, -5.685, -5.7103, -5.7104, -5.734, -5.76, -5.9124, -5.9857, -6.0109, -3.1559, -3.4105, -4.0974, -4.9309, -3.5921, -4.8019, -4.3452, -5.1031, -4.1181, -3.8395, -3.9887, -4.9811, -4.4093, -4.8478, -4.4801, -4.0885, -3.8165, -4.1532, -4.419, -4.5971, -4.6491, -5.116, -5.3309, -5.4282, -5.5406, -5.827, -5.8438, -6.0204, -6.1737, -6.3047, -6.3125, -6.329, -6.3458, -6.4598, -6.4612, -6.4626, -6.4646, -6.4646, -6.4647, -6.4802, -6.5114, -2.3818, -0.5276, -3.5823, -3.9852, -4.7198, -3.92, -4.3277, -4.8307, -5.3585, -6.118, -5.3694, -5.5351, -5.4473, -5.7806, -3.7217, -3.7368, -3.7561, -3.7561, -3.8724, -4.2788, -4.4085, -4.4207, -4.4232, -4.4465, -4.4491, -4.4491, -4.4491, -4.4491, -4.4491, -4.5188, -4.5292, -4.5403, -4.552, -5.2385, -2.7569, -3.8437, -3.7041, -2.8693, -4.29, -4.2568, -3.6587, -4.401, -4.2551, -4.4029, -4.392, -4.3269, -4.389, -4.3903, -4.3891, -2.5058, -3.5797, -3.7274, -3.9142, -4.0575, -4.1327, -4.1327, -4.3498, -4.5336, -4.5396, -4.6335, -4.6457, -4.7193, -4.8002, -4.8087, -4.8087, -4.8253, -4.8253, -4.8253, -4.8253, -2.7835, -3.5782, -3.8563, -3.5619, -3.9273, -3.9686, -3.8843, -3.8516, -4.3211, -4.4499, -4.4832, -2.1969, -3.8203, -4.164, -4.5532, -4.6191, -4.6248, -4.6671, -4.7225, -4.7648, -4.8543, -4.8602, -4.9084, -4.9558, -5.0104, -5.0246, -5.1053, -5.1612, -5.2179, -5.2184, -5.2495, -3.1749, -3.9213, -3.7155, -1.4017, -4.8705, -3.6264, -3.9556, -4.0465, -4.2066, -4.3898, -4.5549, -4.5737, -4.6007, -4.6149, -4.6405, -4.6649, -4.6971, -4.7084, -4.7371, -4.7668, -4.7683, -4.7844, -4.8078, -4.8618, -4.8972, -3.4055, -3.4192, -2.7834, -4.2223, -4.1793, -4.0467, -4.3152, -4.6197, -4.5965, -2.1062, -3.2799, -3.6345, -4.0705, -4.2125, -4.4186, -4.7024, -5.0189, -5.0189, -5.0189, -5.0189, -5.0189, -5.0214, -5.0214, -5.0993, -5.1087, -5.2019, -5.2354, -5.301, -5.5971, -3.6535, -4.8663, -4.4446, -3.8161, -3.8104, -4.1491, -4.0741, -4.6252, -4.1382, -4.5139, -4.6881, -4.5759, -4.5563, -4.6791, -2.8334, -2.8434, -3.5816, -3.8813, -4.0528, -4.2656, -4.301, -4.4048, -4.5653, -4.602, -4.7196, -4.7757, -4.7794, -4.8831, -5.0133, -5.1283, -5.1325, -5.1681, -5.2544, -5.328, -3.4869, -4.4021, -3.6362, -3.548, -4.3443, -3.711, -4.0317, -3.1289, -3.8887, -4.3661, -4.1085, -4.4765, -3.2072, -3.241, -3.8287, -3.8863, -4.0908, -4.344, -4.4071, -4.4372, -4.8635, -4.928, -4.9391, -4.9954, -5.0145, -5.0675, -5.1681, -5.2872, -5.3456, -5.3541, -5.3648, -5.368, -3.0134, -4.0111, -5.235, -2.7189, -2.9917, -3.1852, -3.6327, -3.7216, -3.9671, -4.2613, -4.4727, -4.5804, -4.7646, -4.8875, -5.8318, -5.8913, -6.1735, -6.3956, -5.1264, -4.6242, -9.8768, -9.9127, -9.9213, -6.2573], \"loglift\": [20.0, 19.0, 18.0, 17.0, 16.0, 15.0, 14.0, 13.0, 12.0, 11.0, 10.0, 9.0, 8.0, 7.0, 6.0, 5.0, 4.0, 3.0, 2.0, 1.0, 1.3716, 1.3715, 1.3711, 1.3711, 1.3708, 1.3707, 1.3705, 1.3705, 1.3702, 1.3701, 1.3701, 1.37, 1.37, 1.3699, 1.3699, 1.3698, 1.3698, 1.3698, 1.3697, 1.3697, 1.3594, 1.3592, 1.3302, 1.1015, 1.1459, 1.0667, 1.2219, 1.2722, 1.1699, 0.7759, 0.768, 0.5809, 0.212, 1.1406, 0.8793, -0.2384, 0.7734, 0.6948, -1.0188, 1.3897, 1.3897, 1.3897, 1.3897, 1.3897, 1.3897, 1.3894, 1.3894, 1.3894, 1.3893, 1.3893, 1.3893, 1.3893, 1.3893, 1.3893, 1.3893, 1.3893, 1.3893, 1.3893, 1.3893, 1.3692, 1.3623, 1.3293, 1.345, 1.3737, 1.268, 1.1581, 1.1993, 1.3623, 1.0774, 1.3267, 1.1094, 1.1895, 1.2888, 0.5184, 1.7556, 1.7556, 1.7551, 1.7549, 1.7549, 1.7543, 1.7538, 1.7533, 1.7533, 1.7529, 1.7527, 1.7526, 1.7523, 1.7522, 1.7522, 1.7513, 1.751, 1.7504, 1.7498, 1.7493, 1.7452, 1.7153, 1.7034, 1.7007, 1.6911, 1.5961, 1.6512, 1.6483, 1.6639, 1.5817, 1.5484, 1.5242, 1.5165, 1.4863, 1.4137, 1.1553, 0.752, 1.0517, 0.2562, 1.1085, 1.1202, 1.796, 1.7958, 1.7952, 1.7948, 1.7947, 1.7947, 1.7946, 1.7945, 1.7944, 1.7944, 1.7943, 1.7943, 1.7943, 1.7938, 1.7937, 1.7934, 1.7931, 1.793, 1.7927, 1.7923, 1.7724, 1.7047, 1.681, 1.7656, 1.6746, 1.6458, 1.6692, 1.6109, 1.6696, 1.6293, 1.5927, 0.8332, 1.6582, 1.5361, 1.5758, -0.0418, -0.5842, 0.863, -0.077, 3.0775, 3.0765, 3.0735, 3.0734, 3.067, 3.066, 3.0656, 3.0652, 3.0649, 3.0648, 3.0641, 3.0636, 3.0628, 3.0623, 3.0623, 3.0619, 3.0615, 3.0586, 3.0571, 3.0565, 2.9541, 2.4977, 2.6263, 2.8271, 2.3541, 2.6105, 2.3662, 2.7403, 2.1699, 1.9449, 1.9816, 2.6474, 2.0633, 2.3993, 1.9552, 1.4904, 1.1317, 1.4586, 1.3948, 1.7368, 1.1326, 3.6742, 3.67, 3.6678, 3.665, 3.6564, 3.6558, 3.649, 3.6421, 3.6353, 3.6349, 3.634, 3.633, 3.6262, 3.6261, 3.626, 3.6259, 3.6259, 3.6259, 3.6249, 3.6228, 3.5751, 3.4401, 3.2331, 2.5246, 2.5848, 1.8617, 1.2841, 1.397, 1.5696, 3.1176, 0.601, 0.2787, -0.4991, 1.1097, 3.7513, 3.7513, 3.7512, 3.7512, 3.7505, 3.7477, 3.7465, 3.7464, 3.7464, 3.7462, 3.7461, 3.7461, 3.7461, 3.7461, 3.7461, 3.7454, 3.7453, 3.7452, 3.745, 3.7341, 3.479, 3.3999, 3.3167, 2.3296, 3.4933, 3.3485, 1.8443, 3.5855, 3.0771, 3.5458, 3.4816, 2.4845, 3.1841, 2.8441, 2.4661, 4.0733, 4.0696, 4.0687, 4.0674, 4.0661, 4.0654, 4.0654, 4.0631, 4.0606, 4.0606, 4.0591, 4.0589, 4.0577, 4.0562, 4.0561, 4.0561, 4.0558, 4.0558, 4.0558, 4.0558, 3.9933, 3.7443, 3.6511, 2.4751, 2.84, 2.7824, 2.4155, 1.9522, 1.6819, 1.7588, 0.484, 4.3629, 4.3554, 4.3516, 4.3455, 4.3442, 4.3441, 4.3432, 4.342, 4.341, 4.3388, 4.3387, 4.3374, 4.3361, 4.3345, 4.3341, 4.3315, 4.3297, 4.3277, 4.3276, 4.3265, 4.1296, 4.0314, 3.9252, 3.0491, 2.0576, 4.5061, 4.5026, 4.5014, 4.4991, 4.4959, 4.4924, 4.492, 4.4914, 4.4911, 4.4904, 4.4898, 4.489, 4.4887, 4.488, 4.4871, 4.4871, 4.4867, 4.486, 4.4844, 4.4833, 4.346, 3.9942, 3.5505, 4.2097, 2.9919, 1.8241, 1.429, 3.6597, 3.2469, 4.6122, 4.6074, 4.6045, 4.5992, 4.5969, 4.5929, 4.586, 4.5756, 4.5756, 4.5756, 4.5756, 4.5756, 4.5755, 4.5755, 4.5725, 4.5721, 4.568, 4.5665, 4.5633, 4.5463, 3.5101, 4.0978, 3.5783, 2.5178, 2.1357, 2.6994, 2.2257, 3.2831, 1.6462, 2.4673, 2.9867, 1.3744, 1.1437, 1.2912, 4.6563, 4.6563, 4.651, 4.6475, 4.6449, 4.6411, 4.6404, 4.6381, 4.6342, 4.6332, 4.6297, 4.628, 4.6278, 4.6243, 4.6192, 4.6142, 4.614, 4.6124, 4.6081, 4.6042, 4.2978, 4.3179, 3.2838, 3.0336, 3.6767, 2.6839, 2.9188, 0.8431, 2.2695, 3.4216, 2.1501, 3.5123, 5.8618, 5.861, 5.8417, 5.8391, 5.8289, 5.8131, 5.8085, 5.8063, 5.7665, 5.759, 5.7577, 5.7508, 5.7483, 5.7414, 5.7273, 5.7089, 5.6992, 5.6978, 5.6959, 5.6954, 5.3043, 2.6611, 2.652, 6.1175, 6.1117, 6.1064, 6.0898, 6.0856, 6.0718, 6.0506, 6.0314, 6.0202, 5.9982, 5.9814, 5.7779, 5.7596, 5.6621, 5.5723, 4.9331, 3.8758, 2.8893, 2.8482, 2.8465, 2.5449]}, \"token.table\": {\"Topic\": [9, 1, 4, 1, 3, 5, 5, 1, 2, 3, 9, 12, 7, 7, 9, 2, 6, 1, 4, 3, 3, 4, 14, 1, 14, 10, 10, 7, 1, 3, 3, 5, 8, 5, 5, 1, 3, 11, 10, 7, 13, 8, 8, 8, 14, 2, 2, 9, 1, 4, 5, 2, 3, 4, 1, 2, 4, 3, 13, 3, 5, 11, 6, 13, 13, 13, 6, 10, 1, 3, 4, 7, 4, 7, 1, 3, 4, 5, 11, 3, 8, 9, 6, 11, 10, 1, 6, 13, 1, 3, 1, 9, 12, 1, 14, 1, 2, 4, 5, 6, 7, 6, 12, 13, 1, 11, 1, 4, 11, 1, 2, 3, 4, 4, 7, 7, 4, 1, 4, 12, 14, 3, 11, 1, 5, 10, 11, 1, 5, 6, 7, 13, 1, 11, 2, 4, 9, 1, 3, 5, 7, 11, 4, 6, 4, 4, 11, 1, 4, 8, 3, 13, 4, 8, 8, 1, 3, 5, 8, 11, 12, 8, 2, 5, 5, 6, 4, 12, 1, 4, 3, 7, 5, 7, 1, 2, 2, 1, 5, 12, 1, 3, 4, 12, 5, 1, 11, 11, 11, 1, 9, 4, 7, 7, 14, 1, 3, 5, 6, 9, 12, 2, 3, 4, 12, 2, 8, 7, 2, 9, 8, 8, 11, 14, 1, 3, 10, 10, 6, 1, 4, 11, 8, 5, 9, 10, 4, 8, 3, 1, 12, 3, 5, 1, 5, 2, 1, 3, 5, 8, 1, 3, 4, 8, 5, 1, 3, 4, 5, 8, 12, 7, 1, 3, 5, 1, 1, 2, 7, 10, 1, 3, 4, 1, 3, 4, 1, 3, 4, 5, 1, 1, 10, 3, 3, 1, 2, 5, 7, 13, 6, 12, 12, 2, 6, 11, 5, 6, 1, 13, 6, 4, 1, 3, 4, 2, 1, 7, 1, 4, 7, 1, 4, 7, 1, 4, 5, 8, 12, 1, 14, 1, 3, 7, 1, 1, 5, 1, 4, 5, 7, 10, 6, 5, 10, 6, 14, 11, 2, 3, 11, 9, 3, 1, 4, 10, 1, 4, 10, 1, 3, 6, 9, 3, 5, 2, 3, 5, 6, 3, 8, 9, 4, 1, 3, 13, 6, 14, 12, 12, 8, 11, 2, 4, 3, 2, 1, 3, 5, 6, 11, 1, 2, 3, 4, 4, 1, 4, 8, 12, 11, 1, 4, 10, 3, 13, 1, 3, 5, 11, 5, 1, 3, 4, 5, 4, 2, 1, 2, 3, 4, 7, 1, 3, 4, 1, 10, 1, 2, 4, 6, 4, 1, 2, 3, 4, 8, 14, 13, 3, 1, 3, 4, 7, 8, 11, 1, 3, 4, 1, 5, 7, 12, 14, 3, 4, 12, 1, 6, 9, 4, 6, 9, 4, 5, 9, 1, 12, 3, 11, 6, 1, 2, 3, 9, 14, 12, 8, 4, 7, 1, 4, 10, 6, 8, 13, 12, 4, 1, 3, 5, 6, 7, 11, 1, 13, 4, 10, 1, 4, 1, 5, 7, 13, 14, 1, 1, 1, 4, 7, 8, 1, 3, 4, 12, 10, 4, 8, 3, 1, 1, 3, 5, 12, 7, 3, 7, 11, 1, 3, 4, 5, 6, 7, 12, 1, 4, 12, 1, 13, 7, 1, 5, 7, 12, 11, 1, 2, 5, 7, 8, 7, 1, 3, 12, 7, 9, 1, 11, 1, 3, 4, 11, 8, 12, 1, 2, 4, 7, 2, 1, 12, 14, 11, 4, 14, 12, 6, 5, 5, 10, 4, 1, 4, 9, 9, 5, 1, 3, 4, 5, 8, 3, 1, 4, 12, 2, 4, 1, 3, 5, 6, 1, 4, 5, 11, 10, 1, 2, 3, 1, 13, 10, 7, 4, 10, 7, 5, 10, 13, 2, 1, 1, 3, 5, 6, 10, 14, 3, 4, 7, 12, 9, 5, 1, 4, 1, 3, 4, 1, 7, 9, 1, 5, 7, 1, 4, 7, 1, 3, 12, 11, 3, 5, 6, 11, 12, 1, 1, 3, 12, 2, 10, 1, 3, 4, 5, 8, 11, 10, 9, 1, 3, 5, 8, 8, 14, 1, 8, 3, 1, 7, 10, 8, 4, 8, 13, 12, 10, 3, 8, 5, 5, 11, 2, 13, 7, 13, 1, 11, 1, 4, 12, 10, 3, 7, 11, 2, 6, 8, 1, 3, 4, 9, 2, 1, 2, 3, 9, 1, 1, 2, 3, 4, 2], \"Freq\": [0.9804022046541984, 0.9980368942291945, 0.9966018633049889, 0.79185247292036, 0.13095234694290192, 0.07570682557636517, 0.9725833177080555, 0.9960567045414426, 0.9989136962228065, 0.9949861116696497, 0.9575058081001302, 0.9770575000621694, 0.9905599662755609, 0.9939897961917802, 0.9887948697240253, 0.10912372405102767, 0.8900403742911944, 0.02745738372828962, 0.968853397269648, 0.9965036091832292, 0.7823544044011562, 0.15647088088023123, 0.019558860110028903, 0.8818944403703319, 0.10120100135397252, 0.9912061791116228, 0.984772129749179, 0.9923487088427431, 0.15910080275629057, 0.8395408431157834, 0.41793632050003104, 0.5586920761088499, 0.02273746821373226, 0.9702809267712432, 0.9875464972923703, 0.3077675710942084, 0.35716236645500726, 0.3305651689530386, 0.9805647115379645, 0.9741110203025153, 0.9766395773885134, 0.9734916867723057, 0.9734916867723057, 0.9734916867723057, 0.9572214546570892, 0.9989239750887244, 0.9995404732576818, 0.9553921590031522, 0.05208422544967828, 0.8709639922418424, 0.07523277009397975, 0.9995525203539292, 0.9108896012818767, 0.08721283416528607, 0.058512573881532144, 0.903782053332314, 0.037163391519351496, 0.9979510766942262, 0.8516163308611627, 0.362192552018189, 0.6362842130049267, 0.9503529344738953, 0.9776375125951065, 0.935548150511956, 0.9015695486893662, 0.9566702808237809, 0.9662334657536772, 0.9673118536961198, 0.5506452386477471, 0.01130978667312446, 0.3809984385508802, 0.0565489333656223, 0.33092441761709174, 0.6677581998344886, 0.18940631768846528, 0.38072583050509684, 0.05548265871682316, 0.32141678153194103, 0.051656268460490526, 0.34293229837457234, 0.6537146937765285, 0.9874401208590595, 0.9204123113703713, 0.9503529344738953, 0.9767661913798078, 0.4223664588078483, 0.573211622667794, 0.8198775718568977, 0.050033694533768526, 0.9473046165060175, 0.9971484086586911, 0.7193056198804322, 0.27601262158202633, 0.9960033502386255, 0.4636374026007736, 0.06033267533492081, 0.10496019549245243, 0.025190446918188586, 0.01757111420836611, 0.7776384261596365, 0.014150189318241736, 0.9221001796243844, 0.9554758029808463, 0.8336359434733199, 0.7280687318382597, 0.2640249247325557, 0.531879099046454, 0.34825417199470204, 0.11714003967094525, 0.09153602453072102, 0.7930450321426916, 0.023084391475348208, 0.09233756590139283, 0.24041968353729287, 0.7573220031424726, 0.9964497777557239, 0.9961498257011668, 0.6856911468316993, 0.11463567160653797, 0.19742810110014872, 0.6480884997603373, 0.9948177743687128, 0.9503529344738953, 0.23366981658807406, 0.2618427731979837, 0.3811635306046598, 0.12263522289019489, 0.34476267600890553, 0.6471860760167174, 0.935618975372844, 0.9924350600191099, 0.7420476484495379, 0.39090756930487186, 0.5978586354074511, 0.972581943310278, 0.02433708291879287, 0.002704120324310319, 0.5081610140217675, 0.22133235277392538, 0.12308789006305035, 0.10840768299131039, 0.039523634423915245, 0.9975476875903683, 0.9662969488282251, 0.9984320462861223, 0.9982796984616269, 0.9859256277849923, 0.1537094868308978, 0.8441422637434551, 0.9757511260693292, 0.9942040096622659, 0.9092484706387206, 0.9971310371309775, 0.9941452026012182, 0.9734916867723057, 0.11568725096899975, 0.25903884456102116, 0.22382968122262994, 0.27412848599176026, 0.07041832667678245, 0.055328685246043355, 0.9940606999069481, 0.9998289040712717, 0.9874117265181401, 0.9811550140261055, 0.9700892072997495, 0.9954360931009528, 0.9649823053506131, 0.227901855491783, 0.770987128153053, 0.14708010181910972, 0.8392217574384495, 0.8822850826261031, 0.11657820911576136, 0.015791286212248595, 0.9840464671211757, 0.9994066821136066, 0.22029969073829264, 0.777933282919596, 0.9671042765839849, 0.1292874465153618, 0.708995674439081, 0.06811919225002935, 0.09175238139799871, 0.9877786890748326, 0.9982222190027056, 0.9980234248264083, 0.9912006050880052, 0.9567185680484833, 0.20558793433632314, 0.791732257763287, 0.9956817924502444, 0.9913446791142355, 0.9913446791142355, 0.812373922792431, 0.529021301907029, 0.1907457088566189, 0.17882410205308022, 0.10133365783007879, 0.9830900751577277, 0.9602464776949701, 0.9410023176137395, 0.014525015027066851, 0.022334162891081286, 0.02202179697652071, 0.9990955630022699, 0.9974472218261329, 0.9932680005878143, 0.731567737606134, 0.2682246977301608, 0.9899817539388552, 0.9815744909801066, 0.9417259315082709, 0.9327895733275938, 0.7964525166527792, 0.1958310446165487, 0.006564169093292136, 0.9593565113523224, 0.922155300845142, 0.7680020776442507, 0.08317712032248202, 0.14694624590305158, 0.9917868844211204, 0.9960690488567253, 0.9460164446625725, 0.987035756367354, 0.996112544411435, 0.9942106631371768, 0.9993924038836298, 0.29695173528432084, 0.692887382330082, 0.9983250694372754, 0.981281592160964, 0.5076218589666117, 0.49070113033439133, 0.999609710954162, 0.3101432916150418, 0.5227572462442214, 0.04681408175321385, 0.11996108449261049, 0.024857777896057025, 0.4752222244834431, 0.40064889079527205, 0.09796888935504827, 0.9912843640823205, 0.40948547080411657, 0.3237792094730224, 0.06189896651690135, 0.09284844977535202, 0.09165808503464237, 0.019045835851354262, 0.9913446791142355, 0.24534047744628817, 0.3498080355847077, 0.4020418146539174, 0.9978569657807924, 0.02039112088828821, 0.9793564060917851, 0.150475596875793, 0.8412953825328426, 0.20682852997607049, 0.7632957653878791, 0.029546932853724357, 0.08651341012753715, 0.9000722092114922, 0.013309755404236484, 0.9981886577224489, 0.786120606628435, 0.18226586645618956, 0.030113490979718275, 0.9972502342757661, 0.25663523409325956, 0.7428914671120671, 0.9973198573094362, 0.9963640832509439, 0.9989644138109935, 0.9993498584061503, 0.1832825852434422, 0.8081095803915406, 0.9104270244651916, 0.9191733965054216, 0.9802651722752663, 0.9866802013061604, 0.6649516616227147, 0.33247583081135734, 0.9950337465020817, 0.9689563097982535, 0.9856242067251261, 0.43372124272200013, 0.5541993657003335, 0.9821012475202602, 0.9953585960923598, 0.6105373819560045, 0.037895423707614076, 0.3508835528482785, 0.999197737785229, 0.9987883040287113, 0.9913446791142355, 0.21172730723073485, 0.2174496668856196, 0.5665136058335879, 0.11216869168483708, 0.879504514347018, 0.007647865342147983, 0.7624313667461027, 0.12636983979217173, 0.09407532517861672, 0.016849311972289564, 0.9703757014014931, 0.6189025447635218, 0.27506779767267636, 0.43226173774709864, 0.1631176368856976, 0.3996382103699591, 0.9956267371956279, 0.9975383966724086, 0.9770653763162301, 0.735991680346692, 0.12863774687707477, 0.08728989966658644, 0.0018376820982439251, 0.04594205245609813, 0.9221001796243844, 0.9843201274470066, 0.968993574374846, 0.9221171141170771, 0.8851219311586329, 0.9799683906912726, 0.9993498584061503, 0.9887968847109349, 0.010786875105937472, 0.9735897390512789, 0.9984333473432374, 0.524464040219572, 0.2526615084269471, 0.21820766636872707, 0.05365340010440416, 0.3511858915924636, 0.5950649829761189, 0.10134485204932274, 0.8970896162884495, 0.9365631326621149, 0.9760068193986939, 0.8116851783697417, 0.18750955069933906, 0.475924385514328, 0.36606379129717037, 0.1426114883422725, 0.015339026362395588, 0.7081145144558318, 0.291426190064855, 0.9465362675423337, 0.9959906785697152, 0.05229063776724317, 0.9454147308317566, 0.7486555441765701, 0.9153578413945659, 0.9714888791809133, 0.9501391300137366, 0.9890995208199066, 0.992316160281826, 0.8975022821115866, 0.9725871450246694, 0.02717644012346663, 0.9915832884681153, 0.999372273875928, 0.5466308891035743, 0.1259254404217658, 0.1430970913883702, 0.16026874235497465, 0.024803495840650835, 0.056847504039120644, 0.8263190765686466, 0.101005833069509, 0.015734577010828036, 0.9963146932175571, 0.03534962629262583, 0.8591496129381669, 0.023054104103886412, 0.08145783450039865, 0.9617940402153201, 0.041713576472242886, 0.8895420182705795, 0.06778456176739468, 0.996279419608968, 0.9646524853038911, 0.004498282865680083, 0.427336872239608, 0.484689978777029, 0.08434280373150158, 0.9904736985590213, 0.45881218848581734, 0.09709303573766259, 0.07995897060748684, 0.36171915274815475, 0.9972994664795205, 0.9993864120303041, 0.044221587368924016, 0.9383016810824424, 0.01608057722506328, 0.2318375340725254, 0.7573359446369163, 0.04140056674550469, 0.15525212529564258, 0.8021359806941534, 0.9980966552825575, 0.9845580618654305, 0.1367873459568977, 0.1555620797156876, 0.07509893503515953, 0.6329767381534874, 0.9941374194272251, 0.3130658197008803, 0.4634726102724234, 0.04224909847515254, 0.15336422746480374, 0.027461914008849155, 0.6753323762969653, 0.9705319533697396, 0.9948563189553492, 0.2050102141551625, 0.2802874021652612, 0.1361395953374126, 0.09609853788523243, 0.19059543347237765, 0.0912936109909708, 0.3926489243870886, 0.2139652109703555, 0.3926489243870886, 0.5247488857476171, 0.14793452630118994, 0.27633053026071325, 0.05024191459285696, 0.9617827845657244, 0.2238798641038052, 0.39402856082269716, 0.37611817169439277, 0.7775711575317538, 0.12008820965741371, 0.0990727729673663, 0.9962948720786132, 0.9781871978793357, 0.9908152360712684, 0.4914839394994453, 0.5080044080540485, 0.9660855604612252, 0.6763723997741802, 0.3208433178415983, 0.9984560850827562, 0.984982192842859, 0.9708688055032773, 0.005307730690901739, 0.8849942541461425, 0.10950686478070955, 0.9753311001713495, 0.9450558751873577, 0.963669271527084, 0.9911414312414121, 0.49016727646729563, 0.5081550664293982, 0.8167317158085534, 0.18204261135491853, 0.9780630614064093, 0.9515828591015599, 0.9785975256702845, 0.7506405266169006, 0.9600315111563782, 0.9970646817593254, 0.27173110050500376, 0.222588241903035, 0.35845379215553685, 0.0751596660971287, 0.026016807495159933, 0.04336134582526656, 0.9576291243739389, 0.03951382309309942, 0.5681788166656622, 0.4290329840128469, 0.11433577607292875, 0.883336076434401, 0.14492698735606369, 0.20750909553254573, 0.6455838527679201, 0.9210484559853588, 0.9780292213595897, 0.9958282304520499, 0.997371838013097, 0.17623185145883813, 0.8150723129971263, 0.007342993810784922, 0.9939029342749639, 0.11973837005158251, 0.039912790017194166, 0.6631663572087646, 0.1750022331523129, 0.9738855583639825, 0.8800429476747101, 0.11780102449189032, 0.9954888874087211, 0.9977744996584561, 0.46220027141024217, 0.17240803774826494, 0.32464066682386056, 0.0403508173453386, 0.9913566078483522, 0.7185679494271175, 0.28048191334515743, 0.9886597130592627, 0.4049125630047383, 0.2108303856034404, 0.04039273742869652, 0.18521547894134013, 0.03251122768651184, 0.09556330562398933, 0.029555661533192577, 0.9043057576790275, 0.0931571257910556, 0.9423082545488027, 0.9555781527444253, 0.03916303904690267, 0.988810016082174, 0.34109618660605184, 0.6237187412224948, 0.029236815994804443, 0.9364476082799013, 0.9503529344738953, 0.10546284703097432, 0.5709907677636589, 0.0633842363468987, 0.24022092934833036, 0.01970770373811136, 0.9964497777557239, 0.032755809956064225, 0.7116944163181227, 0.25311307693322355, 0.9913446791142355, 0.9839317113720386, 0.6370175531528222, 0.35888312853680127, 0.04491137966488361, 0.8515888528764469, 0.08118595554805882, 0.021592009454270967, 0.2702353456559318, 0.7026118987054227, 0.01516080760448544, 0.7630939827591005, 0.07363820836464356, 0.14799835994854835, 0.9997895275620337, 0.8595177743678329, 0.1391432462603664, 0.9269984001912843, 0.978059683589829, 0.9953660752161464, 0.8581920860109415, 0.9687188059991234, 0.9179406897103323, 0.9956317417642698, 0.9863653689710488, 0.9670160760268101, 0.995296559271944, 0.042855575305437765, 0.3061112521816983, 0.6428336295815665, 0.9990923967306499, 0.9816723736306552, 0.45330168640379814, 0.3286826660866028, 0.0015577377539649421, 0.20406364576940741, 0.012461902031719537, 0.9965778659033208, 0.4184110007065246, 0.2836684750552709, 0.2907601869316527, 0.9557737136404415, 0.04360442288037037, 0.16340545876558657, 0.5481729922136179, 0.19801843771593247, 0.09015473587066844, 0.08801878358567512, 0.9111803652883269, 0.9814153591652889, 0.9503529344738953, 0.9762276951281268, 0.02579932145133651, 0.8181100618121183, 0.15547485821989634, 0.9981176137185579, 0.9098113329036669, 0.9851916727964427, 0.9932134076142054, 0.9981910708931818, 0.9746721000454279, 0.9949185068272293, 0.7123400385193123, 0.2849360154077249, 0.8729251114109688, 0.999641821295165, 0.9975967332054234, 0.11855082647296518, 0.38133849182137136, 0.16201946284638574, 0.312183843045475, 0.02568601240247579, 0.8335995993259527, 0.9938408812637052, 0.9966632186911853, 0.9936580863525366, 0.9820787766671133, 0.9752712965158281, 0.9940284514447228, 0.023254537971176967, 0.9747527166251679, 0.3854704540287731, 0.5291548134996525, 0.08521968906548712, 0.9866301237659996, 0.011710743308795247, 0.9879922419475548, 0.20578467281467017, 0.09054525603845488, 0.6996678875698786, 0.035035126852094284, 0.8297793201811803, 0.13460864527383593, 0.060901264658321276, 0.9373498995237274, 0.9516175465526328, 0.9764931920840163, 0.5679559233823235, 0.3340917196366609, 0.04492957608906819, 0.035713252788746506, 0.016128565775562938, 0.9966219080112542, 0.03930965262517806, 0.9602786569864927, 0.9848259928227464, 0.9992097721741833, 0.9833366509547166, 0.17582210702386308, 0.4940601207370553, 0.23648073394709587, 0.012307547491670416, 0.049230189966681666, 0.03076886872917604, 0.9781625819876502, 0.9704687211149896, 0.5492461241132587, 0.1773350714625768, 0.0714266260057601, 0.2019649424990458, 0.9942106631371768, 0.9431948457218142, 0.2761290253207306, 0.7170447270425423, 0.9964536711697224, 0.22594680286033064, 0.7696312972430013, 0.9764200098444523, 0.9785975256702845, 0.07742365211906985, 0.9213414602169312, 0.97862338618243, 0.9949596549319182, 0.985880836845455, 0.9923807288494862, 0.990798065856158, 0.9984233894129854, 0.9852628123796005, 0.9525749067294199, 0.9992517859278067, 0.7931725511605956, 0.9870228674971278, 0.8772447893786094, 0.7981824138656889, 0.19637821293520916, 0.9879543755303571, 0.011355797419889162, 0.9942932317918944, 0.9772344765399458, 0.9973434804172838, 0.9916407399238724, 0.9525749067294199, 0.9993793177338434, 0.9633430451273937, 0.9849753762117791, 0.03830602915179138, 0.7920334851090982, 0.16787053951814457, 0.9930711957341299, 0.9988465637310762, 0.029118242835929047, 0.7553944151090054, 0.21502702401916834, 0.9592977679947412, 0.9993528286476, 0.19965376242669894, 0.4182457434758661, 0.22308579563754946, 0.1588884443749453, 0.9996120755275432], \"Term\": [\"abstract\", \"accept\", \"acquisition\", \"address\", \"address\", \"address\", \"addressee\", \"affect\", \"aggressively_urge\", \"ago\", \"aircraft\", \"amendment\", \"analyst\", \"analyst_report\", \"anticipate\", \"aol\", \"aol\", \"application\", \"application\", \"appreciate\", \"approval\", \"approval\", \"approval\", \"approve\", \"approve\", \"arena\", \"around\", \"aside\", \"ask\", \"ask\", \"attach\", \"attach\", \"attach\", \"attached\", \"attachment\", \"attend\", \"attend\", \"attend\", \"attract\", \"author\", \"ave\", \"avg\", \"avg_notional\", \"avg_total\", \"azurix\", \"bankrupt\", \"bankruptcy\", \"barrier\", \"base\", \"base\", \"base\", \"basic\", \"believe\", \"believe\", \"benefit\", \"benefit\", \"benefit\", \"bit\", \"blank\", \"board\", \"board\", \"boardroom_video\", \"bracepatt\", \"brooking\", \"brookings_alert\", \"brookings_edu\", \"browser\", \"bulletin\", \"business\", \"business\", \"business\", \"business\", \"buy\", \"buy\", \"call\", \"call\", \"call\", \"call\", \"call\", \"candidate\", \"candidate\", \"car\", \"carlsonl_blackstone\", \"cdt_location\", \"cera\", \"chart\", \"chart\", \"chat\", \"circumstance\", \"circumstance\", \"click\", \"co\", \"co\", \"colleague\", \"colleen_parker\", \"com\", \"com\", \"com\", \"com\", \"com\", \"com\", \"com_jeanne_gile\", \"combination\", \"comm\", \"committee\", \"committee\", \"communication\", \"communication\", \"communication\", \"company\", \"company\", \"company\", \"company\", \"compaq\", \"compaq\", \"compaq_investor\", \"compelling\", \"complete\", \"complete\", \"complete\", \"concurrently\", \"conduct\", \"conf_call\", \"conference\", \"conference\", \"conference\", \"conference\", \"confirm\", \"confirm\", \"congressman\", \"conigliaro\", \"connecticut\", \"connection\", \"connection\", \"consumer\", \"consumer\", \"consumer\", \"contact\", \"contact\", \"contact\", \"contact\", \"contact\", \"content\", \"content_type\", \"contract\", \"contractual\", \"coordinator\", \"cost\", \"cost\", \"counterpartie\", \"course\", \"currently_subscribe\", \"customer\", \"daily\", \"daily_external\", \"date\", \"date\", \"date\", \"date\", \"date\", \"date\", \"day_traile\", \"declare\", \"delete\", \"dell\", \"depowell_cisco\", \"design\", \"desk\", \"development\", \"development\", \"distribute\", \"distribute\", \"doc\", \"doc\", \"dollar\", \"dollar\", \"donate\", \"draft\", \"draft\", \"draw\", \"due\", \"due\", \"due\", \"due\", \"earning\", \"economic\", \"ect\", \"ee\", \"ees_ee\", \"efficiency\", \"efficiency\", \"electricity\", \"elizabeth_davi\", \"elizabeth_davis\", \"ema\", \"email\", \"email\", \"email\", \"email\", \"embrace\", \"emission\", \"employee\", \"employee\", \"employee\", \"employee\", \"employee_transition\", \"employment\", \"endorse\", \"energy\", \"energy\", \"enrononline\", \"enrononline_executive\", \"enronxgate\", \"est\", \"event\", \"event\", \"event\", \"eventually\", \"excite\", \"executive\", \"executive\", \"executive\", \"executive_summary\", \"expansion\", \"expensive\", \"explore\", \"extended\", \"external_user\", \"family\", \"feedback\", \"feedback\", \"feel\", \"fellow\", \"file\", \"file\", \"financially_devastate\", \"find\", \"find\", \"find\", \"find\", \"first\", \"first\", \"first\", \"first\", \"fly\", \"follow\", \"follow\", \"follow\", \"follow\", \"follow\", \"follow\", \"following_item\", \"forward\", \"forward\", \"forward\", \"free\", \"fund\", \"fund\", \"gas\", \"gas\", \"get\", \"get\", \"get\", \"give\", \"give\", \"give\", \"goldman_sachs\", \"good\", \"good\", \"good\", \"government\", \"governor\", \"governor\", \"grateful\", \"half\", \"health\", \"help_repair\", \"herein\", \"herein\", \"hess\", \"hhk_sprintmail\", \"holiday\", \"hotel\", \"hotmail\", \"hotmail\", \"hou\", \"housing\", \"houston_rr\", \"htm\", \"htm\", \"i\", \"ignore\", \"include\", \"include\", \"include\", \"indeed\", \"independent\", \"independent_analyst\", \"individual\", \"individual\", \"individual\", \"industry\", \"industry\", \"industry\", \"information\", \"information\", \"information\", \"information\", \"input\", \"intention\", \"intention\", \"interested\", \"interested\", \"interested\", \"international\", \"investment\", \"iso\", \"issue\", \"issue\", \"issue\", \"issue\", \"issue\", \"jbneff_wellmanage\", \"jeff\", \"jet\", \"jstiglitz_brooking\", \"karen\", \"katherine\", \"keep_buye\", \"ken\", \"ken\", \"king\", \"know\", \"leader\", \"leader\", \"leader\", \"leadership\", \"leadership\", \"leadership\", \"leave\", \"leave\", \"len_shv\", \"length\", \"letter\", \"letter\", \"lie\", \"lie\", \"lie\", \"lie\", \"life\", \"life\", \"lift\", \"lighthouse_lhlink\", \"like\", \"like\", \"lindsay\", \"lliming_real\", \"lly_lilly\", \"lobby\", \"locker\", \"log\", \"lon_ect\", \"lose\", \"lose\", \"love\", \"low_income\", \"mail\", \"mail\", \"mail\", \"mail\", \"mail\", \"make\", \"make\", \"make\", \"make\", \"manage\", \"management\", \"management\", \"management\", \"management\", \"mark_frevert\", \"market\", \"market\", \"market\", \"matter\", \"measurement\", \"meeting\", \"meeting\", \"meeting\", \"meeting\", \"memo\", \"message\", \"message\", \"message\", \"message\", \"metal\", \"million\", \"money\", \"money\", \"money\", \"monitor\", \"monitor\", \"month\", \"month\", \"month\", \"multiple\", \"natural_gas\", \"net\", \"net\", \"net\", \"net\", \"network\", \"new\", \"new\", \"new\", \"new\", \"new\", \"nonlilly\", \"noon\", \"notice\", \"number\", \"number\", \"number\", \"number\", \"number\", \"number\", \"offer\", \"offer\", \"offer\", \"open\", \"open\", \"open\", \"open\", \"opic\", \"option\", \"option\", \"option\", \"org\", \"org\", \"org\", \"org_tii\", \"original_message\", \"outlook\", \"paper\", \"paper\", \"parent\", \"participation\", \"participation\", \"pass\", \"passcode\", \"paste\", \"pay\", \"pay\", \"pay\", \"peace\", \"pende\", \"pep\", \"percentage\", \"performance\", \"performance\", \"period\", \"period\", \"perspective\", \"pfizer\", \"physical_flow\", \"placement\", \"plane\", \"plant\", \"pm\", \"pm\", \"pm\", \"pm\", \"pm\", \"pm\", \"policy\", \"policy\", \"possibility\", \"possibility\", \"power\", \"power\", \"prepare\", \"prepare\", \"prepare\", \"press_book\", \"press_release\", \"pressure\", \"prevent\", \"price\", \"price\", \"price\", \"print\", \"process\", \"process\", \"process\", \"process\", \"producer\", \"product\", \"product\", \"prudent\", \"public\", \"question\", \"question\", \"question\", \"question\", \"ramp\", \"read\", \"read\", \"rebecca\", \"receive\", \"receive\", \"receive\", \"receive\", \"receive\", \"receive\", \"receive\", \"recent\", \"recent\", \"reflect\", \"reform\", \"reform\", \"relations_department\", \"release\", \"release\", \"release\", \"rely\", \"remote_location\", \"report\", \"report\", \"report\", \"report\", \"report\", \"reports_provide\", \"request\", \"request\", \"request\", \"research_analyst\", \"reservation\", \"reserve\", \"reserve\", \"response\", \"response\", \"response\", \"response\", \"responsibility\", \"responsibility\", \"result\", \"result\", \"result\", \"result\", \"retirement\", \"review\", \"review\", \"ribozyme\", \"rick_buy\", \"risk\", \"river\", \"rob_wall\", \"robg_real\", \"room\", \"rosalee_fleme\", \"safe\", \"sale\", \"save\", \"save\", \"save\", \"saving\", \"season\", \"see\", \"see\", \"see\", \"see\", \"see\", \"seem\", \"select\", \"select\", \"select\", \"sell\", \"sell\", \"send\", \"send\", \"send\", \"send\", \"service\", \"service\", \"shea_dugg\", \"sherri_sera\", \"shoot\", \"sincerely\", \"sincerely\", \"sincerely\", \"situation\", \"social_security\", \"society\", \"solely\", \"solution\", \"solve\", \"spread\", \"stay\", \"stay\", \"stephen_hess\", \"stock\", \"stress\", \"subject\", \"subject\", \"subject\", \"subject\", \"subject\", \"substance\", \"suggest\", \"sun\", \"sunw\", \"survey\", \"sustainable\", \"swbell_net\", \"system\", \"system\", \"take\", \"take\", \"take\", \"target\", \"target\", \"teacher\", \"tech\", \"tech\", \"tech\", \"technology\", \"technology\", \"technology\", \"tell\", \"tell\", \"template\", \"th_floor\", \"thank\", \"thank\", \"thank\", \"thank\", \"thank\", \"therefore\", \"think\", \"think\", \"thought\", \"thousand\", \"tight\", \"time\", \"time\", \"time\", \"time\", \"time\", \"time\", \"timely\", \"tip\", \"today\", \"today\", \"today\", \"today\", \"today_average\", \"tonight\", \"total\", \"total\", \"totally\", \"track\", \"track\", \"trader\", \"transact\", \"transaction\", \"transaction\", \"transcript\", \"trigger\", \"trip\", \"try\", \"un_wire\", \"unable\", \"unfortunately\", \"upon_requ\", \"urge\", \"usa\", \"verify\", \"victor\", \"video\", \"video\", \"visit\", \"visit\", \"voluntary\", \"walk\", \"want\", \"weakness\", \"weekly_dial\", \"wipe\", \"wise\", \"woman\", \"work\", \"work\", \"work\", \"workshop\", \"worth\", \"write\", \"write\", \"write\", \"writer\", \"www\", \"year\", \"year\", \"year\", \"year\", \"york_time\"]}, \"R\": 20, \"lambda.step\": 0.01, \"plot.opts\": {\"xlab\": \"PC1\", \"ylab\": \"PC2\"}, \"topic.order\": [4, 9, 1, 7, 11, 5, 3, 10, 6, 14, 2, 12, 13, 8]};\n",
       "\n",
       "function LDAvis_load_lib(url, callback){\n",
       "  var s = document.createElement('script');\n",
       "  s.src = url;\n",
       "  s.async = true;\n",
       "  s.onreadystatechange = s.onload = callback;\n",
       "  s.onerror = function(){console.warn(\"failed to load library \" + url);};\n",
       "  document.getElementsByTagName(\"head\")[0].appendChild(s);\n",
       "}\n",
       "\n",
       "if(typeof(LDAvis) !== \"undefined\"){\n",
       "   // already loaded: just create the visualization\n",
       "   !function(LDAvis){\n",
       "       new LDAvis(\"#\" + \"ldavis_el27721396215515509762266661755\", ldavis_el27721396215515509762266661755_data);\n",
       "   }(LDAvis);\n",
       "}else if(typeof define === \"function\" && define.amd){\n",
       "   // require.js is available: use it to load d3/LDAvis\n",
       "   require.config({paths: {d3: \"https://d3js.org/d3.v5\"}});\n",
       "   require([\"d3\"], function(d3){\n",
       "      window.d3 = d3;\n",
       "      LDAvis_load_lib(\"https://cdn.jsdelivr.net/gh/bmabey/pyLDAvis@3.3.1/pyLDAvis/js/ldavis.v3.0.0.js\", function(){\n",
       "        new LDAvis(\"#\" + \"ldavis_el27721396215515509762266661755\", ldavis_el27721396215515509762266661755_data);\n",
       "      });\n",
       "    });\n",
       "}else{\n",
       "    // require.js not available: dynamically load d3 & LDAvis\n",
       "    LDAvis_load_lib(\"https://d3js.org/d3.v5.js\", function(){\n",
       "         LDAvis_load_lib(\"https://cdn.jsdelivr.net/gh/bmabey/pyLDAvis@3.3.1/pyLDAvis/js/ldavis.v3.0.0.js\", function(){\n",
       "                 new LDAvis(\"#\" + \"ldavis_el27721396215515509762266661755\", ldavis_el27721396215515509762266661755_data);\n",
       "            })\n",
       "         });\n",
       "}\n",
       "</script>"
      ],
      "text/plain": [
       "<IPython.core.display.HTML object>"
      ]
     },
     "execution_count": 81,
     "metadata": {},
     "output_type": "execute_result"
    }
   ],
   "source": [
    "import pyLDAvis.gensim_models as gensimvis\n",
    "\n",
    "pyLDAvis.enable_notebook(sort=True)\n",
    "vis = gensimvis.prepare(lda_model, corpus, id2word, mds='mmds', R = 20)\n",
    "pyLDAvis.display(vis)"
   ]
  },
  {
   "cell_type": "code",
   "execution_count": 41,
   "metadata": {},
   "outputs": [
    {
     "name": "stdout",
     "output_type": "stream",
     "text": [
      "[(12, [('victor', 0.011020545), ('isb', 6.665284e-05), ('usmcoc', 6.665247e-05), ('chapter', 6.665247e-05), ('taevs', 6.665247e-05), ('pramath_sinha', 6.665234e-05), ('greagory', 6.665213e-05), ('membership', 6.665213e-05), ('gregory', 6.665213e-05), ('dispose', 6.665213e-05)]), (16, [('independent', 0.17310196), ('org_tii', 0.093758054), ('lighthouse_lhlink', 0.084375), ('see', 0.063407406), ('independent_institute', 0.0544814), ('html', 0.04935933), ('lighthouse', 0.047181293), ('review', 0.019605987), ('oakland_ca', 0.017677203), ('swan_way', 0.01751782)]), (7, [('azurix', 0.075350545), ('garrison', 0.038885985), ('opic', 5.971016e-05), ('cable', 5.970774e-05), ('duchess', 5.97077e-05), ('enroncredit', 5.970644e-05), ('william_lloyd', 5.970545e-05), ('nce', 5.9703023e-05), ('handling', 5.9703023e-05), ('arena', 5.9703023e-05)]), (15, [('investor_relation', 0.03229414), ('brochure', 0.01666224), ('arlene', 0.0026721049), ('friday_peer', 6.3935804e-05), ('memo', 6.392478e-05), ('true_blue', 6.3924665e-05), ('enroncredit', 6.392462e-05), ('rpi', 6.392448e-05), ('mostly', 6.392447e-05), ('italian', 6.392447e-05)]), (2, [('swbell_net', 0.10280129), ('survey', 0.07627576), ('houston_rr', 0.0429444), ('lobby', 0.027981445), ('convenience', 0.02571055), ('blockbuster', 0.02553223), ('net', 0.013917508), ('wise', 0.010634009), ('fortune', 0.010425887), ('tender', 0.008873387)]), (10, [('www', 0.026417457), ('policy', 0.025281971), ('unable', 0.025224246), ('energy', 0.023201428), ('new', 0.022471406), ('public', 0.018304026), ('state', 0.018048558), ('org', 0.01773631), ('pressure', 0.017695507), ('voluntary', 0.015968865)]), (8, [('year', 0.024270147), ('response', 0.017686706), ('take', 0.016377348), ('circumstance', 0.015195741), ('family', 0.014889026), ('work', 0.014632333), ('find', 0.013431729), ('pass', 0.012572495), ('concern', 0.012213689), ('employment', 0.011877239)]), (18, [('business', 0.015264829), ('market', 0.013809536), ('service', 0.011530512), ('company', 0.01126006), ('technology', 0.010034103), ('management', 0.00804027), ('content', 0.007793464), ('stress', 0.0077905706), ('power', 0.0077591385), ('new', 0.007565991)]), (19, [('employee', 0.09429299), ('company', 0.08421246), ('pay', 0.06270294), ('energy', 0.05092012), ('make', 0.050015986), ('fund', 0.047130868), ('consumer', 0.047059976), ('stock', 0.03447778), ('sell', 0.031326137), ('write', 0.029101096)]), (3, [('send', 0.015852554), ('event', 0.015091147), ('letter', 0.01499767), ('information', 0.014804448), ('due', 0.013045622), ('attach', 0.012333221), ('mail', 0.011993555), ('receive', 0.011598252), ('contact', 0.011311789), ('meeting', 0.010264695)])]\n"
     ]
    }
   ],
   "source": [
    "print(lda_model.show_topics(formatted=False))"
   ]
  },
  {
   "cell_type": "code",
   "execution_count": 47,
   "metadata": {},
   "outputs": [],
   "source": [
    "\n",
    "\n",
    "def compute_coherence_values(dictionary, corpus, texts, limit, start=2, step=3):\n",
    "    \"\"\"\n",
    "    Compute c_v coherence for various number of topics\n",
    "\n",
    "    Parameters:\n",
    "    ----------\n",
    "    dictionary : Gensim dictionary\n",
    "    corpus : Gensim corpus\n",
    "    texts : List of input texts\n",
    "    limit : Max num of topics\n",
    "\n",
    "    Returns:\n",
    "    -------\n",
    "    model_list : List of LDA topic models\n",
    "    coherence_values : Coherence values corresponding to the LDA model with respective number of topics\n",
    "    \"\"\"\n",
    "    coherence_values = []\n",
    "    model_list = []\n",
    "    for num_topics in range(start, limit, step):\n",
    "        model = gensim.models.ldamodel.LdaModel(corpus=corpus,\n",
    "                                           id2word=id2word,\n",
    "                                           num_topics=num_topics,\n",
    "                                           random_state=100,\n",
    "                                           update_every=1,\n",
    "                                           chunksize=100,\n",
    "                                           passes=10,\n",
    "                                           alpha='auto',\n",
    "                                           per_word_topics=True)\n",
    "        model_list.append(model)\n",
    "        coherencemodel = CoherenceModel(model=model, texts=texts, dictionary=dictionary, coherence='c_v')\n",
    "        coherence_values.append(coherencemodel.get_coherence())\n",
    "\n",
    "    return model_list, coherence_values\n",
    "\n"
   ]
  },
  {
   "cell_type": "code",
   "execution_count": 48,
   "metadata": {},
   "outputs": [],
   "source": [
    "model_list, coherence_values = compute_coherence_values(dictionary=id2word, corpus=corpus, texts=data_lemmatized, start=2, limit=40, step=6)"
   ]
  },
  {
   "cell_type": "code",
   "execution_count": 49,
   "metadata": {},
   "outputs": [],
   "source": [
    "import matplotlib.pyplot as plt"
   ]
  },
  {
   "cell_type": "code",
   "execution_count": 51,
   "metadata": {},
   "outputs": [
    {
     "data": {
      "image/png": "[encoded data removed]",
      "text/plain": [
       "<Figure size 432x288 with 1 Axes>"
      ]
     },
     "metadata": {
      "needs_background": "light"
     },
     "output_type": "display_data"
    }
   ],
   "source": [
    "# Show graph\n",
    "limit=40; start=2; step=6;\n",
    "x = range(start, limit, step)\n",
    "plt.plot(x, coherence_values)\n",
    "plt.xlabel(\"Num Topics\")\n",
    "plt.ylabel(\"Coherence score\")\n",
    "plt.legend((\"coherence_values\"), loc='best')\n",
    "plt.show()"
   ]
  },
  {
   "cell_type": "code",
   "execution_count": 64,
   "metadata": {},
   "outputs": [],
   "source": [
    "import joblib\n",
    "\n",
    "joblib.dump(lda_model, 'lda_model.jl')\n",
    "# then reload it with\n",
    "lda_model = joblib.load('lda_model.jl')"
   ]
  },
  {
   "cell_type": "code",
   "execution_count": 52,
   "metadata": {},
   "outputs": [
    {
     "name": "stdout",
     "output_type": "stream",
     "text": [
      "Num Topics = 2  has Coherence Value of 0.5745\n",
      "Num Topics = 8  has Coherence Value of 0.4649\n",
      "Num Topics = 14  has Coherence Value of 0.4942\n",
      "Num Topics = 20  has Coherence Value of 0.4807\n",
      "Num Topics = 26  has Coherence Value of 0.4481\n",
      "Num Topics = 32  has Coherence Value of 0.4687\n",
      "Num Topics = 38  has Coherence Value of 0.4585\n"
     ]
    }
   ],
   "source": [
    "for m, cv in zip(x, coherence_values):\n",
    "    print(\"Num Topics =\", m, \" has Coherence Value of\", round(cv, 4))"
   ]
  },
  {
   "cell_type": "code",
   "execution_count": 60,
   "metadata": {},
   "outputs": [
    {
     "name": "stdout",
     "output_type": "stream",
     "text": [
      "[(24, '0.093*\"wedding\" + 0.054*\"skille\" + 0.028*\"rsvp\" + 0.025*\"upset\" + 0.014*\"scenic\" + 0.000*\"wpo_org\" + 0.000*\"band\" + 0.000*\"images_admin\" + 0.000*\"photographer\" + 0.000*\"enewsletter_spacer\"'), (12, '0.066*\"entry\" + 0.053*\"paste\" + 0.044*\"stadium\" + 0.020*\"ban\" + 0.018*\"fortune\" + 0.017*\"viewer\" + 0.011*\"victor\" + 0.010*\"placement\" + 0.000*\"kudlow\" + 0.000*\"boc\"'), (2, '0.106*\"swbell_net\" + 0.044*\"houston_rr\" + 0.035*\"bulletin\" + 0.033*\"lng\" + 0.029*\"mena_petroleum\" + 0.026*\"blockbuster\" + 0.022*\"entertainment\" + 0.021*\"selection\" + 0.020*\"smi\" + 0.018*\"vp\"'), (16, '0.192*\"independent\" + 0.066*\"org_tii\" + 0.059*\"lighthouse_lhlink\" + 0.057*\"see\" + 0.038*\"independent_institute\" + 0.035*\"org\" + 0.035*\"html\" + 0.033*\"lighthouse\" + 0.032*\"public\" + 0.025*\"book\"'), (20, '0.091*\"transaction\" + 0.044*\"daily\" + 0.039*\"total\" + 0.038*\"day_traile\" + 0.031*\"enrononline\" + 0.029*\"number\" + 0.028*\"date\" + 0.027*\"log\" + 0.027*\"today\" + 0.025*\"external_user\"'), (1, '0.159*\"ect\" + 0.049*\"hou\" + 0.033*\"attend\" + 0.027*\"conference\" + 0.025*\"video\" + 0.024*\"meeting\" + 0.022*\"th_floor\" + 0.021*\"number\" + 0.020*\"call\" + 0.019*\"passcode\"'), (15, '0.143*\"protection\" + 0.140*\"code\" + 0.078*\"utility\" + 0.055*\"plant\" + 0.047*\"capacity\" + 0.039*\"summer\" + 0.035*\"electric\" + 0.033*\"amendment\" + 0.025*\"legislative\" + 0.023*\"peak\"'), (21, '0.152*\"yahoo\" + 0.068*\"http\" + 0.054*\"reservation\" + 0.045*\"free\" + 0.032*\"car\" + 0.029*\"sorry\" + 0.027*\"photo\" + 0.022*\"take_care\" + 0.019*\"privilege\" + 0.014*\"accuracy\"'), (7, '0.072*\"attach\" + 0.065*\"release\" + 0.055*\"press_release\" + 0.045*\"azurix\" + 0.043*\"morning\" + 0.034*\"see\" + 0.030*\"issue\" + 0.029*\"tomorrow\" + 0.026*\"announcement\" + 0.026*\"approve\"'), (22, '0.094*\"thought\" + 0.077*\"stay\" + 0.058*\"hotel\" + 0.031*\"fly\" + 0.026*\"regular\" + 0.025*\"jet\" + 0.024*\"film\" + 0.024*\"airline\" + 0.018*\"epa\" + 0.018*\"plane\"'), (25, '0.154*\"meeting\" + 0.066*\"board\" + 0.053*\"half\" + 0.042*\"meet\" + 0.030*\"invite\" + 0.029*\"member\" + 0.026*\"msn\" + 0.024*\"join\" + 0.022*\"dinner\" + 0.019*\"tfa\"'), (10, '0.032*\"www\" + 0.026*\"economic\" + 0.022*\"policy\" + 0.022*\"health\" + 0.021*\"event\" + 0.018*\"pressure\" + 0.017*\"voluntary\" + 0.017*\"new\" + 0.015*\"issue\" + 0.014*\"government\"'), (5, '0.447*\"energy\" + 0.170*\"bankruptcy\" + 0.092*\"saving\" + 0.014*\"consumer\" + 0.013*\"earning\" + 0.013*\"new\" + 0.012*\"effort\" + 0.009*\"workshop\" + 0.009*\"outlook\" + 0.008*\"report\"'), (14, '0.386*\"lie\" + 0.123*\"totally\" + 0.101*\"unable\" + 0.079*\"rosalee\" + 0.043*\"write\" + 0.013*\"assistance\" + 0.012*\"arrange\" + 0.010*\"season\" + 0.007*\"rosalee_fleme\" + 0.007*\"dial\"'), (8, '0.038*\"year\" + 0.029*\"family\" + 0.023*\"work\" + 0.019*\"leave\" + 0.017*\"employment\" + 0.015*\"feel\" + 0.014*\"support\" + 0.014*\"response\" + 0.013*\"help\" + 0.013*\"concern\"'), (11, '0.035*\"response\" + 0.032*\"due\" + 0.028*\"receive\" + 0.027*\"information\" + 0.026*\"send\" + 0.024*\"contact\" + 0.020*\"attach\" + 0.018*\"follow\" + 0.018*\"mail\" + 0.018*\"period\"'), (18, '0.015*\"business\" + 0.012*\"market\" + 0.010*\"service\" + 0.009*\"technology\" + 0.008*\"company\" + 0.008*\"tech\" + 0.008*\"issue\" + 0.007*\"management\" + 0.007*\"content\" + 0.007*\"power\"'), (19, '0.036*\"know\" + 0.027*\"letter\" + 0.024*\"see\" + 0.021*\"ken\" + 0.018*\"like\" + 0.016*\"thank\" + 0.016*\"good\" + 0.016*\"think\" + 0.016*\"go\" + 0.015*\"want\"'), (0, '0.105*\"employee\" + 0.099*\"company\" + 0.067*\"pay\" + 0.059*\"make\" + 0.051*\"fund\" + 0.048*\"consumer\" + 0.037*\"stock\" + 0.035*\"sell\" + 0.034*\"write\" + 0.027*\"year\"'), (3, '0.037*\"sincerely\" + 0.037*\"circumstance\" + 0.036*\"donate\" + 0.021*\"update\" + 0.018*\"care\" + 0.016*\"behalf\" + 0.014*\"affect\" + 0.014*\"conclude\" + 0.014*\"bit\" + 0.014*\"prevent\"')]\n"
     ]
    }
   ],
   "source": [
    "optimal_model = model_list[4]\n",
    "model_topics = optimal_model.show_topics(formatted=False)\n",
    "print(optimal_model.print_topics(num_words=10))"
   ]
  },
  {
   "cell_type": "code",
   "execution_count": null,
   "metadata": {},
   "outputs": [],
   "source": [
    "num_topics = 14\n",
    "num_word = 10\n",
    "\n",
    "list_ = lda_model.print_topic(num_topics, num_word)\n",
    "topic_words =[]\n",
    "\n",
    "for i in range(0, len[list_]"
   ]
  },
  {
   "cell_type": "code",
   "execution_count": 61,
   "metadata": {},
   "outputs": [],
   "source": [
    "def format_topics_sentences(ldamodel=lda_model, corpus=corpus, texts=data):\n",
    "    # Init output\n",
    "    sent_topics_df = pd.DataFrame()\n",
    "\n",
    "    # Get main topic in each document\n",
    "    for i, row in enumerate(ldamodel[corpus]):\n",
    "        print(row[1])\n",
    "        row = sorted(row, key=lambda x: (x[1]), reverse=True)\n",
    "        # Get the Dominant topic, Perc Contribution and Keywords for each document\n",
    "        for j, (topic_num, prop_topic) in enumerate(row):\n",
    "            if j == 0:  # => dominant topic\n",
    "                wp = ldamodel.show_topic(topic_num)\n",
    "                topic_keywords = \", \".join([word for word, prop in wp])\n",
    "                sent_topics_df = sent_topics_df.append(pd.Series([int(topic_num), round(prop_topic,4), topic_keywords]), ignore_index=True)\n",
    "            else:\n",
    "                break\n",
    "    sent_topics_df.columns = ['Dominant_Topic', 'Perc_Contribution', 'Topic_Keywords']\n",
    "\n",
    "    # Add original text to the end of the output\n",
    "    contents = pd.Series(texts)\n",
    "    sent_topics_df = pd.concat([sent_topics_df, contents], axis=1)\n",
    "    return(sent_topics_df)"
   ]
  },
  {
   "cell_type": "code",
   "execution_count": 62,
   "metadata": {},
   "outputs": [
    {
     "name": "stdout",
     "output_type": "stream",
     "text": [
      "[(0, []), (1, [11, 18]), (2, []), (3, [11, 18]), (4, [18])]\n"
     ]
    },
    {
     "ename": "TypeError",
     "evalue": "'<' not supported between instances of 'int' and 'tuple'",
     "output_type": "error",
     "traceback": [
      "\u001b[0;31m---------------------------------------------------------------------------\u001b[0m",
      "\u001b[0;31mTypeError\u001b[0m                                 Traceback (most recent call last)",
      "\u001b[1;32m/home/dilsad/Desktop/BeCode/Enron_UseCase_Clustering/main.ipynb Cell 40'\u001b[0m in \u001b[0;36m<cell line: 1>\u001b[0;34m()\u001b[0m\n\u001b[0;32m----> <a href='vscode-notebook-cell:/home/dilsad/Desktop/BeCode/Enron_UseCase_Clustering/main.ipynb#ch0000037?line=0'>1</a>\u001b[0m df_topic_sents_keywords \u001b[39m=\u001b[39m format_topics_sentences(ldamodel\u001b[39m=\u001b[39;49moptimal_model, corpus\u001b[39m=\u001b[39;49mcorpus, texts\u001b[39m=\u001b[39;49mdata)\n",
      "\u001b[1;32m/home/dilsad/Desktop/BeCode/Enron_UseCase_Clustering/main.ipynb Cell 39'\u001b[0m in \u001b[0;36mformat_topics_sentences\u001b[0;34m(ldamodel, corpus, texts)\u001b[0m\n\u001b[1;32m      <a href='vscode-notebook-cell:/home/dilsad/Desktop/BeCode/Enron_UseCase_Clustering/main.ipynb#ch0000036?line=5'>6</a>\u001b[0m \u001b[39mfor\u001b[39;00m i, row \u001b[39min\u001b[39;00m \u001b[39menumerate\u001b[39m(ldamodel[corpus]):\n\u001b[1;32m      <a href='vscode-notebook-cell:/home/dilsad/Desktop/BeCode/Enron_UseCase_Clustering/main.ipynb#ch0000036?line=6'>7</a>\u001b[0m     \u001b[39mprint\u001b[39m(row[\u001b[39m1\u001b[39m])\n\u001b[0;32m----> <a href='vscode-notebook-cell:/home/dilsad/Desktop/BeCode/Enron_UseCase_Clustering/main.ipynb#ch0000036?line=7'>8</a>\u001b[0m     row \u001b[39m=\u001b[39m \u001b[39msorted\u001b[39;49m(row, key\u001b[39m=\u001b[39;49m\u001b[39mlambda\u001b[39;49;00m x: (x[\u001b[39m1\u001b[39;49m]), reverse\u001b[39m=\u001b[39;49m\u001b[39mTrue\u001b[39;49;00m)\n\u001b[1;32m      <a href='vscode-notebook-cell:/home/dilsad/Desktop/BeCode/Enron_UseCase_Clustering/main.ipynb#ch0000036?line=8'>9</a>\u001b[0m     \u001b[39m# Get the Dominant topic, Perc Contribution and Keywords for each document\u001b[39;00m\n\u001b[1;32m     <a href='vscode-notebook-cell:/home/dilsad/Desktop/BeCode/Enron_UseCase_Clustering/main.ipynb#ch0000036?line=9'>10</a>\u001b[0m     \u001b[39mfor\u001b[39;00m j, (topic_num, prop_topic) \u001b[39min\u001b[39;00m \u001b[39menumerate\u001b[39m(row):\n",
      "\u001b[0;31mTypeError\u001b[0m: '<' not supported between instances of 'int' and 'tuple'"
     ]
    }
   ],
   "source": [
    "df_topic_sents_keywords = format_topics_sentences(ldamodel=optimal_model, corpus=corpus, texts=data)"
   ]
  },
  {
   "cell_type": "code",
   "execution_count": 63,
   "metadata": {},
   "outputs": [
    {
     "ename": "NameError",
     "evalue": "name 'df_topic_sents_keywords' is not defined",
     "output_type": "error",
     "traceback": [
      "\u001b[0;31m---------------------------------------------------------------------------\u001b[0m",
      "\u001b[0;31mNameError\u001b[0m                                 Traceback (most recent call last)",
      "\u001b[1;32m/home/dilsad/Desktop/BeCode/Enron_UseCase_Clustering/main.ipynb Cell 41'\u001b[0m in \u001b[0;36m<cell line: 1>\u001b[0;34m()\u001b[0m\n\u001b[0;32m----> <a href='vscode-notebook-cell:/home/dilsad/Desktop/BeCode/Enron_UseCase_Clustering/main.ipynb#ch0000038?line=0'>1</a>\u001b[0m df_dominant_topic \u001b[39m=\u001b[39m df_topic_sents_keywords\u001b[39m.\u001b[39mreset_index()\n\u001b[1;32m      <a href='vscode-notebook-cell:/home/dilsad/Desktop/BeCode/Enron_UseCase_Clustering/main.ipynb#ch0000038?line=1'>2</a>\u001b[0m df_dominant_topic\u001b[39m.\u001b[39mcolumns \u001b[39m=\u001b[39m [\u001b[39m'\u001b[39m\u001b[39mDocument_No\u001b[39m\u001b[39m'\u001b[39m, \u001b[39m'\u001b[39m\u001b[39mDominant_Topic\u001b[39m\u001b[39m'\u001b[39m, \u001b[39m'\u001b[39m\u001b[39mTopic_Perc_Contrib\u001b[39m\u001b[39m'\u001b[39m, \u001b[39m'\u001b[39m\u001b[39mKeywords\u001b[39m\u001b[39m'\u001b[39m, \u001b[39m'\u001b[39m\u001b[39mText\u001b[39m\u001b[39m'\u001b[39m]\n",
      "\u001b[0;31mNameError\u001b[0m: name 'df_topic_sents_keywords' is not defined"
     ]
    }
   ],
   "source": [
    "df_dominant_topic = df_topic_sents_keywords.reset_index()\n",
    "df_dominant_topic.columns = ['Document_No', 'Dominant_Topic', 'Topic_Perc_Contrib', 'Keywords', 'Text']"
   ]
  },
  {
   "cell_type": "code",
   "execution_count": null,
   "metadata": {},
   "outputs": [],
   "source": []
  }
 ],
 "metadata": {
  "interpreter": {
   "hash": "31f2aee4e71d21fbe5cf8b01ff0e069b9275f58929596ceb00d14d90e3e16cd6"
  },
  "kernelspec": {
   "display_name": "Python 3.8.10 64-bit",
   "language": "python",
   "name": "python3"
  },
  "language_info": {
   "codemirror_mode": {
    "name": "ipython",
    "version": 3
   },
   "file_extension": ".py",
   "mimetype": "text/x-python",
   "name": "python",
   "nbconvert_exporter": "python",
   "pygments_lexer": "ipython3",
   "version": "3.8.10"
  },
  "orig_nbformat": 4
 },
 "nbformat": 4,
 "nbformat_minor": 2
}
